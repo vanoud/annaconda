{
 "cells": [
  {
   "cell_type": "markdown",
   "metadata": {
    "application/vnd.databricks.v1+cell": {
     "inputWidgets": {},
     "nuid": "7991ab8f-61c4-44a9-bc8c-b57867925b2d",
     "showTitle": false,
     "title": ""
    }
   },
   "source": [
    "# Les boucles\n",
    " \n",
    " Elles permettent de répéter une série d'instructions"
   ]
  },
  {
   "cell_type": "markdown",
   "metadata": {
    "application/vnd.databricks.v1+cell": {
     "inputWidgets": {},
     "nuid": "ea04bebc-2ba7-45c2-b4e0-d32521cc9f56",
     "showTitle": false,
     "title": ""
    }
   },
   "source": [
    "## La boucle while\n",
    "\n",
    "La boucle while permet d'effectuer des instructions en boucle tant que la condition est vraie. La boucle s'arrête quand la condition n'est plus vérifiée.\n",
    "\n",
    "\n",
    "**IMPORTANT : Toujours faire attention de ne pas créer une boucle infinie ! Cela consommera énormément de ressources matérielles !**"
   ]
  },
  {
   "cell_type": "code",
   "execution_count": 1,
   "metadata": {
    "application/vnd.databricks.v1+cell": {
     "inputWidgets": {},
     "nuid": "e7f11660-6d78-413c-a526-4891b358bf7b",
     "showTitle": false,
     "title": ""
    }
   },
   "outputs": [
    {
     "name": "stdout",
     "output_type": "stream",
     "text": [
      "0\n",
      "1\n",
      "2\n",
      "3\n",
      "4\n"
     ]
    }
   ],
   "source": [
    "i = 0\n",
    "\n",
    "while i < 5:\n",
    "    print(i)\n",
    "    i+=1"
   ]
  },
  {
   "cell_type": "markdown",
   "metadata": {
    "application/vnd.databricks.v1+cell": {
     "inputWidgets": {},
     "nuid": "fd107f12-ce8b-49fe-87c2-5c6e283a7b92",
     "showTitle": false,
     "title": ""
    }
   },
   "source": [
    "### TP 19: Parcourir un tableau Partie 1\n",
    "\n",
    "> La cellule suivante permet la récupération de données. Nous verrons dans la suite de la formation comment le faire.\n",
    "\n",
    "1. Pour chaque ligne de la liste `info_piece`, écrire un message sous la forme:\n",
    "  ```\n",
    "  la CAF <numéro de la caf>, à la date du <date> a reçu <nombre de pièces>\n",
    "  ```\n",
    "  sachant que:\n",
    "  * La première colonne correspond au numéro de CAF\n",
    "  * La seconde à la date\n",
    "  * Et la troisième au nombre de pièces.\n",
    "2. TransformeZ votre code en fonction `affichage_while` prenant en paramètre la liste `info_piece`."
   ]
  },
  {
   "cell_type": "code",
   "execution_count": 21,
   "metadata": {
    "application/vnd.databricks.v1+cell": {
     "inputWidgets": {},
     "nuid": "2c667939-51dd-4674-acb6-c30e1c03f05b",
     "showTitle": false,
     "title": ""
    }
   },
   "outputs": [],
   "source": [
    "data = []\n",
    "for row in spark.sql(\"SELECT numéro_caf, date_jour, nombre_pièces_total FROM formation.arrivées LIMIT 10\").collect():\n",
    "    num, date, nbp = tuple(row)\n",
    "    data.append((num, str(date), nbp))\n",
    "print(data)"
   ]
  },
  {
   "cell_type": "code",
   "execution_count": 14,
   "metadata": {
    "application/vnd.databricks.v1+cell": {
     "inputWidgets": {},
     "nuid": "5df09d15-b99a-43fb-8f13-f6d86395b84d",
     "showTitle": false,
     "title": ""
    }
   },
   "outputs": [],
   "source": [
    "info_piece = [\n",
    "    ('049', '2021-06-21 00:00:00', 768), \n",
    "    ('049', '2021-06-22 00:00:00', 108), \n",
    "    ('049', '2021-06-23 00:00:00', 74), \n",
    "    ('049', '2021-07-07 00:00:00', 113), \n",
    "    ('050', '2019-01-15 00:00:00', 154), \n",
    "    ('050', '2019-02-18 00:00:00', 75), \n",
    "    ('050', '2019-03-13 00:00:00', 4894), \n",
    "    ('051', '2019-05-22 00:00:00', 7), \n",
    "    ('052', '2019-03-05 00:00:00', 85), \n",
    "\n",
    "    ('053', '2019-02-15 00:00:00', 35)]"
   ]
  },
  {
   "cell_type": "code",
   "execution_count": 2,
   "metadata": {},
   "outputs": [
    {
     "name": "stdout",
     "output_type": "stream",
     "text": [
      "le numero est 049la date est : 2021-06-21 00:00:00montant 768euros\n",
      "le numero est 049la date est : 2021-06-22 00:00:00montant 108euros\n",
      "le numero est 049la date est : 2021-06-23 00:00:00montant 74euros\n",
      "le numero est 049la date est : 2021-07-07 00:00:00montant 113euros\n",
      "le numero est 050la date est : 2019-01-15 00:00:00montant 154euros\n",
      "le numero est 050la date est : 2019-02-18 00:00:00montant 75euros\n",
      "le numero est 050la date est : 2019-03-13 00:00:00montant 4894euros\n",
      "le numero est 051la date est : 2019-05-22 00:00:00montant 7euros\n",
      "le numero est 052la date est : 2019-03-05 00:00:00montant 85euros\n",
      "le numero est 053la date est : 2019-02-15 00:00:00montant 35euros\n"
     ]
    }
   ],
   "source": [
    "info_piece = [\n",
    "    ('049', '2021-06-21 00:00:00', 768), \n",
    "    ('049', '2021-06-22 00:00:00', 108), \n",
    "    ('049', '2021-06-23 00:00:00', 74), \n",
    "    ('049', '2021-07-07 00:00:00', 113), \n",
    "    ('050', '2019-01-15 00:00:00', 154), \n",
    "    ('050', '2019-02-18 00:00:00', 75), \n",
    "    ('050', '2019-03-13 00:00:00', 4894), \n",
    "    ('051', '2019-05-22 00:00:00', 7), \n",
    "    ('052', '2019-03-05 00:00:00', 85), \n",
    "    ('053', '2019-02-15 00:00:00', 35)]\n",
    "\n",
    "def affichage_while(info_piece):\n",
    "\n",
    "    for row in info_piece:\n",
    "\n",
    "        num, date, nbp = tuple(row)#ici on stock le tableau dans infopiece et on lui attribue les var num date nbp\n",
    "        # print(row)\n",
    "        # ou alors pour les valeurs individuelle\n",
    "        print(\"le numero est \" + str(num) + \"la date est : \" + str(date) + \"montant \" + str(nbp) + \"euros\" )\n",
    "    \n",
    "        \n",
    "        # data.append((num, str(date), nbp))\n",
    "affichage_while(info_piece)"
   ]
  },
  {
   "cell_type": "markdown",
   "metadata": {
    "application/vnd.databricks.v1+cell": {
     "inputWidgets": {},
     "nuid": "c3ad2825-1a3d-4719-b5e4-c9b715f5a395",
     "showTitle": false,
     "title": ""
    }
   },
   "source": [
    "## La boucle for\n",
    "\n",
    "La boucle for permet d'effectuer des instructions en boucle un nombre de fois donné. Elle s'utilise souvent pour les parcours de tableau/liste/tuple/dictionnaire."
   ]
  },
  {
   "cell_type": "markdown",
   "metadata": {
    "application/vnd.databricks.v1+cell": {
     "inputWidgets": {},
     "nuid": "0657c35b-9fbc-481f-87dc-ba8bc92480d1",
     "showTitle": false,
     "title": ""
    }
   },
   "source": [
    "### For sur une collection"
   ]
  },
  {
   "cell_type": "code",
   "execution_count": 4,
   "metadata": {
    "application/vnd.databricks.v1+cell": {
     "inputWidgets": {},
     "nuid": "0e280ab7-a2cc-4c2f-b8db-9eeb7e037906",
     "showTitle": false,
     "title": ""
    }
   },
   "outputs": [
    {
     "name": "stdout",
     "output_type": "stream",
     "text": [
      "i a pour valeur 0\n",
      "i a pour valeur 1\n",
      "i a pour valeur 2\n",
      "i a pour valeur 3\n"
     ]
    }
   ],
   "source": [
    "for i in [0, 1, 2, 3]:\n",
    "    print(\"i a pour valeur\", i)"
   ]
  },
  {
   "cell_type": "code",
   "execution_count": 5,
   "metadata": {
    "application/vnd.databricks.v1+cell": {
     "inputWidgets": {},
     "nuid": "d6231660-a6b9-4292-b2db-38f6dd5d86b6",
     "showTitle": false,
     "title": ""
    }
   },
   "outputs": [
    {
     "name": "stdout",
     "output_type": "stream",
     "text": [
      "i a pour valeur 1\n",
      "i a pour valeur 2\n",
      "i a pour valeur 3\n",
      "i a pour valeur 4\n"
     ]
    }
   ],
   "source": [
    "for i in (1, 2, 3, 4):\n",
    "    print(\"i a pour valeur\", i)"
   ]
  },
  {
   "cell_type": "code",
   "execution_count": 6,
   "metadata": {
    "application/vnd.databricks.v1+cell": {
     "inputWidgets": {},
     "nuid": "d813f61e-cfed-4b7f-a172-fb90d6a61749",
     "showTitle": false,
     "title": ""
    }
   },
   "outputs": [
    {
     "name": "stdout",
     "output_type": "stream",
     "text": [
      "a 1\n",
      "b B\n",
      "c 3\n"
     ]
    }
   ],
   "source": [
    "mon_dict = {\"a\":1, \"b\":\"B\", \"c\":3}\n",
    "for i in mon_dict:\n",
    "    print(i, mon_dict[i])"
   ]
  },
  {
   "cell_type": "markdown",
   "metadata": {
    "application/vnd.databricks.v1+cell": {
     "inputWidgets": {},
     "nuid": "0c42cd18-bbc5-4f33-becc-480c21a2e3d0",
     "showTitle": false,
     "title": ""
    }
   },
   "source": [
    "### For avec le générateur range"
   ]
  },
  {
   "cell_type": "code",
   "execution_count": 7,
   "metadata": {
    "application/vnd.databricks.v1+cell": {
     "inputWidgets": {},
     "nuid": "9b9e72b3-ba20-417f-ae96-a1b04c7627b8",
     "showTitle": false,
     "title": ""
    }
   },
   "outputs": [
    {
     "name": "stdout",
     "output_type": "stream",
     "text": [
      "k a pour valeur 0\n",
      "k a pour valeur 1\n",
      "k a pour valeur 2\n",
      "k a pour valeur 3\n"
     ]
    }
   ],
   "source": [
    "for k in range(4):\n",
    "    print(\"k a pour valeur\", k)\n"
   ]
  },
  {
   "cell_type": "code",
   "execution_count": 8,
   "metadata": {
    "application/vnd.databricks.v1+cell": {
     "inputWidgets": {},
     "nuid": "4b75a34b-9f67-4acf-a97e-5ec0afbc7227",
     "showTitle": false,
     "title": ""
    }
   },
   "outputs": [
    {
     "name": "stdout",
     "output_type": "stream",
     "text": [
      "k a pour valeur 3\n",
      "k a pour valeur 4\n",
      "k a pour valeur 5\n",
      "k a pour valeur 6\n",
      "k a pour valeur 7\n",
      "k a pour valeur 8\n"
     ]
    }
   ],
   "source": [
    "for k in range(3, 9):\n",
    "    print(\"k a pour valeur\", k)"
   ]
  },
  {
   "cell_type": "code",
   "execution_count": 9,
   "metadata": {
    "application/vnd.databricks.v1+cell": {
     "inputWidgets": {},
     "nuid": "de04113a-9ea4-4b78-a6ff-0b973f0c13ea",
     "showTitle": false,
     "title": ""
    }
   },
   "outputs": [
    {
     "name": "stdout",
     "output_type": "stream",
     "text": [
      "k a pour valeur 3\n",
      "k a pour valeur 5\n",
      "k a pour valeur 7\n"
     ]
    }
   ],
   "source": [
    "for k in range(3, 9, 2):\n",
    "    print(\"k a pour valeur\", k)"
   ]
  },
  {
   "cell_type": "markdown",
   "metadata": {
    "application/vnd.databricks.v1+cell": {
     "inputWidgets": {},
     "nuid": "d84a2dbb-34d5-456a-a40d-a1f2807f65db",
     "showTitle": false,
     "title": ""
    }
   },
   "source": [
    "### For avec enumerate\n",
    "Le générateur enumerate permet de retourner l'index et la valeur de chaque élément d'une collection."
   ]
  },
  {
   "cell_type": "code",
   "execution_count": 12,
   "metadata": {
    "application/vnd.databricks.v1+cell": {
     "inputWidgets": {},
     "nuid": "3392b766-87b5-4367-bb0d-e620319bae79",
     "showTitle": false,
     "title": ""
    }
   },
   "outputs": [
    {
     "name": "stdout",
     "output_type": "stream",
     "text": [
      "0 Adrien\n",
      "1 Vossough\n",
      "2 Databricks\n"
     ]
    }
   ],
   "source": [
    "une_liste = [\"Adrien\", \"Vossough\", \"Databricks\"]\n",
    "for i, val in enumerate(une_liste):\n",
    "    print(i,val)\n",
    "\n",
    "#ici val dans cette exemple peut permettre d'isoler un element du tableau (la valeur) pour recupére uniquement la value et non la key + value"
   ]
  },
  {
   "cell_type": "code",
   "execution_count": 13,
   "metadata": {
    "application/vnd.databricks.v1+cell": {
     "inputWidgets": {},
     "nuid": "05d779c7-8c63-4f22-a498-bfb2970334f1",
     "showTitle": false,
     "title": ""
    }
   },
   "outputs": [
    {
     "name": "stdout",
     "output_type": "stream",
     "text": [
      "\n",
      "=== Boucle sur une liste ==\n",
      "\n",
      "n vaut 0 et une_liste[n] vaut Adrien\n",
      "n vaut 1 et une_liste[n] vaut Vossough\n",
      "n vaut 2 et une_liste[n] vaut Databricks\n",
      "0 Adrien\n",
      "1 Vossough\n",
      "2 Databricks\n"
     ]
    }
   ],
   "source": [
    "    \n",
    "print(\"\\n=== Boucle sur une liste ==\\n\")\n",
    "\n",
    "une_liste = [\"Adrien\", \"Vossough\", \"Databricks\"]\n",
    "for n in range(len(une_liste)): #n est incrementation de l'index on callcul la longeur de la liste avec len pour bouclé dessus\n",
    "    print(f\"n vaut {n} et une_liste[n] vaut {une_liste[n]}\")\n",
    "    \n",
    "for i, val in enumerate(une_liste):\n",
    "    print(i,val)"
   ]
  },
  {
   "cell_type": "markdown",
   "metadata": {
    "application/vnd.databricks.v1+cell": {
     "inputWidgets": {},
     "nuid": "a738287f-5254-4f11-9c5b-a1513ef5b428",
     "showTitle": false,
     "title": ""
    }
   },
   "source": [
    "### TP 19.2: Parcourir un tableau Partie 2\n",
    "Reprendre le [TP 19.1]() en utilisant des boucles `for`"
   ]
  },
  {
   "cell_type": "code",
   "execution_count": 6,
   "metadata": {
    "application/vnd.databricks.v1+cell": {
     "inputWidgets": {},
     "nuid": "cbed37cb-b233-42ea-a9ac-68f47463404d",
     "showTitle": false,
     "title": ""
    }
   },
   "outputs": [
    {
     "name": "stdout",
     "output_type": "stream",
     "text": [
      "le numero est 049 la date est : 2021-06-21 00:00:00 montant 768 euros\n",
      "le numero est 049 la date est : 2021-06-22 00:00:00 montant 108 euros\n",
      "le numero est 049 la date est : 2021-06-23 00:00:00 montant 74 euros\n",
      "le numero est 049 la date est : 2021-07-07 00:00:00 montant 113 euros\n",
      "le numero est 050 la date est : 2019-01-15 00:00:00 montant 154 euros\n",
      "le numero est 050 la date est : 2019-02-18 00:00:00 montant 75 euros\n",
      "le numero est 050 la date est : 2019-03-13 00:00:00 montant 4894 euros\n",
      "le numero est 051 la date est : 2019-05-22 00:00:00 montant 7 euros\n",
      "le numero est 052 la date est : 2019-03-05 00:00:00 montant 85 euros\n",
      "le numero est 053 la date est : 2019-02-15 00:00:00 montant 35 euros\n"
     ]
    }
   ],
   "source": [
    "info_piece = [\n",
    "    ('049', '2021-06-21 00:00:00', 768), \n",
    "    ('049', '2021-06-22 00:00:00', 108), \n",
    "    ('049', '2021-06-23 00:00:00', 74), \n",
    "    ('049', '2021-07-07 00:00:00', 113), \n",
    "    ('050', '2019-01-15 00:00:00', 154), \n",
    "    ('050', '2019-02-18 00:00:00', 75), \n",
    "    ('050', '2019-03-13 00:00:00', 4894), \n",
    "    ('051', '2019-05-22 00:00:00', 7), \n",
    "    ('052', '2019-03-05 00:00:00', 85), \n",
    "    ('053', '2019-02-15 00:00:00', 35)]\n",
    "\n",
    "def affichage_while(info_piece):\n",
    "\n",
    "    for row in info_piece:\n",
    "\n",
    "        num, date, nbp = tuple(row)#ici on stock le tableau dans infopiece et on lui attribue les var num date nbp\n",
    "        # print(row)\n",
    "        # ou alors pour les valeurs individuelle\n",
    "        print(\"le numero est \" + str(num) + \" la date est : \" + str(date) + \" montant \" + str(nbp) + \" euros\" )\n",
    "    \n",
    "        \n",
    "        # data.append((num, str(date), nbp))\n",
    "affichage_while(info_piece)"
   ]
  },
  {
   "cell_type": "markdown",
   "metadata": {
    "application/vnd.databricks.v1+cell": {
     "inputWidgets": {},
     "nuid": "7cd1c933-43bf-463c-b5d8-c89568780508",
     "showTitle": false,
     "title": ""
    }
   },
   "source": [
    "## Les instructions break et continue\n",
    "\n",
    "L’instruction break permet de sortir d’une boucle (while ou for) selon une condition.\n",
    "\n",
    "L'instruction continue permet de passer au tour suivant d'une boucle.\n",
    "\n",
    "Vocabulaire : Un tour de boucle est appelé \"itération\""
   ]
  },
  {
   "cell_type": "code",
   "execution_count": 34,
   "metadata": {
    "application/vnd.databricks.v1+cell": {
     "inputWidgets": {},
     "nuid": "ad13e006-f6e8-4634-b518-f7872efa7838",
     "showTitle": false,
     "title": ""
    }
   },
   "outputs": [
    {
     "name": "stdout",
     "output_type": "stream",
     "text": [
      "début itération 0\n",
      "bonjour\n",
      "fin itération 0\n",
      "début itération 1\n",
      "bonjour\n",
      "fin itération 1\n",
      "début itération 2\n",
      "bonjour\n",
      "après la boucle\n"
     ]
    }
   ],
   "source": [
    "# exemple avec break\n",
    "for i in range(10):\n",
    "    print(\"début itération\", i)\n",
    "    print(\"bonjour\")\n",
    "    if i == 2:\n",
    "        break\n",
    "    print(\"fin itération\", i)\n",
    "\n",
    "print(\"après la boucle\")"
   ]
  },
  {
   "cell_type": "code",
   "execution_count": null,
   "metadata": {
    "application/vnd.databricks.v1+cell": {
     "inputWidgets": {},
     "nuid": "cca6f5e9-4616-4063-a2da-f70b1a4cab89",
     "showTitle": false,
     "title": ""
    }
   },
   "outputs": [
    {
     "data": {
      "text/plain": [
       "debut iteration 0\n",
       "bonjour\n",
       "debut iteration 1\n",
       "bonjour\n",
       "debut iteration 2\n",
       "bonjour\n",
       "fin iteration 2\n",
       "debut iteration 3\n",
       "bonjour\n",
       "fin iteration 3\n",
       "apres la boucle\n"
      ]
     },
     "metadata": {
      "application/vnd.databricks.v1+output": {
       "addedWidgets": {},
       "arguments": {},
       "data": "debut iteration 0\nbonjour\ndebut iteration 1\nbonjour\ndebut iteration 2\nbonjour\nfin iteration 2\ndebut iteration 3\nbonjour\nfin iteration 3\napres la boucle\n",
       "datasetInfos": [],
       "metadata": {},
       "removedWidgets": [],
       "type": "ansi"
      }
     },
     "output_type": "display_data"
    }
   ],
   "source": [
    "# exemple avec continue\n",
    "\n",
    "for i in range(4):\n",
    "    print(\"début itération\", i)\n",
    "    print(\"bonjour\")\n",
    "    if i < 2:\n",
    "        continue\n",
    "    print(\"fin itération\", i)\n",
    "\n",
    "print(\"après la boucle\")"
   ]
  },
  {
   "cell_type": "markdown",
   "metadata": {
    "application/vnd.databricks.v1+cell": {
     "inputWidgets": {},
     "nuid": "e6be1959-be47-488d-b579-adf297028be5",
     "showTitle": false,
     "title": ""
    }
   },
   "source": [
    "## TP 20 : filtrage\n",
    "Ecrire une fonction `filtre_caf` qui prend en paramètre un numéro de CAF et une liste d'info_piece et retourne une liste contenant uniquement les info_piece de cette CAF."
   ]
  },
  {
   "cell_type": "code",
   "execution_count": 21,
   "metadata": {
    "application/vnd.databricks.v1+cell": {
     "inputWidgets": {},
     "nuid": "fa794c80-2cab-45ee-b5ba-b5fb19b8ea1d",
     "showTitle": false,
     "title": ""
    }
   },
   "outputs": [],
   "source": [
    "info_piece = [\n",
    "    ('049', '2021-06-21 00:00:00', 768), \n",
    "    ('049', '2021-06-22 00:00:00', 108), \n",
    "    ('049', '2021-06-23 00:00:00', 74), \n",
    "    ('049', '2021-07-07 00:00:00', 113), \n",
    "    ('050', '2019-01-15 00:00:00', 154), \n",
    "    ('050', '2019-02-18 00:00:00', 75), \n",
    "    ('050', '2019-03-13 00:00:00', 4894), \n",
    "    ('051', '2019-05-22 00:00:00', 7), \n",
    "    ('052', '2019-03-05 00:00:00', 85), \n",
    "    ('053', '2019-02-15 00:00:00', 35)]\n"
   ]
  },
  {
   "cell_type": "code",
   "execution_count": 28,
   "metadata": {},
   "outputs": [
    {
     "name": "stdout",
     "output_type": "stream",
     "text": [
      "la liste des caf demandés 50 date :2019-01-15 00:00:00 154 euros\n",
      "la liste des caf demandés 50 date :2019-02-18 00:00:00 75 euros\n",
      "la liste des caf demandés 50 date :2019-03-13 00:00:00 4894 euros\n"
     ]
    }
   ],
   "source": [
    "\n",
    "def filtre_caf(num_caf,liste_caf):\n",
    "    \n",
    "    for i in liste_caf:\n",
    "        num, date, nbp = tuple(i) \n",
    "        # je stock var tuple je met dans ma boucle pour recupérer les valeurs de la condition\n",
    "        if num_caf == int(num):\n",
    "            print(\"la liste des caf demandés \" + str(num) + \" date :\" + str(date) + \" \" + str(nbp) + \" euros\")\n",
    "\n",
    "            \n",
    "filtre_caf(50,info_piece)"
   ]
  },
  {
   "cell_type": "markdown",
   "metadata": {
    "application/vnd.databricks.v1+cell": {
     "inputWidgets": {},
     "nuid": "7980418c-189e-408d-bc53-5da61c293680",
     "showTitle": false,
     "title": ""
    }
   },
   "source": [
    "## TP 21 : Maximum"
   ]
  },
  {
   "cell_type": "markdown",
   "metadata": {
    "application/vnd.databricks.v1+cell": {
     "inputWidgets": {},
     "nuid": "50b92746-b131-4940-af30-ec752f1329af",
     "showTitle": false,
     "title": ""
    }
   },
   "source": [
    "### TP 21.1: Le maximum\n",
    "Ecrire une fonction `maximum_piece` qui prend en paramètre la liste d'info_piece et qui retourne le tuple contenant le plus de pièces."
   ]
  },
  {
   "cell_type": "code",
   "execution_count": 42,
   "metadata": {
    "application/vnd.databricks.v1+cell": {
     "inputWidgets": {},
     "nuid": "eadb94fe-d359-4dcd-ba6e-ab77a630f04a",
     "showTitle": false,
     "title": ""
    }
   },
   "outputs": [
    {
     "name": "stdout",
     "output_type": "stream",
     "text": [
      "('50', '2019-03-13 00:00:00', 4894)\n"
     ]
    }
   ],
   "source": [
    "def maximum_piece(liste_caf):\n",
    "    \n",
    "    max_var = max(liste_caf)\n",
    "    print(max_var)\n",
    "#     for i in liste_caf:\n",
    "#         num, date, nbp = tuple(i)\n",
    "        \n",
    "#          convert = int(nbp)\n",
    "#          print(max(convert))\n",
    "        \n",
    "#         print(max(int(nbp)))\n",
    "        \n",
    "maximum_piece(info_piece)"
   ]
  },
  {
   "cell_type": "markdown",
   "metadata": {
    "application/vnd.databricks.v1+cell": {
     "inputWidgets": {},
     "nuid": "c0fafcbc-343a-46c3-8567-ac6a0f444d60",
     "showTitle": false,
     "title": ""
    }
   },
   "source": [
    "### TP 21.2: Le Top ⭐⭐⭐ (difficile)\n",
    "Ecrire une fonction `top_piece` qui prend en paramètre une liste d'info_piece ainsi qu'un nombre `n` et qui retourne les `n` tuples contenant le plus de pièces."
   ]
  },
  {
   "cell_type": "code",
   "execution_count": 3,
   "metadata": {
    "application/vnd.databricks.v1+cell": {
     "inputWidgets": {},
     "nuid": "bd112653-e6d1-40fc-901f-9bf52e0dda34",
     "showTitle": false,
     "title": ""
    }
   },
   "outputs": [
    {
     "name": "stdin",
     "output_type": "stream",
     "text": [
      "entrer un nombre 5\n"
     ]
    },
    {
     "name": "stdout",
     "output_type": "stream",
     "text": [
      "4894\n",
      "768\n",
      "154\n",
      "113\n",
      "108\n"
     ]
    }
   ],
   "source": [
    "# import numpy si pas de solution pour faire ça en objet \n",
    "info_piece = [\n",
    "    ('049', '2021-06-21 00:00:00', 768), \n",
    "    ('049', '2021-06-22 00:00:00', 108), \n",
    "    ('049', '2021-06-23 00:00:00', 74), \n",
    "    ('049', '2021-07-07 00:00:00', 113), \n",
    "    ('050', '2019-01-15 00:00:00', 154), \n",
    "    ('050', '2019-02-18 00:00:00', 75), \n",
    "    ('050', '2019-03-13 00:00:00', 4894), \n",
    "    ('051', '2019-05-22 00:00:00', 7), \n",
    "    ('052', '2019-03-05 00:00:00', 85), \n",
    "    ('053', '2019-02-15 00:00:00', 35)]\n",
    "\n",
    "plus_grand = input(\"entrer un nombre\")\n",
    "value = int(plus_grand)\n",
    "\n",
    "def top_piece(liste_caf,n_var):\n",
    "  \n",
    "    conversion = [] #on met la variable de stockage liste conversation en dehors de la boucle pour pas recrire\n",
    "    \n",
    "    for i in liste_caf:\n",
    "        \n",
    "        numero,date,piece = tuple(i) #on parse la liste tableau on recupére piece pour boucler le 3eme offset\n",
    "        int_conversion = int(piece)\n",
    "        test = conversion.append(int_conversion) # on insére piece dans la liste conversion = [] \n",
    "        tri = sorted(conversion) #on les tri\n",
    "        tri.reverse() # on inverse le tableau\n",
    "        \n",
    "    # print(tri)\n",
    "       \n",
    "    for i in range(0,n_var): #on fait une 2eme boucle avec range et on transmet le parametre de la fonction (n)\n",
    "         \n",
    "        # display_max = max(tri)\n",
    "        print(tri[i]) # ici on oncremente le tri avec une 2eme boucle i \n",
    "    \n",
    "    #suite à faire recupérer les 3 dernier voir pour utiliser la fonction range \n",
    "top_piece(info_piece,value)\n"
   ]
  },
  {
   "cell_type": "markdown",
   "metadata": {},
   "source": []
  },
  {
   "cell_type": "code",
   "execution_count": 10,
   "metadata": {},
   "outputs": [
    {
     "name": "stdout",
     "output_type": "stream",
     "text": [
      "[2, 4, 8, 14]\n"
     ]
    }
   ],
   "source": []
  },
  {
   "cell_type": "code",
   "execution_count": 4,
   "metadata": {},
   "outputs": [
    {
     "name": "stdin",
     "output_type": "stream",
     "text": [
      "entrer un nombre 2\n"
     ]
    },
    {
     "name": "stdout",
     "output_type": "stream",
     "text": [
      "4894\n",
      "768\n"
     ]
    }
   ],
   "source": [
    "plus_grand = input(\"entrer un nombre\")\n",
    "value = int(plus_grand)\n",
    "\n",
    "def top_piece(liste_caf,n_var):\n",
    "  \n",
    "    conversion = []\n",
    "    \n",
    "    for i in liste_caf:\n",
    "        \n",
    "        numero,date,piece = tuple(i) \n",
    "        int_conversion = int(piece)\n",
    "        test = conversion.append(int_conversion)\n",
    "        tri = sorted(conversion) \n",
    "        tri.reverse() \n",
    "                \n",
    "    for i in range(0,n_var):\n",
    "\n",
    "        print(tri[i])\n",
    "        \n",
    "top_piece(info_piece,value)"
   ]
  },
  {
   "cell_type": "code",
   "execution_count": null,
   "metadata": {},
   "outputs": [],
   "source": []
  }
 ],
 "metadata": {
  "application/vnd.databricks.v1+notebook": {
   "dashboards": [],
   "language": "python",
   "notebookMetadata": {
    "pythonIndentUnit": 4
   },
   "notebookName": "07_Les boucles",
   "notebookOrigID": 4296648366370418,
   "widgets": {}
  },
  "kernelspec": {
   "display_name": "Python 3 (ipykernel)",
   "language": "python",
   "name": "python3"
  },
  "language_info": {
   "codemirror_mode": {
    "name": "ipython",
    "version": 3
   },
   "file_extension": ".py",
   "mimetype": "text/x-python",
   "name": "python",
   "nbconvert_exporter": "python",
   "pygments_lexer": "ipython3",
   "version": "3.9.7"
  }
 },
 "nbformat": 4,
 "nbformat_minor": 4
}
