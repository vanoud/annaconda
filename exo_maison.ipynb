{
 "cells": [
  {
   "cell_type": "markdown",
   "id": "860500eb-2bcb-4690-93f6-763fbf736c1c",
   "metadata": {
    "tags": []
   },
   "source": [
    "\n"
   ]
  },
  {
   "cell_type": "code",
   "execution_count": null,
   "id": "8c77260d-fc4b-4c73-820c-66034ca428d3",
   "metadata": {},
   "outputs": [],
   "source": []
  },
  {
   "cell_type": "code",
   "execution_count": 4,
   "id": "b06af0d9-b014-4c04-a381-a538068a27c2",
   "metadata": {},
   "outputs": [
    {
     "name": "stdout",
     "output_type": "stream",
     "text": [
      " 4 x 1 = 4 \n",
      " 4 x 2 = 8 \n",
      " 4 x 3 = 12 \n",
      " 4 x 4 = 16 \n",
      " 4 x 5 = 20 \n",
      " 4 x 6 = 24 \n",
      " 4 x 7 = 28 \n",
      " 4 x 8 = 32 \n",
      " 4 x 9 = 36 \n",
      " 4 x 10 = 40 \n",
      " 5 x 1 = 5 \n",
      " 5 x 2 = 10 \n",
      " 5 x 3 = 15 \n",
      " 5 x 4 = 20 \n",
      " 5 x 5 = 25 \n",
      " 5 x 6 = 30 \n",
      " 5 x 7 = 35 \n",
      " 5 x 8 = 40 \n",
      " 5 x 9 = 45 \n",
      " 5 x 10 = 50 \n",
      " 6 x 1 = 6 \n",
      " 6 x 2 = 12 \n",
      " 6 x 3 = 18 \n",
      " 6 x 4 = 24 \n",
      " 6 x 5 = 30 \n",
      " 6 x 6 = 36 \n",
      " 6 x 7 = 42 \n",
      " 6 x 8 = 48 \n",
      " 6 x 9 = 54 \n",
      " 6 x 10 = 60 \n"
     ]
    }
   ],
   "source": [
    "\"\"\"\n",
    "    voici un fonction multiplication qui prend 3 parametre pour afficher les tables de multiplication \n",
    "    le premier param defini la premiére table le deuxieme la derniére table et le 3éme le multiplcateur souhaité\n",
    "    on incremente et decrement les param pour ajuster les valeurs des boucle qui partent de 0 et s'arrete avant le param defini\n",
    "    avec + 1 et - 1 \n",
    "    \n",
    "    on fait une boucle while pour continuer la table jusqua chiffre du paramettre souhaité et on incrmùente pour faire marcher la boucle \n",
    "    ensuite on refait une boucle dans celle ci avec uen range defini qui recupére le parametre multiplicateur count_table\n",
    "    \n",
    "    et on affiche le resultat multiplié dans la boucle for avec le formatage de chaine .format() pour faire de belles lignes struturé et lisible\n",
    "     \n",
    "\"\"\"\n",
    "\n",
    "def multiplication(premier,deuxieme,count_table):\n",
    "    \n",
    "    premier = premier - 1 \n",
    "    count_table = count_table + 1 \n",
    "\n",
    "\n",
    "    while premier < deuxieme:\n",
    "\n",
    "        premier +=1\n",
    "    \n",
    "        for i in range(1,count_table): #onveut faire un compteur jusqua 10 pour les tables \n",
    "            \n",
    "            resultat = premier * i\n",
    "            print(\" {} x {} = {} \".format(premier, i , resultat))\n",
    "\n",
    "        \n",
    "    \n",
    "multiplication(4,6,10)"
   ]
  },
  {
   "cell_type": "code",
   "execution_count": 70,
   "id": "4e2f792a-0d03-44af-8de8-98a4728a02ba",
   "metadata": {},
   "outputs": [
    {
     "name": "stdin",
     "output_type": "stream",
     "text": [
      "convertir nombre en language binaire:  565441984894\n"
     ]
    },
    {
     "name": "stdout",
     "output_type": "stream",
     "text": [
      "1000001110100110111101111111100101111110"
     ]
    }
   ],
   "source": [
    "def conversion(n):\n",
    "    if n > 1:\n",
    "        conversion(n // 2)\n",
    "    print(n % 2, end='')\n",
    "\n",
    "nbr = int(input(\"convertir nombre en language binaire: \"))\n",
    "conversion(nbr)"
   ]
  },
  {
   "cell_type": "code",
   "execution_count": 73,
   "id": "f1a2a5ff-7574-4b52-8405-0ffcc9146751",
   "metadata": {},
   "outputs": [
    {
     "name": "stdin",
     "output_type": "stream",
     "text": [
      "Entrez un nombre decimal:  57\n"
     ]
    },
    {
     "name": "stdout",
     "output_type": "stream",
     "text": [
      "Nombre binaire equivalent:  0b111001\n"
     ]
    }
   ],
   "source": [
    "\n",
    "nbr = int(input(\"Entrez un nombre decimal: \"))\n",
    "# Afficher le nombre binaire équivalent\n",
    "print(\"Nombre binaire equivalent: \", bin(nbr))"
   ]
  },
  {
   "cell_type": "code",
   "execution_count": 139,
   "id": "458bccbc-bfab-4d54-86dd-61935c11f6ae",
   "metadata": {},
   "outputs": [
    {
     "name": "stdout",
     "output_type": "stream",
     "text": [
      "2 et 5\n"
     ]
    },
    {
     "name": "stdin",
     "output_type": "stream",
     "text": [
      "voulez vous tiré une nouvelel carte ? type yes or no yes\n"
     ]
    },
    {
     "name": "stdout",
     "output_type": "stream",
     "text": [
      "2 et 5\n",
      "votre nouvelle carte\n",
      "3\n",
      "valeur de votre main\n",
      "10\n"
     ]
    },
    {
     "name": "stdin",
     "output_type": "stream",
     "text": [
      "voulez vous tiré une nouvelel carte ? type yes or no yes\n"
     ]
    },
    {
     "name": "stdout",
     "output_type": "stream",
     "text": [
      "2/5/8\n",
      "votre nouvelle main\n",
      "18\n",
      "vous avez perdu\n",
      "18\n"
     ]
    }
   ],
   "source": []
  },
  {
   "cell_type": "code",
   "execution_count": null,
   "id": "13af7579-f75e-49e3-98b1-730f6498ecdd",
   "metadata": {},
   "outputs": [],
   "source": [
    "\n"
   ]
  },
  {
   "cell_type": "code",
   "execution_count": 24,
   "id": "b975d6f4-8d1d-4e03-8d32-f0cda32dc135",
   "metadata": {
    "tags": []
   },
   "outputs": [
    {
     "name": "stdout",
     "output_type": "stream",
     "text": [
      "valeur cartes 11 et 6\n",
      "voulez vous tiré une carte ?\n"
     ]
    },
    {
     "name": "stdin",
     "output_type": "stream",
     "text": [
      "Yor N y\n"
     ]
    },
    {
     "name": "stdout",
     "output_type": "stream",
     "text": [
      "27\n",
      "voulez vous tiré une carte ?\n"
     ]
    },
    {
     "name": "stdin",
     "output_type": "stream",
     "text": [
      "Y or N y\n"
     ]
    }
   ],
   "source": [
    "import random\n",
    "\n",
    "croupier_hand = random.randint(18,21)\n",
    "first_hand = []\n",
    "\n",
    "while len(first_hand) != 2:\n",
    "    first_hand.append(random.randint(1,11))\n",
    "\n",
    "value_hand = first_hand[0] + first_hand[1]\n",
    "\n",
    "print(\"valeur cartes \" + str(first_hand[0]) + \" et \" + str(first_hand[1]))\n",
    "\n",
    "if my_hand == 21:\n",
    "    print(\"vous avez gagné\")\n",
    "\n",
    "elif value_hand > 21:\n",
    "     print(\"vous avez perdu\")\n",
    "        \n",
    "elif value_hand < croupier_hand and value_hand < 21:\n",
    "    print(\"voulez vous tiré une carte ?\")\n",
    "    reponse = input(\"Yor N\")\n",
    "    \n",
    "    if reponse == \"y\":\n",
    "        \n",
    "        while len(first_hand) != 3:\n",
    "            first_hand.append(random.randint(1,11))\n",
    "            value_hand = first_hand[0] + first_hand[1] + first_hand[2]\n",
    "        \n",
    "        print(value_hand)\n",
    "    \n",
    "        print(\"voulez vous tiré une carte ?\")\n",
    "        reponse = input(\"Y or N\")\n",
    "        \n",
    "        \n",
    "    elif value_hand == 21:\n",
    "        print(\"vous avez gagné\")\n",
    "    elif value_hand > 21:\n",
    "         print(\"vous avez perdu\")\n",
    "    elif value_hand <= croupier_hand:\n",
    "        print(\"voulez vous tiré une carte ?\")\n",
    "        reponse = input(\"Y or N\")\n",
    "        while len(first_hand) != 3:\n",
    "                first_hand.append(random.randint(1,11))\n",
    "                value_hand2 = first_hand[0] + first_hand[1] + first_hand[2] + first_hand[3]\n",
    "                \n",
    "        print(value_hand2)"
   ]
  },
  {
   "cell_type": "code",
   "execution_count": null,
   "id": "f51b6c2b-f872-42c7-bcaa-dc55a2151543",
   "metadata": {},
   "outputs": [],
   "source": []
  },
  {
   "cell_type": "code",
   "execution_count": 12,
   "id": "3a168452-264a-4e77-b0a8-299ff9f2f0ff",
   "metadata": {},
   "outputs": [],
   "source": [
    "# import random\n",
    "\n",
    "# croupier_hand = random.randint(18,21)\n",
    "# my_hand =  random.randint(2,21)\n",
    "\n",
    "# if my_hand == 21:\n",
    "    \n",
    "#     print(\"vous avez gagné\")\n",
    "\n",
    "# while my_hand < 21:\n",
    "    \n",
    "#     print(\"votre main vaut \" + str(my_hand))\n",
    "#     reponse = input(\"voulez vous pioch ou rest\")\n",
    "    \n",
    "#     if reponse == \"rest\" and my_hand > croupier_hand:\n",
    "#         print(\"vous avez perdu main du croupier \" + str(croupier_hand))\n",
    "#         print(\"votre main \" + str(my_hand))\n",
    "    \n",
    "#     elif reponse == \"pioch\" and my_hand > croupier_hand:\n",
    "#         new_hand_1 = my_hand + random.randint(1,11)\n",
    "#         print(\"votre nouvelle  main \" + str(new_hand_1))\n",
    "        \n"
   ]
  },
  {
   "cell_type": "code",
   "execution_count": null,
   "id": "59630c87-4240-4b9b-931c-292e0cc01bff",
   "metadata": {},
   "outputs": [],
   "source": []
  },
  {
   "cell_type": "code",
   "execution_count": 10,
   "id": "f7f9359b-1e69-4601-aaeb-f331d3e24922",
   "metadata": {},
   "outputs": [
    {
     "name": "stdin",
     "output_type": "stream",
     "text": [
      "mettre un chiffre en 1 et 100 10\n"
     ]
    },
    {
     "name": "stdout",
     "output_type": "stream",
     "text": [
      "trop petit\n"
     ]
    },
    {
     "name": "stdin",
     "output_type": "stream",
     "text": [
      "mettre un chiffre en 1 et 100 50\n"
     ]
    },
    {
     "name": "stdout",
     "output_type": "stream",
     "text": [
      "trop grand\n"
     ]
    },
    {
     "name": "stdin",
     "output_type": "stream",
     "text": [
      "mettre un chiffre en 1 et 100 25\n"
     ]
    },
    {
     "name": "stdout",
     "output_type": "stream",
     "text": [
      "trop petit\n"
     ]
    },
    {
     "name": "stdin",
     "output_type": "stream",
     "text": [
      "mettre un chiffre en 1 et 100 35\n"
     ]
    },
    {
     "name": "stdout",
     "output_type": "stream",
     "text": [
      "trop grand\n"
     ]
    },
    {
     "name": "stdin",
     "output_type": "stream",
     "text": [
      "mettre un chiffre en 1 et 100 30\n"
     ]
    },
    {
     "name": "stdout",
     "output_type": "stream",
     "text": [
      "trop grand\n"
     ]
    },
    {
     "name": "stdin",
     "output_type": "stream",
     "text": [
      "mettre un chiffre en 1 et 100 28\n"
     ]
    },
    {
     "name": "stdout",
     "output_type": "stream",
     "text": [
      "trop grand\n"
     ]
    },
    {
     "name": "stdin",
     "output_type": "stream",
     "text": [
      "mettre un chiffre en 1 et 100 26\n"
     ]
    },
    {
     "name": "stdout",
     "output_type": "stream",
     "text": [
      "trop petit\n"
     ]
    },
    {
     "name": "stdin",
     "output_type": "stream",
     "text": [
      "mettre un chiffre en 1 et 100 27\n"
     ]
    },
    {
     "name": "stdout",
     "output_type": "stream",
     "text": [
      "bravo\n"
     ]
    }
   ],
   "source": [
    "import random \n",
    "\n",
    "guess_nbr = random.randint(1,100)\n",
    "\n",
    "reponse = \"init_value\"\n",
    "\n",
    "while reponse != guess_nbr:\n",
    "    reponse = input(\"mettre un chiffre en 1 et 100\")\n",
    "    reponse = int(reponse)\n",
    "    \n",
    "    if reponse < guess_nbr:\n",
    "        print(\"trop petit\")\n",
    "    elif reponse == guess_nbr:\n",
    "        print(\"bravo\")\n",
    "    else:\n",
    "        print(\"trop grand\")"
   ]
  },
  {
   "cell_type": "code",
   "execution_count": 183,
   "id": "0af45f79-17da-4e99-bb50-c0d3c2422daf",
   "metadata": {},
   "outputs": [
    {
     "name": "stdin",
     "output_type": "stream",
     "text": [
      "entrer un nombre entre 1 et 100 32\n"
     ]
    },
    {
     "name": "stdout",
     "output_type": "stream",
     "text": [
      "trop petit\n"
     ]
    },
    {
     "name": "stdin",
     "output_type": "stream",
     "text": [
      "entrer un nombre entre 1 et 100 48\n"
     ]
    },
    {
     "name": "stdout",
     "output_type": "stream",
     "text": [
      "trop grand\n"
     ]
    },
    {
     "name": "stdin",
     "output_type": "stream",
     "text": [
      "entrer un nombre entre 1 et 100 36\n"
     ]
    },
    {
     "name": "stdout",
     "output_type": "stream",
     "text": [
      "trop grand\n"
     ]
    },
    {
     "name": "stdin",
     "output_type": "stream",
     "text": [
      "entrer un nombre entre 1 et 100 33\n"
     ]
    },
    {
     "name": "stdout",
     "output_type": "stream",
     "text": [
      "trop petit\n"
     ]
    },
    {
     "name": "stdin",
     "output_type": "stream",
     "text": [
      "entrer un nombre entre 1 et 100 35\n"
     ]
    },
    {
     "name": "stdout",
     "output_type": "stream",
     "text": [
      "bravo\n"
     ]
    }
   ],
   "source": [
    "import random\n",
    "guess_nbr  = random.randint(0,50)\n",
    "essais = 10\n",
    "\n",
    "while essais > 0:\n",
    "    \n",
    "    reponse = input(\"entrer un nombre entre 1 et 100\")\n",
    "    reponse = int(reponse)\n",
    "    \n",
    "    if reponse < guess_nbr:\n",
    "        print(\"trop petit\")\n",
    "    elif reponse > guess_nbr:\n",
    "        print(\"trop grand\")\n",
    "    elif reponse == guess_nbr:\n",
    "        print(\"bravo\")\n",
    "        break\n",
    "    essais -= 1\n",
    "        \n",
    "if essais == 0:\n",
    "    print(\"perdu\")\n",
    "    \n"
   ]
  },
  {
   "cell_type": "code",
   "execution_count": 54,
   "id": "a13a8e5f-5177-46d4-bc26-ad7b523a49b9",
   "metadata": {},
   "outputs": [
    {
     "name": "stdout",
     "output_type": "stream",
     "text": [
      "Aurevoir\n",
      "Bonjour\n",
      "De rien\n",
      "on y va\n",
      "zut\n"
     ]
    }
   ],
   "source": [
    "liste_str = [\"Bonjour\" ,\"Aurevoir\",\"De rien\",\"zut\",\"on y va\"]\n",
    "# liste_reversed = liste_str.reverse()\n",
    "\n",
    "liste_str = sorted(liste_str)\n",
    "\n",
    "for i in liste_str:\n",
    "    print(i)\n",
    "    \n"
   ]
  },
  {
   "cell_type": "code",
   "execution_count": 57,
   "id": "52b580fd-cce7-421d-8954-f8e7d94c318a",
   "metadata": {},
   "outputs": [
    {
     "data": {
      "text/plain": [
       "Counter({'dingue': 1, 'test': 3, 'truc': 2})"
      ]
     },
     "execution_count": 57,
     "metadata": {},
     "output_type": "execute_result"
    }
   ],
   "source": [
    "from collections import Counter\n",
    "\n",
    "liste = ['dingue', 'test', 'truc', 'test', 'test', 'truc',]\n",
    "Counter(liste)\n"
   ]
  },
  {
   "cell_type": "code",
   "execution_count": 59,
   "id": "1c9ca27e-cf0f-47ea-9472-47aed9938b66",
   "metadata": {},
   "outputs": [
    {
     "name": "stdin",
     "output_type": "stream",
     "text": [
      "entré un palindrome test\n"
     ]
    },
    {
     "name": "stdout",
     "output_type": "stream",
     "text": [
      "ce n'est pas un Palindrome\n"
     ]
    }
   ],
   "source": [
    "mot = input(\"entré un palindrome\")\n",
    "if str(mot) == \"\".join(reversed(mot)) :\n",
    "    print(\"c'est un jolie palindrome\")\n",
    "else:\n",
    "    print(\"ce n'est pas un Palindrome\")"
   ]
  },
  {
   "cell_type": "code",
   "execution_count": 63,
   "id": "3e1714fe-7381-4725-a28f-2819539f387c",
   "metadata": {},
   "outputs": [
    {
     "name": "stdin",
     "output_type": "stream",
     "text": [
      "ecrire un mot  voyelle ou consonne\n"
     ]
    },
    {
     "name": "stdout",
     "output_type": "stream",
     "text": [
      "a 0\n",
      "e 3\n",
      "i 0\n",
      "o 4\n",
      "u 1\n"
     ]
    }
   ],
   "source": [
    "mot = input(\"ecrire un mot \")\n",
    "voyelle = \"aeiou\"\n",
    "for i in voyelle:\n",
    "    print(i, mot.lower().count(i))"
   ]
  },
  {
   "cell_type": "code",
   "execution_count": 159,
   "id": "2661907c-45dc-4cc0-bcb0-0b35658690f1",
   "metadata": {},
   "outputs": [
    {
     "name": "stdout",
     "output_type": "stream",
     "text": [
      "[24, 36, 0, 179]\n"
     ]
    }
   ],
   "source": [
    "D1 = {\"1\":12, \"2\":15, \"3\" :-8, \"4\":56}\n",
    "D2 = {\"1\":12, \"3\":21, \"8\" :8, \"6\":123}\n",
    "\n",
    "list_1 =[]\n",
    "\n",
    "for i in D1_item :\n",
    "      \n",
    "    list_1.append(i)\n",
    "\n",
    "list_2 =[]\n",
    "\n",
    "for i in D2_item:\n",
    "    \n",
    "    list_2.append(i)\n",
    "\n",
    "# init_dict = {}\n",
    "# init_dict[key] = []\n",
    "\n",
    "stockage_merge = []\n",
    "new_dict = {}\n",
    "\n",
    "for i in range(len(list_1)):\n",
    "    \n",
    "    insert = list_1[i] + list_2[i]\n",
    "    stockage_merge.append(insert)\n",
    "    # D2[values].update(insert)\n",
    "    \n",
    "print(stockage_merge)\n",
    "\n"
   ]
  },
  {
   "cell_type": "code",
   "execution_count": 184,
   "id": "38c853e2-d1fe-4107-b9d1-7eb41359dbb8",
   "metadata": {},
   "outputs": [
    {
     "name": "stdout",
     "output_type": "stream",
     "text": [
      "{'1': 24, '3': 36, '8': 0, '6': 179}\n"
     ]
    }
   ],
   "source": [
    "D1 = {\"1\":12, \"2\":15, \"3\" :-8, \"4\":56}\n",
    "D2 = {\"1\":12, \"3\":21, \"8\" :8, \"6\":123}\n",
    "D3 = {} # init un dict vide pour les nouvelels valeures \n",
    "\n",
    "#on utilise zip() pour pouvoir iterate sinon pas possible dans un dict\n",
    "for (k,v), (k2,v2) in zip(D1.items(), D2.items()): #on met les 2 dict avec 2 i =(k,v) key et value\n",
    "    \n",
    "    new_v = v + v2 # on additionne les valeurs i\n",
    "    # D3 = {k2 :new_v} #on push dans d3 les i k2 du d2 et new v les V additioné des 2 dict \n",
    "    D3[k2] = new_v #D3[i = key] = new_v\n",
    "\n",
    "print(D3)#on print d3 dans la boucle voir comment append un dict sans split le dict en v et k\n",
    "    "
   ]
  },
  {
   "cell_type": "code",
   "execution_count": 5,
   "id": "e8e689aa-2346-4d8c-8b93-ce3b03e57c62",
   "metadata": {},
   "outputs": [
    {
     "name": "stdout",
     "output_type": "stream",
     "text": [
      "{'1': 24}\n",
      "{'3': 36}\n",
      "{'8': 0}\n",
      "{'6': 179}\n"
     ]
    }
   ],
   "source": [
    "D1 = {\"1\":12, \"2\":15, \"3\" :-8, \"4\":56}\n",
    "D2 = {\"1\":12, \"3\":21, \"8\" :8, \"6\":123}\n",
    "D3 = {'key' :'value'} # init un dict vide pour les nouvelels valeures \n",
    "\n",
    "#on utilise zip() pour pouvoir iterate sinon pas possible dans un dict\n",
    "for (k,v), (k2,v2) in zip(D1.items(), D2.items()): #on met les 2 dict avec 2 i =(k,v) key et value\n",
    "    \n",
    "    new_v = v + v2 # on additionne les valeurs i\n",
    "    D3 = {k2 :new_v} #on push dans d3 les i k2 du d2 et new v les V additioné des 2 dict \n",
    "    print(D3)"
   ]
  },
  {
   "cell_type": "code",
   "execution_count": 33,
   "id": "62038591-8862-4c15-9185-852add24961d",
   "metadata": {},
   "outputs": [
    {
     "name": "stdout",
     "output_type": "stream",
     "text": [
      "{'mangue': 2, 'orange': 8, 'cassoulet': 1, 'thon': 2, 'coca': 8, 'fenouil': 1, 'lait': 3}\n",
      "{}\n"
     ]
    }
   ],
   "source": [
    "from collections import Counter\n",
    "\n",
    "frigo = {\"mangue\": 2, \"orange\": 8, \"cassoulet\": 1, \"thon\": 2, \"coca\": 8, \"fenouil\": 1, \"lait\": 3}\n",
    "new_frigo = {}\n",
    "frigo_sorted = {}\n",
    "#print(Counter(frigo.values()))\n",
    "\n",
    "for i, (key, value) in enumerate(frigo.items()):\n",
    "    \n",
    "    # n_value = Counter(frigo.values())\n",
    "    new_frigo.update({key:value})\n",
    "    \n",
    "    \n",
    "    if frigo.values() == new_frigo.values():\n",
    "\n",
    "        sorted(frigo_sorted.update({key:value}))\n",
    "\n",
    "print(new_frigo)\n",
    "print(frigo_sorted)\n",
    "    #trié les key par tri des valeur les bouclé et update un nouveau dict \n"
   ]
  },
  {
   "cell_type": "code",
   "execution_count": 16,
   "id": "0c9058f8-5cc9-48c5-977f-2fdb75c08fac",
   "metadata": {},
   "outputs": [
    {
     "name": "stdout",
     "output_type": "stream",
     "text": [
      "Counter({'o': 3, ' ': 3, 'u': 3, 'e': 2, 'l': 2, 't': 2, 'r': 2, '9': 2, 'W': 1, 'c': 1, 'm': 1, 'G': 1, 'T': 1, 'i': 1, 'a': 1, 's': 1, '!': 1})\n"
     ]
    }
   ],
   "source": []
  },
  {
   "cell_type": "code",
   "execution_count": 34,
   "id": "38082fae-4726-40ed-8f1f-7ed2fefb5b1b",
   "metadata": {},
   "outputs": [
    {
     "name": "stdout",
     "output_type": "stream",
     "text": [
      "{'cassoulet': 1, 'fenouil': 1, 'mangue': 2, 'thon': 2, 'lait': 3, 'orange': 8, 'coca': 8}\n"
     ]
    }
   ],
   "source": [
    "dict1 = {\"mangue\": 2, \"orange\": 8, \"cassoulet\": 1, \"thon\": 2, \"coca\": 8, \"fenouil\": 1, \"lait\": 3}\n",
    "sorted_values = sorted(dict1.values()) # Sort the values\n",
    "sorted_dict = {}\n",
    "\n",
    "for i in sorted_values:\n",
    "    for k in dict1.keys():\n",
    "        if dict1[k] == i:\n",
    "            sorted_dict[k] = dict1[k]\n",
    "\n",
    "            \n",
    "print(sorted_dict)"
   ]
  },
  {
   "cell_type": "code",
   "execution_count": 9,
   "id": "237f31a6-7000-4fee-b1ac-09610ca40269",
   "metadata": {},
   "outputs": [
    {
     "name": "stdout",
     "output_type": "stream",
     "text": [
      "[('cassoulet', 1), ('fenouil', 1), ('mangue', 2), ('thon', 2), ('lait', 3), ('orange', 8), ('coca', 8)]\n"
     ]
    }
   ],
   "source": [
    "dict1 = {\"mangue\": 2, \"orange\": 8, \"cassoulet\": 1, \"thon\": 2, \"coca\": 8, \"fenouil\": 1, \"lait\": 3}\n",
    "\n",
    "    \n",
    "dict1 = sorted(dict1.items(), key=lambda kv: kv[1])\n",
    "\n",
    "for i in dict1\n",
    "        \n",
    "    \n",
    "\n",
    "print(dict1)"
   ]
  },
  {
   "cell_type": "code",
   "execution_count": 1,
   "id": "7b4e4823-bae5-4db9-ab46-a1f14c721051",
   "metadata": {},
   "outputs": [
    {
     "name": "stdout",
     "output_type": "stream",
     "text": [
      "{2: 2, 8: 8, 1: 1, 3: 3}\n"
     ]
    }
   ],
   "source": [
    "from collections import Counter\n",
    "\n",
    "frigo = {\"mangue\": 2, \"orange\": 8, \"cassoulet\": 1, \"thon\": 2, \"coca\": 8, \"fenouil\": 1, \"lait\": 3}\n",
    "\n",
    "new_frigo = {}\n",
    "\n",
    "\n",
    "for i, (key, value) in enumerate(frigo.items()):\n",
    "    \n",
    "    new_frigo.update({value:key})\n",
    "    \n",
    "    \n",
    "    for k in frigo.values():\n",
    "\n",
    "            new_frigo.update({k:k})\n",
    "            \n",
    "print(new_frigo)"
   ]
  },
  {
   "cell_type": "code",
   "execution_count": 47,
   "id": "9f7d0d7e-b858-48a7-97f8-9229da243206",
   "metadata": {},
   "outputs": [
    {
     "name": "stdout",
     "output_type": "stream",
     "text": [
      "{'mangue': 2, 'orange': [7, 5, 6], 'cassoulet': 1, 'thon': 2, 'coca': 8, 'fenouil': 1, 'lait': 3}\n"
     ]
    }
   ],
   "source": [
    "frigo = {\"mangue\": 2, \"orange\": 8, \"cassoulet\": 1, \"thon\": 2, \"coca\": 8, \"fenouil\": 1, \"lait\": 3}\n",
    "\n",
    "frigo.update({'orange':[7,5,6]})\n",
    "\n",
    "print(frigo)"
   ]
  },
  {
   "cell_type": "code",
   "execution_count": 5,
   "id": "22f54090-d0e9-423b-b6e2-01c0479c2767",
   "metadata": {},
   "outputs": [
    {
     "name": "stdout",
     "output_type": "stream",
     "text": [
      "2\n",
      "8\n",
      "1\n",
      "2\n",
      "8\n",
      "1\n",
      "3\n",
      "{'mangue': 2, 'orange': 8, 'cassoulet': 1, 'thon': 2, 'coca': 8, 'fenouil': 1, 'lait': 3}\n"
     ]
    }
   ],
   "source": [
    "from collections import Counter\n",
    "\n",
    "frigo = {\"mangue\": 2, \"orange\": 8, \"cassoulet\": 1, \"thon\": 2, \"coca\": 8, \"fenouil\": 1, \"lait\": 3}\n",
    "\n",
    "new_frigo = {}\n",
    "\n",
    "\n",
    "for i, (key, value) in enumerate(frigo.items()):\n",
    "    \n",
    "    new_frigo.update({key:value})\n",
    "    \n",
    "    print(new_frigo[key])\n",
    "   \n",
    "    if(new_frigo[key] == value() )\n",
    "\n",
    "            \n",
    "print(new_frigo)"
   ]
  },
  {
   "cell_type": "code",
   "execution_count": 24,
   "id": "fa0684fd-2851-495e-9ceb-f930a980c3d3",
   "metadata": {},
   "outputs": [
    {
     "name": "stdout",
     "output_type": "stream",
     "text": [
      "{0: 'Oui', 1: 'hello', 2: 'non', 3: 'matrix'}\n"
     ]
    }
   ],
   "source": [
    "dict1 =  {}\n",
    "liste = ['Oui','hello','non','matrix']\n",
    "\n",
    "for i,k in enumerate(liste):\n",
    "\n",
    "    dict1.update({i:k})\n",
    "\n",
    "print(dict1)"
   ]
  },
  {
   "cell_type": "code",
   "execution_count": null,
   "id": "feffa8dc-f642-47ac-9a4b-19906d776b98",
   "metadata": {},
   "outputs": [],
   "source": []
  },
  {
   "cell_type": "code",
   "execution_count": null,
   "id": "3858db77-90a7-4d0c-ad58-c901fdd612fd",
   "metadata": {},
   "outputs": [],
   "source": []
  }
 ],
 "metadata": {
  "kernelspec": {
   "display_name": "Python 3 (ipykernel)",
   "language": "python",
   "name": "python3"
  },
  "language_info": {
   "codemirror_mode": {
    "name": "ipython",
    "version": 3
   },
   "file_extension": ".py",
   "mimetype": "text/x-python",
   "name": "python",
   "nbconvert_exporter": "python",
   "pygments_lexer": "ipython3",
   "version": "3.9.7"
  }
 },
 "nbformat": 4,
 "nbformat_minor": 5
}
