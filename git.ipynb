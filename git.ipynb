{
 "cells": [
  {
   "cell_type": "markdown",
   "id": "843a245c-37c6-422e-ac65-43d17f52b794",
   "metadata": {
    "tags": []
   },
   "source": [
    "# GIT\n",
    "\n",
    "git init pour pouvoir giter dans le dossier repo init\n",
    "git add pour ajouter un fichier car changement dans fichier par sur nouveau fichier \n",
    "git status pour voir \n",
    "git commit pour changement \n",
    "\n",
    "git checkout pour se deplacer sur un commit \n",
    "\n",
    "git commit -am pour ajouter et modifier \"plus simple\"\n",
    "\n",
    "Timeline sur les branche \n",
    "\n",
    "si conflit timelien fichier a - a git insert chevron sur différence supprimer pour garder les 2 elements si besoin \n",
    "\n"
   ]
  },
  {
   "cell_type": "code",
   "execution_count": null,
   "id": "58874aad-67ee-4c19-837e-ccd02e709ac3",
   "metadata": {},
   "outputs": [],
   "source": []
  }
 ],
 "metadata": {
  "kernelspec": {
   "display_name": "Python 3 (ipykernel)",
   "language": "python",
   "name": "python3"
  },
  "language_info": {
   "codemirror_mode": {
    "name": "ipython",
    "version": 3
   },
   "file_extension": ".py",
   "mimetype": "text/x-python",
   "name": "python",
   "nbconvert_exporter": "python",
   "pygments_lexer": "ipython3",
   "version": "3.9.7"
  }
 },
 "nbformat": 4,
 "nbformat_minor": 5
}
