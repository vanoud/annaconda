{
 "cells": [
  {
   "cell_type": "code",
   "execution_count": 12,
   "id": "1fb9a628-4fdc-4f32-b196-7989d18d5766",
   "metadata": {},
   "outputs": [
    {
     "name": "stdout",
     "output_type": "stream",
     "text": [
      "je suis un desert eagle\n",
      "je suis un colt45\n"
     ]
    }
   ],
   "source": [
    "class Armes:\n",
    "    def __init__(self, name):\n",
    "        print(\"je suis un \" + name)\n",
    "\n",
    "desert_eagle = Armes(\"desert eagle\")\n",
    "colt45 = Armes(\"colt45\")"
   ]
  },
  {
   "cell_type": "code",
   "execution_count": 8,
   "id": "5283711b-080e-492a-99b4-2455279fe82a",
   "metadata": {},
   "outputs": [
    {
     "name": "stdout",
     "output_type": "stream",
     "text": [
      "                                  _ \n",
      "                                 | |\n",
      "__   ____ _ _ __   ___  _   _  __| |\n",
      "\\ \\ / / _` | '_ \\ / _ \\| | | |/ _` |\n",
      " \\ V / (_| | | | | (_) | |_| | (_| |\n",
      "  \\_/ \\__,_|_| |_|\\___/ \\__,_|\\__,_|\n"
     ]
    }
   ],
   "source": [
    "\n",
    "\n",
    "\n",
    "print('''                                  _ \n",
    "                                 | |\n",
    "__   ____ _ _ __   ___  _   _  __| |\n",
    "\\ \\ / / _` | '_ \\ / _ \\| | | |/ _` |\n",
    " \\ V / (_| | | | | (_) | |_| | (_| |\n",
    "  \\_/ \\__,_|_| |_|\\___/ \\__,_|\\__,_|''')\n",
    "\n",
    "def main():\n",
    "    n = input(\"1- Network scanner\\n2- Vunerabilities detection\\n3 - Exploit=\\nPlease enter a number: \")\n",
    "    if name == \"__main__\":\n",
    "        main()"
   ]
  },
  {
   "cell_type": "code",
   "execution_count": 7,
   "id": "27d39206-9e01-4c87-9247-7f87b2092b53",
   "metadata": {},
   "outputs": [
    {
     "name": "stdout",
     "output_type": "stream",
     "text": [
      "2.5\n"
     ]
    }
   ],
   "source": [
    "a = 50\n",
    "b = 50 * 5 / 100\n",
    "print(b)"
   ]
  },
  {
   "cell_type": "code",
   "execution_count": 8,
   "id": "d7f24310-49c6-42d1-8b10-c85c18ced879",
   "metadata": {},
   "outputs": [
    {
     "data": {
      "text/plain": [
       "20.0"
      ]
     },
     "execution_count": 8,
     "metadata": {},
     "output_type": "execute_result"
    }
   ],
   "source": [
    "2000 * 1 /100"
   ]
  },
  {
   "cell_type": "code",
   "execution_count": 2,
   "id": "3b428659-6111-4c24-a88e-221f7022cc68",
   "metadata": {},
   "outputs": [
    {
     "ename": "TypeError",
     "evalue": "object of type 'int' has no len()",
     "output_type": "error",
     "traceback": [
      "\u001b[1;31m---------------------------------------------------------------------------\u001b[0m",
      "\u001b[1;31mTypeError\u001b[0m                                 Traceback (most recent call last)",
      "\u001b[1;32m~\\AppData\\Local\\Temp/ipykernel_21288/3872082759.py\u001b[0m in \u001b[0;36m<module>\u001b[1;34m\u001b[0m\n\u001b[0;32m      1\u001b[0m \u001b[0mvar\u001b[0m \u001b[1;33m=\u001b[0m \u001b[1;36m2\u001b[0m\u001b[1;33m\u001b[0m\u001b[1;33m\u001b[0m\u001b[0m\n\u001b[0;32m      2\u001b[0m \u001b[1;33m\u001b[0m\u001b[0m\n\u001b[1;32m----> 3\u001b[1;33m \u001b[1;32mfor\u001b[0m \u001b[0mi\u001b[0m \u001b[1;32min\u001b[0m \u001b[0mlen\u001b[0m\u001b[1;33m(\u001b[0m\u001b[0mvar\u001b[0m\u001b[1;33m)\u001b[0m\u001b[1;33m:\u001b[0m\u001b[1;33m\u001b[0m\u001b[1;33m\u001b[0m\u001b[0m\n\u001b[0m\u001b[0;32m      4\u001b[0m     \u001b[0mprint\u001b[0m\u001b[1;33m(\u001b[0m\u001b[1;34m\"ok\"\u001b[0m\u001b[1;33m)\u001b[0m\u001b[1;33m\u001b[0m\u001b[1;33m\u001b[0m\u001b[0m\n",
      "\u001b[1;31mTypeError\u001b[0m: object of type 'int' has no len()"
     ]
    }
   ],
   "source": [
    "var = 2 \n",
    "\n",
    "for i in len(var):\n",
    "    print(\"ok\")"
   ]
  },
  {
   "cell_type": "code",
   "execution_count": null,
   "id": "88fe6b8c-097c-431e-8a39-4611579d0bab",
   "metadata": {},
   "outputs": [],
   "source": []
  }
 ],
 "metadata": {
  "kernelspec": {
   "display_name": "Python 3 (ipykernel)",
   "language": "python",
   "name": "python3"
  },
  "language_info": {
   "codemirror_mode": {
    "name": "ipython",
    "version": 3
   },
   "file_extension": ".py",
   "mimetype": "text/x-python",
   "name": "python",
   "nbconvert_exporter": "python",
   "pygments_lexer": "ipython3",
   "version": "3.9.7"
  }
 },
 "nbformat": 4,
 "nbformat_minor": 5
}
