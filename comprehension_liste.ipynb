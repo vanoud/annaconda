{
 "cells": [
  {
   "cell_type": "code",
   "execution_count": 1,
   "id": "9d64357a-4eb5-430a-801a-d917ca52d155",
   "metadata": {},
   "outputs": [
    {
     "name": "stdout",
     "output_type": "stream",
     "text": [
      "[7, 86, 74, 18, 6]\n"
     ]
    }
   ],
   "source": [
    "liste = [ 7,-5,86,-5,-45,74,18 ,4,6]\n",
    "\n",
    "tri_liste = [i for i in liste if i > 5]\n",
    "\n",
    "print(tri_liste)"
   ]
  },
  {
   "cell_type": "code",
   "execution_count": 2,
   "id": "9c5c6a63-d4e2-43b9-825d-39cec13a5a9e",
   "metadata": {},
   "outputs": [
    {
     "name": "stdout",
     "output_type": "stream",
     "text": [
      "[14, 172, 148, 36, 12]\n"
     ]
    }
   ],
   "source": [
    "liste = [ 7,-5,86,-5,-45,74,18 ,4,6]\n",
    "\n",
    "nombre_pos = [i * 2 for i in liste if i >5]\n",
    "\n",
    "print(nombre_pos)"
   ]
  },
  {
   "cell_type": "code",
   "execution_count": null,
   "id": "0dcae259-214a-4848-a72d-f1a568aff4ec",
   "metadata": {},
   "outputs": [],
   "source": []
  }
 ],
 "metadata": {
  "kernelspec": {
   "display_name": "Python 3 (ipykernel)",
   "language": "python",
   "name": "python3"
  },
  "language_info": {
   "codemirror_mode": {
    "name": "ipython",
    "version": 3
   },
   "file_extension": ".py",
   "mimetype": "text/x-python",
   "name": "python",
   "nbconvert_exporter": "python",
   "pygments_lexer": "ipython3",
   "version": "3.9.7"
  }
 },
 "nbformat": 4,
 "nbformat_minor": 5
}
