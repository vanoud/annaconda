{
 "cells": [
  {
   "cell_type": "markdown",
   "metadata": {
    "application/vnd.databricks.v1+cell": {
     "inputWidgets": {},
     "nuid": "58994527-68f9-49a3-8705-5eebb138818a",
     "showTitle": false,
     "title": ""
    }
   },
   "source": [
    "# Les bases du langage python\n",
    "\n",
    "![logo python](https://upload.wikimedia.org/wikipedia/commons/f/f8/Python_logo_and_wordmark.svg)\n",
    "\n",
    "Python est un langage de programmation souvent utilisé pour l'analyse et le traitement des données mais aussi pour l'automatisation de tâches.\n",
    "\n",
    "Dans la suite de ce cours nous allons voir comment utiliser python dans Databricks."
   ]
  },
  {
   "cell_type": "markdown",
   "metadata": {
    "application/vnd.databricks.v1+cell": {
     "inputWidgets": {},
     "nuid": "74a6182d-242f-4ec7-b130-5e5e0872d328",
     "showTitle": false,
     "title": ""
    }
   },
   "source": [
    "## Afficher un message\n",
    "\n",
    "Les notebooks python proposent deux méthodes pour afficher des valeurs:\n",
    "* la fonction `print(message)` n'importe où dans la cellule.\n",
    "* à la derniere ligne de la cellule.\n",
    "\n",
    "Voici un exemple qui affiche `Bonjour!` avec la fonction `print`:"
   ]
  },
  {
   "cell_type": "code",
   "execution_count": null,
   "metadata": {
    "application/vnd.databricks.v1+cell": {
     "inputWidgets": {},
     "nuid": "d022f63b-352a-4b02-a0a5-29803b49659e",
     "showTitle": false,
     "title": ""
    }
   },
   "outputs": [
    {
     "data": {
      "text/html": [
       "<style scoped>\n",
       "  .ansiout {\n",
       "    display: block;\n",
       "    unicode-bidi: embed;\n",
       "    white-space: pre-wrap;\n",
       "    word-wrap: break-word;\n",
       "    word-break: break-all;\n",
       "    font-family: \"Source Code Pro\", \"Menlo\", monospace;;\n",
       "    font-size: 13px;\n",
       "    color: #555;\n",
       "    margin-left: 4px;\n",
       "    line-height: 19px;\n",
       "  }\n",
       "</style>\n",
       "<div class=\"ansiout\">Bonjour!\n",
       "Hello Wolrd\n",
       "Bonjour, il y a  7 jours dans la semaine\n",
       "</div>"
      ]
     },
     "metadata": {
      "application/vnd.databricks.v1+output": {
       "addedWidgets": {},
       "arguments": {},
       "data": "<div class=\"ansiout\">Bonjour!\nHello Wolrd\nBonjour, il y a  7 jours dans la semaine\n</div>",
       "datasetInfos": [],
       "metadata": {},
       "removedWidgets": [],
       "type": "html"
      }
     },
     "output_type": "display_data"
    }
   ],
   "source": [
    "print(\"Bonjour!\")\n",
    "print(\"Hello\", \"World\")\n",
    "print(\"Bonjour, il y a \", 7, \"jours dans la semaine\")"
   ]
  },
  {
   "cell_type": "code",
   "execution_count": null,
   "metadata": {
    "application/vnd.databricks.v1+cell": {
     "inputWidgets": {},
     "nuid": "168f6604-b160-44ea-bfd4-8c663f5e931a",
     "showTitle": false,
     "title": ""
    }
   },
   "outputs": [
    {
     "data": {
      "text/html": [
       "<style scoped>\n",
       "  .ansiout {\n",
       "    display: block;\n",
       "    unicode-bidi: embed;\n",
       "    white-space: pre-wrap;\n",
       "    word-wrap: break-word;\n",
       "    word-break: break-all;\n",
       "    font-family: \"Source Code Pro\", \"Menlo\", monospace;;\n",
       "    font-size: 13px;\n",
       "    color: #555;\n",
       "    margin-left: 4px;\n",
       "    line-height: 19px;\n",
       "  }\n",
       "</style>\n",
       "<div class=\"ansiout\">print\n",
       "Out[7]: &#39;derniere ligne&#39;</div>"
      ]
     },
     "metadata": {
      "application/vnd.databricks.v1+output": {
       "addedWidgets": {},
       "arguments": {},
       "data": "<div class=\"ansiout\">print\nOut[7]: &#39;derniere ligne&#39;</div>",
       "datasetInfos": [],
       "metadata": {},
       "removedWidgets": [],
       "type": "html"
      }
     },
     "output_type": "display_data"
    }
   ],
   "source": [
    "\"premiere ligne\"\n",
    "print(\"print\")\n",
    "\"derniere ligne\""
   ]
  },
  {
   "cell_type": "markdown",
   "metadata": {
    "application/vnd.databricks.v1+cell": {
     "inputWidgets": {},
     "nuid": "a1e66bc7-5055-45a3-b37c-f24ee7bd2ed2",
     "showTitle": false,
     "title": ""
    }
   },
   "source": [
    "## Les Variables\n",
    "En python nous pouvons définir des variables."
   ]
  },
  {
   "cell_type": "markdown",
   "metadata": {
    "application/vnd.databricks.v1+cell": {
     "inputWidgets": {},
     "nuid": "bf1cece1-1021-4d17-b366-9aa19d53d7f0",
     "showTitle": false,
     "title": ""
    }
   },
   "source": [
    "### Ma première variable\n",
    "\n",
    "La syntaxe pour la création et l'affectation de variables est la suivante :\n",
    "\n",
    "```Python\n",
    "<variable> = <valeur>\n",
    "```\n",
    "\n",
    "Par exemple, le code suivant définit une variable `a`, lui affecte la valeur `5`."
   ]
  },
  {
   "cell_type": "code",
   "execution_count": null,
   "metadata": {
    "application/vnd.databricks.v1+cell": {
     "inputWidgets": {},
     "nuid": "416fcd19-de18-4138-97ed-5cc2943c5b36",
     "showTitle": false,
     "title": ""
    }
   },
   "outputs": [
    {
     "data": {
      "text/html": [
       "<style scoped>\n",
       "  .ansiout {\n",
       "    display: block;\n",
       "    unicode-bidi: embed;\n",
       "    white-space: pre-wrap;\n",
       "    word-wrap: break-word;\n",
       "    word-break: break-all;\n",
       "    font-family: \"Source Code Pro\", \"Menlo\", monospace;;\n",
       "    font-size: 13px;\n",
       "    color: #555;\n",
       "    margin-left: 4px;\n",
       "    line-height: 19px;\n",
       "  }\n",
       "</style>\n",
       "<div class=\"ansiout\">Out[3]: &#39;hello&#39;</div>"
      ]
     },
     "metadata": {
      "application/vnd.databricks.v1+output": {
       "addedWidgets": {},
       "arguments": {},
       "data": "<div class=\"ansiout\">Out[3]: &#39;hello&#39;</div>",
       "datasetInfos": [],
       "metadata": {},
       "removedWidgets": [],
       "type": "html"
      }
     },
     "output_type": "display_data"
    }
   ],
   "source": [
    "a = \"hello\""
   ]
  },
  {
   "cell_type": "markdown",
   "metadata": {
    "application/vnd.databricks.v1+cell": {
     "inputWidgets": {},
     "nuid": "3b6ea2b9-3f43-42e0-9e7c-88825669847e",
     "showTitle": false,
     "title": ""
    }
   },
   "source": [
    "Cette cellule n'affiche rien. \n",
    "\n",
    "Pour afficher la valeur d'une variable nous devons utiliser la fonction `print(...)`:"
   ]
  },
  {
   "cell_type": "code",
   "execution_count": null,
   "metadata": {
    "application/vnd.databricks.v1+cell": {
     "inputWidgets": {},
     "nuid": "c5ad8f7f-5682-4f10-b169-b70f251ab510",
     "showTitle": false,
     "title": ""
    }
   },
   "outputs": [
    {
     "data": {
      "text/html": [
       "<style scoped>\n",
       "  .ansiout {\n",
       "    display: block;\n",
       "    unicode-bidi: embed;\n",
       "    white-space: pre-wrap;\n",
       "    word-wrap: break-word;\n",
       "    word-break: break-all;\n",
       "    font-family: \"Source Code Pro\", \"Menlo\", monospace;;\n",
       "    font-size: 13px;\n",
       "    color: #555;\n",
       "    margin-left: 4px;\n",
       "    line-height: 19px;\n",
       "  }\n",
       "</style>\n",
       "<div class=\"ansiout\">Out[8]: &#39;hello&#39;</div>"
      ]
     },
     "metadata": {
      "application/vnd.databricks.v1+output": {
       "addedWidgets": {},
       "arguments": {},
       "data": "<div class=\"ansiout\">Out[8]: &#39;hello&#39;</div>",
       "datasetInfos": [],
       "metadata": {},
       "removedWidgets": [],
       "type": "html"
      }
     },
     "output_type": "display_data"
    }
   ],
   "source": [
    "a = \"hello\"\n",
    "print(a)"
   ]
  },
  {
   "cell_type": "code",
   "execution_count": null,
   "metadata": {
    "application/vnd.databricks.v1+cell": {
     "inputWidgets": {},
     "nuid": "11e548b4-7e7f-4315-8e90-e73b949ef165",
     "showTitle": false,
     "title": ""
    }
   },
   "outputs": [
    {
     "data": {
      "text/html": [
       "<style scoped>\n",
       "  .ansiout {\n",
       "    display: block;\n",
       "    unicode-bidi: embed;\n",
       "    white-space: pre-wrap;\n",
       "    word-wrap: break-word;\n",
       "    word-break: break-all;\n",
       "    font-family: \"Source Code Pro\", \"Menlo\", monospace;;\n",
       "    font-size: 13px;\n",
       "    color: #555;\n",
       "    margin-left: 4px;\n",
       "    line-height: 19px;\n",
       "  }\n",
       "</style>\n",
       "<div class=\"ansiout\">Out[9]: &#39;hello&#39;</div>"
      ]
     },
     "metadata": {
      "application/vnd.databricks.v1+output": {
       "addedWidgets": {},
       "arguments": {},
       "data": "<div class=\"ansiout\">Out[9]: &#39;hello&#39;</div>",
       "datasetInfos": [],
       "metadata": {},
       "removedWidgets": [],
       "type": "html"
      }
     },
     "output_type": "display_data"
    }
   ],
   "source": [
    "a = \"hello\""
   ]
  },
  {
   "cell_type": "markdown",
   "metadata": {
    "application/vnd.databricks.v1+cell": {
     "inputWidgets": {},
     "nuid": "b8009a66-2542-4452-ad36-a53afe49a405",
     "showTitle": false,
     "title": ""
    }
   },
   "source": [
    "#### TP1: Première variable\n",
    "\n",
    "Insérez le nombre 25 dans une variable nommée `variable_1` et utilisez la fonction `print(...)` pour afficher la valeur de la variable.\n",
    "Faites de même pour une seconde variable nommée `variable_2` contenant 23.4343"
   ]
  },
  {
   "cell_type": "code",
   "execution_count": 2,
   "metadata": {
    "application/vnd.databricks.v1+cell": {
     "inputWidgets": {},
     "nuid": "935a7e29-bf56-41dc-84b0-fe4f1d642651",
     "showTitle": false,
     "title": ""
    }
   },
   "outputs": [
    {
     "name": "stdout",
     "output_type": "stream",
     "text": [
      "25\n",
      "23.4343\n"
     ]
    }
   ],
   "source": [
    "variable_1 = 25\n",
    "variable_2 = 23.4343\n",
    "\n",
    "print(variable_1)\n",
    "print(variable_2)"
   ]
  },
  {
   "cell_type": "markdown",
   "metadata": {
    "application/vnd.databricks.v1+cell": {
     "inputWidgets": {},
     "nuid": "5e93b23e-20f6-42b7-881d-72448468d1a8",
     "showTitle": false,
     "title": ""
    }
   },
   "source": [
    "### Types des variables\n",
    "\n",
    "Il existe plusieurs types de variables en python.\n",
    "\n",
    "Voici les types de bases:"
   ]
  },
  {
   "cell_type": "markdown",
   "metadata": {
    "application/vnd.databricks.v1+cell": {
     "inputWidgets": {},
     "nuid": "f50f10bc-4c69-437b-b337-bf7c1d8d6f9d",
     "showTitle": false,
     "title": ""
    }
   },
   "source": [
    "#### Les types numériques:\n",
    "\n",
    "En `python` il existe deux types de données numériques:\n",
    "* les entiers que nous appelons `int`\n",
    "* les décimaux que nous appelons `float` \n",
    "\n",
    "> ⚠️ les décimaux utilisent la notation anglaise. Il faut donc utiliser un `.` et non une `,` pour spécifier la séparation entre la partie entière et la partie décimale."
   ]
  },
  {
   "cell_type": "code",
   "execution_count": 3,
   "metadata": {
    "application/vnd.databricks.v1+cell": {
     "inputWidgets": {},
     "nuid": "f6bddbb7-d772-45b1-8f0d-58bde568b563",
     "showTitle": false,
     "title": ""
    }
   },
   "outputs": [
    {
     "name": "stdout",
     "output_type": "stream",
     "text": [
      "entier_positif= 12\n",
      "entier_negatif= -90\n",
      "entier_zero= 0\n",
      "decimaux_positif 12.234\n",
      "decimaux_negatif -3.14\n",
      "decimaux_zero 0.0\n"
     ]
    }
   ],
   "source": [
    "# Les entiers\n",
    "entier_positif = 12\n",
    "entier_negatif = -90\n",
    "entier_zero = 0\n",
    "\n",
    "print(\"entier_positif=\", entier_positif)\n",
    "print(\"entier_negatif=\", entier_negatif)\n",
    "print(\"entier_zero=\", entier_zero)\n",
    "\n",
    "# Les décimaux\n",
    "decimaux_positif = 12.234\n",
    "decimaux_negatif = -3.14\n",
    "decimaux_zero = 0.0\n",
    "\n",
    "print(\"decimaux_positif\", decimaux_positif)\n",
    "print(\"decimaux_negatif\", decimaux_negatif)\n",
    "print(\"decimaux_zero\", decimaux_zero)\n"
   ]
  },
  {
   "cell_type": "markdown",
   "metadata": {
    "application/vnd.databricks.v1+cell": {
     "inputWidgets": {},
     "nuid": "0bf88b58-73af-4932-8d33-ceef366f5674",
     "showTitle": false,
     "title": ""
    }
   },
   "source": [
    "#### Les chaînes de caractères\n",
    "\n",
    "Il existe plusieurs syntaxes pour les chaînes de caractères en python.\n",
    "Nous parlons de `string`.\n",
    "\n",
    "Il y a 4 syntaxes pour les chaînes de caractères:"
   ]
  },
  {
   "cell_type": "code",
   "execution_count": null,
   "metadata": {
    "application/vnd.databricks.v1+cell": {
     "inputWidgets": {},
     "nuid": "fd45f626-bb55-4ab6-bbcf-aa89cb01ffa9",
     "showTitle": false,
     "title": ""
    }
   },
   "outputs": [
    {
     "data": {
      "text/html": [
       "<style scoped>\n",
       "  .ansiout {\n",
       "    display: block;\n",
       "    unicode-bidi: embed;\n",
       "    white-space: pre-wrap;\n",
       "    word-wrap: break-word;\n",
       "    word-break: break-all;\n",
       "    font-family: \"Source Code Pro\", \"Menlo\", monospace;;\n",
       "    font-size: 13px;\n",
       "    color: #555;\n",
       "    margin-left: 4px;\n",
       "    line-height: 19px;\n",
       "  }\n",
       "</style>\n",
       "<div class=\"ansiout\">Syntaxe courte avec des simples cotes\n",
       "</div>"
      ]
     },
     "metadata": {
      "application/vnd.databricks.v1+output": {
       "addedWidgets": {},
       "arguments": {},
       "data": "<div class=\"ansiout\">Syntaxe courte avec des simples cotes\n</div>",
       "datasetInfos": [],
       "metadata": {},
       "removedWidgets": [],
       "type": "html"
      }
     },
     "output_type": "display_data"
    }
   ],
   "source": [
    "# Syntaxe courtes simples cotes\n",
    "string_simple_cote = 'Syntaxes courtes simples cotes'\n",
    "print(string_simple_cote)"
   ]
  },
  {
   "cell_type": "code",
   "execution_count": null,
   "metadata": {
    "application/vnd.databricks.v1+cell": {
     "inputWidgets": {},
     "nuid": "cdc9486d-c8ae-4b9b-83b0-2af2395e6457",
     "showTitle": false,
     "title": ""
    }
   },
   "outputs": [
    {
     "data": {
      "text/html": [
       "<style scoped>\n",
       "  .ansiout {\n",
       "    display: block;\n",
       "    unicode-bidi: embed;\n",
       "    white-space: pre-wrap;\n",
       "    word-wrap: break-word;\n",
       "    word-break: break-all;\n",
       "    font-family: \"Source Code Pro\", \"Menlo\", monospace;;\n",
       "    font-size: 13px;\n",
       "    color: #555;\n",
       "    margin-left: 4px;\n",
       "    line-height: 19px;\n",
       "  }\n",
       "</style>\n",
       "<div class=\"ansiout\">Syntaxe courte avec doubles cotes\n",
       "</div>"
      ]
     },
     "metadata": {
      "application/vnd.databricks.v1+output": {
       "addedWidgets": {},
       "arguments": {},
       "data": "<div class=\"ansiout\">Syntaxe courte avec doubles cotes\n</div>",
       "datasetInfos": [],
       "metadata": {},
       "removedWidgets": [],
       "type": "html"
      }
     },
     "output_type": "display_data"
    }
   ],
   "source": [
    "# Syntaxe courtes doubles cotes\n",
    "string_double_cote = \"Syntaxes courtes avec doubles cotes\"\n",
    "print(string_double_cote)"
   ]
  },
  {
   "cell_type": "code",
   "execution_count": null,
   "metadata": {
    "application/vnd.databricks.v1+cell": {
     "inputWidgets": {},
     "nuid": "1adb547f-72d0-454a-9c1a-48c4705c3b00",
     "showTitle": false,
     "title": ""
    }
   },
   "outputs": [
    {
     "data": {
      "text/html": [
       "<style scoped>\n",
       "  .ansiout {\n",
       "    display: block;\n",
       "    unicode-bidi: embed;\n",
       "    white-space: pre-wrap;\n",
       "    word-wrap: break-word;\n",
       "    word-break: break-all;\n",
       "    font-family: \"Source Code Pro\", \"Menlo\", monospace;;\n",
       "    font-size: 13px;\n",
       "    color: #555;\n",
       "    margin-left: 4px;\n",
       "    line-height: 19px;\n",
       "  }\n",
       "</style>\n",
       "<div class=\"ansiout\">\n",
       "Une syntaxe longue\n",
       "Utilisant les doubles cotes\n",
       "\n",
       "</div>"
      ]
     },
     "metadata": {
      "application/vnd.databricks.v1+output": {
       "addedWidgets": {},
       "arguments": {},
       "data": "<div class=\"ansiout\">\nUne syntaxe longue\nUtilisant les doubles cotes\n\n</div>",
       "datasetInfos": [],
       "metadata": {},
       "removedWidgets": [],
       "type": "html"
      }
     },
     "output_type": "display_data"
    }
   ],
   "source": [
    "# Syntaxes longues doubles cotes\n",
    "long_string_double_cote = \"\"\"\n",
    "Une syntaxe longue\n",
    "Utilisant les doubles cotes\n",
    "\"\"\"\n",
    "print(long_string_double_cote)"
   ]
  },
  {
   "cell_type": "code",
   "execution_count": null,
   "metadata": {
    "application/vnd.databricks.v1+cell": {
     "inputWidgets": {},
     "nuid": "4fcba675-25dd-480a-9248-7d1e82dfb2bf",
     "showTitle": false,
     "title": ""
    }
   },
   "outputs": [
    {
     "data": {
      "text/html": [
       "<style scoped>\n",
       "  .ansiout {\n",
       "    display: block;\n",
       "    unicode-bidi: embed;\n",
       "    white-space: pre-wrap;\n",
       "    word-wrap: break-word;\n",
       "    word-break: break-all;\n",
       "    font-family: \"Source Code Pro\", \"Menlo\", monospace;;\n",
       "    font-size: 13px;\n",
       "    color: #555;\n",
       "    margin-left: 4px;\n",
       "    line-height: 19px;\n",
       "  }\n",
       "</style>\n",
       "<div class=\"ansiout\">\n",
       "Une syntaxe longue\n",
       "Utilisant les doubles cotes\n",
       "\n",
       "</div>"
      ]
     },
     "metadata": {
      "application/vnd.databricks.v1+output": {
       "addedWidgets": {},
       "arguments": {},
       "data": "<div class=\"ansiout\">\nUne syntaxe longue\nUtilisant les doubles cotes\n\n</div>",
       "datasetInfos": [],
       "metadata": {},
       "removedWidgets": [],
       "type": "html"
      }
     },
     "output_type": "display_data"
    }
   ],
   "source": [
    "# Syntaxes longues simples cotes\n",
    "long_string_simple_cote = '''\n",
    "Une syntaxe longue\n",
    "Utilisant les doubles cotes\n",
    "'''\n",
    "print(long_string_simple_cote)"
   ]
  },
  {
   "cell_type": "markdown",
   "metadata": {
    "application/vnd.databricks.v1+cell": {
     "inputWidgets": {},
     "nuid": "9550c895-0cb7-468a-ac11-ececbd369fef",
     "showTitle": false,
     "title": ""
    }
   },
   "source": [
    "#### Les Booleans\n",
    "\n",
    "Pour traduire les possibilités binaires, nous utilisons les `booleans` qui peuvent valoir seulement deux valeurs:\n",
    "* __True__: Si vrai\n",
    "* __False__: Si faux"
   ]
  },
  {
   "cell_type": "code",
   "execution_count": null,
   "metadata": {
    "application/vnd.databricks.v1+cell": {
     "inputWidgets": {},
     "nuid": "0fca0578-8723-4dcd-9916-2a3ae737d896",
     "showTitle": false,
     "title": ""
    }
   },
   "outputs": [
    {
     "data": {
      "text/html": [
       "<style scoped>\n",
       "  .ansiout {\n",
       "    display: block;\n",
       "    unicode-bidi: embed;\n",
       "    white-space: pre-wrap;\n",
       "    word-wrap: break-word;\n",
       "    word-break: break-all;\n",
       "    font-family: \"Source Code Pro\", \"Menlo\", monospace;;\n",
       "    font-size: 13px;\n",
       "    color: #555;\n",
       "    margin-left: 4px;\n",
       "    line-height: 19px;\n",
       "  }\n",
       "</style>\n",
       "<div class=\"ansiout\">vrai = True\n",
       "faux = False\n",
       "</div>"
      ]
     },
     "metadata": {
      "application/vnd.databricks.v1+output": {
       "addedWidgets": {},
       "arguments": {},
       "data": "<div class=\"ansiout\">vrai = True\nfaux = False\n</div>",
       "datasetInfos": [],
       "metadata": {},
       "removedWidgets": [],
       "type": "html"
      }
     },
     "output_type": "display_data"
    }
   ],
   "source": [
    "vrai = True\n",
    "faux = False\n",
    "\n",
    "print(\"vrai =\", vrai)\n",
    "print(\"faux =\", faux)"
   ]
  },
  {
   "cell_type": "markdown",
   "metadata": {
    "application/vnd.databricks.v1+cell": {
     "inputWidgets": {},
     "nuid": "bcf28eb1-2df6-44f0-b5ba-6ff5d25261f7",
     "showTitle": false,
     "title": ""
    }
   },
   "source": [
    "#### TP2: Ecriture de variables\n",
    "\n",
    "Créer 4 variables:\n",
    "* Une variable du type `int` se nommant `âge` valant votre âge\n",
    "* Une variable de type `float` se nommant `taille en mètre` valant votre taille\n",
    "* Deux variables de type `string`: nom et prénom\n",
    "* Une variable du type `boolean` valant vraie si vous avez plus de 18 ans.\n",
    "\n",
    "Affichez vos variables avec la fonction `print`."
   ]
  },
  {
   "cell_type": "code",
   "execution_count": 9,
   "metadata": {
    "application/vnd.databricks.v1+cell": {
     "inputWidgets": {},
     "nuid": "896ecbdf-74be-46e4-8092-4980dc3a35a1",
     "showTitle": false,
     "title": ""
    }
   },
   "outputs": [
    {
     "name": "stdout",
     "output_type": "stream",
     "text": [
      "florentvanoudheusden30 ans mesure 1.71 metre \n",
      "30 True\n"
     ]
    }
   ],
   "source": [
    "age = 30\n",
    "taille_en_metre = 1.71\n",
    "prenom = \"florent\"\n",
    "nom = \"vanoudheusden\"\n",
    "vrai = True\n",
    "\n",
    "print(str(prenom) + str(nom) + str(age) + \" ans mesure \" + str(taille_en_metre) + \" metre \")\n",
    "print(30,vrai)\n",
    "\n",
    "\n"
   ]
  },
  {
   "cell_type": "markdown",
   "metadata": {
    "application/vnd.databricks.v1+cell": {
     "inputWidgets": {},
     "nuid": "50d79b5a-ef68-4958-ac1e-640b3bcbd83e",
     "showTitle": false,
     "title": ""
    }
   },
   "source": [
    "> Il existe d'autres types que nous verrons plus tard."
   ]
  },
  {
   "cell_type": "markdown",
   "metadata": {
    "application/vnd.databricks.v1+cell": {
     "inputWidgets": {},
     "nuid": "525679b9-3340-45c9-8962-8aefe787e50b",
     "showTitle": false,
     "title": ""
    }
   },
   "source": [
    "## Les opérateurs"
   ]
  },
  {
   "cell_type": "markdown",
   "metadata": {
    "application/vnd.databricks.v1+cell": {
     "inputWidgets": {},
     "nuid": "5fdb8b2e-00c1-4110-8fcc-653e862c1480",
     "showTitle": false,
     "title": ""
    }
   },
   "source": [
    "### Opérateurs sur les nombres\n",
    "\n",
    "Voici la liste des opérateurs pour les nombres:\n",
    "* `+` pour l'addition\n",
    "* `-` pour la soustraction\n",
    "* `*` pour la multiplication\n",
    "* `/` pour la division\n",
    "* `//` pour la division entière\n",
    "* `%` pour le modulo\n",
    "* `**` pour la puissance"
   ]
  },
  {
   "cell_type": "code",
   "execution_count": 11,
   "metadata": {
    "application/vnd.databricks.v1+cell": {
     "inputWidgets": {},
     "nuid": "0c7182e5-a9dd-4ad7-a30b-b14f7d87cd1c",
     "showTitle": false,
     "title": ""
    }
   },
   "outputs": [
    {
     "name": "stdout",
     "output_type": "stream",
     "text": [
      "5+4   = 9\n",
      "5-4   = 1\n",
      "5*4   = 20\n",
      "55/14 = 3.9285714285714284\n",
      "55//14= 3\n",
      "55%14 = 13\n",
      "5**4  = 625\n"
     ]
    }
   ],
   "source": [
    "print(\"5+4   =\",5+4)\n",
    "print(\"5-4   =\",5-4)\n",
    "print(\"5*4   =\",5*4)\n",
    "print(\"55/14 =\",55/14)\n",
    "print(\"55//14=\",55//14)\n",
    "print(\"55%14 =\",55%14)\n",
    "print(\"5**4  =\",5**4)"
   ]
  },
  {
   "cell_type": "markdown",
   "metadata": {
    "application/vnd.databricks.v1+cell": {
     "inputWidgets": {},
     "nuid": "0b07cfc5-5d14-4327-a91e-3406e9cea72e",
     "showTitle": false,
     "title": ""
    }
   },
   "source": [
    "### Opération sur les chaînes de caractères\n",
    "Il existe quelques opérateurs sur les chaînes de caractères:\n",
    "* `<str>+<str>` pour la concaténation\n",
    "* `<str>*<int>` pour la réplication de la chaîne de caractères"
   ]
  },
  {
   "cell_type": "code",
   "execution_count": null,
   "metadata": {
    "application/vnd.databricks.v1+cell": {
     "inputWidgets": {},
     "nuid": "28c01959-36e2-4023-8ac1-41383b31a3f8",
     "showTitle": false,
     "title": ""
    }
   },
   "outputs": [
    {
     "data": {
      "text/html": [
       "<style scoped>\n",
       "  .ansiout {\n",
       "    display: block;\n",
       "    unicode-bidi: embed;\n",
       "    white-space: pre-wrap;\n",
       "    word-wrap: break-word;\n",
       "    word-break: break-all;\n",
       "    font-family: \"Source Code Pro\", \"Menlo\", monospace;;\n",
       "    font-size: 13px;\n",
       "    color: #555;\n",
       "    margin-left: 4px;\n",
       "    line-height: 19px;\n",
       "  }\n",
       "</style>\n",
       "<div class=\"ansiout\">concaténation hello!!!\n",
       "replication   hellohellohellohellohellohellohellohellohellohellohellohello\n",
       "</div>"
      ]
     },
     "metadata": {
      "application/vnd.databricks.v1+output": {
       "addedWidgets": {},
       "arguments": {},
       "data": "<div class=\"ansiout\">concaténation hello!!!\nreplication   hellohellohellohellohellohellohellohellohellohellohellohello\n</div>",
       "datasetInfos": [],
       "metadata": {},
       "removedWidgets": [],
       "type": "html"
      }
     },
     "output_type": "display_data"
    }
   ],
   "source": [
    "message = \"hello\"\n",
    "print(\"concaténation\", message + \"!!!\")\n",
    "print(\"replication  \", message*12)"
   ]
  },
  {
   "cell_type": "markdown",
   "metadata": {
    "application/vnd.databricks.v1+cell": {
     "inputWidgets": {},
     "nuid": "90f8da33-cbec-4ae9-9c43-70a572c3d6b7",
     "showTitle": false,
     "title": ""
    }
   },
   "source": [
    "#### TP3 Génération d'emails\n",
    "1. Créez deux variables `noms` et `prénom` contenant votre nom et votre prénom.\n",
    "2. Créez une variable email valant : `nom>. Pré-nom>@email.com`.\n",
    "3. Affichez le nom, le prénom et l'email."
   ]
  },
  {
   "cell_type": "code",
   "execution_count": 17,
   "metadata": {
    "application/vnd.databricks.v1+cell": {
     "inputWidgets": {},
     "nuid": "ef98855f-8b56-4b64-a74c-aa7e00eadca0",
     "showTitle": false,
     "title": ""
    }
   },
   "outputs": [
    {
     "name": "stdout",
     "output_type": "stream",
     "text": [
      "florent-vanoud@awesome.com\n"
     ]
    }
   ],
   "source": [
    "nom = \"vanoud\"\n",
    "prenom =\"florent\"\n",
    "print(str(prenom) +\"-\" + str(nom) + \"@awesome\" + \".com\")"
   ]
  },
  {
   "cell_type": "markdown",
   "metadata": {
    "application/vnd.databricks.v1+cell": {
     "inputWidgets": {},
     "nuid": "b3b0e635-c1af-422b-8795-cb4b89efa1a1",
     "showTitle": false,
     "title": ""
    }
   },
   "source": [
    "#### TP4 Un test...\n",
    "1. Créez deux variables `nom` et  `prénom` contenant votre nom et votre prénom.\n",
    "2. Créez une autre variable `département` qui contient votre __numero__ de département.\n",
    "3. Créez une variable `email` valant: `<nom>.<prenom><departement>@email.com`.\n",
    "4. Quel est le problème?"
   ]
  },
  {
   "cell_type": "code",
   "execution_count": 18,
   "metadata": {
    "application/vnd.databricks.v1+cell": {
     "inputWidgets": {},
     "nuid": "377e4835-cf15-4d60-a122-b8d548259f08",
     "showTitle": false,
     "title": ""
    }
   },
   "outputs": [
    {
     "name": "stdout",
     "output_type": "stream",
     "text": [
      "florent-vanoud59@awesome.com\n"
     ]
    }
   ],
   "source": [
    "nom = \"vanoud\"\n",
    "prenom =\"florent\"\n",
    "departement = 59 \n",
    "print(prenom +\"-\" + nom + str(departement) +\"@awesome\" + \".com\")\n",
    "# il faut caster str() pour lui preciser que c'est un int "
   ]
  },
  {
   "cell_type": "markdown",
   "metadata": {
    "application/vnd.databricks.v1+cell": {
     "inputWidgets": {},
     "nuid": "e2cc714f-737b-4e7a-8fca-ed24505d36db",
     "showTitle": false,
     "title": ""
    }
   },
   "source": [
    "### Changement de typage\n",
    "\n",
    "Vous ne pouvez pas concaténer une chaîne de caractères ( type `str`) avec un entier (type `int`).\n",
    "\n",
    "Pour faire une concaténation entre une `star` et un autre type, vous devez transformer la valeur en `str` avec la fonction `str()`:"
   ]
  },
  {
   "cell_type": "code",
   "execution_count": null,
   "metadata": {
    "application/vnd.databricks.v1+cell": {
     "inputWidgets": {},
     "nuid": "d65c7140-16d4-4b5b-a43e-f727ba038bf2",
     "showTitle": false,
     "title": ""
    }
   },
   "outputs": [
    {
     "data": {
      "text/html": [
       "<style scoped>\n",
       "  .ansiout {\n",
       "    display: block;\n",
       "    unicode-bidi: embed;\n",
       "    white-space: pre-wrap;\n",
       "    word-wrap: break-word;\n",
       "    word-break: break-all;\n",
       "    font-family: \"Source Code Pro\", \"Menlo\", monospace;;\n",
       "    font-size: 13px;\n",
       "    color: #555;\n",
       "    margin-left: 4px;\n",
       "    line-height: 19px;\n",
       "  }\n",
       "</style>\n",
       "<div class=\"ansiout\">solde de 150\n",
       "</div>"
      ]
     },
     "metadata": {
      "application/vnd.databricks.v1+output": {
       "addedWidgets": {},
       "arguments": {},
       "data": "<div class=\"ansiout\">solde de 150\n</div>",
       "datasetInfos": [],
       "metadata": {},
       "removedWidgets": [],
       "type": "html"
      }
     },
     "output_type": "display_data"
    }
   ],
   "source": [
    "début_message = \"solde de \"\n",
    "solde = 150\n",
    "message = debut_message  + str(solde)\n",
    "print(message)"
   ]
  },
  {
   "cell_type": "markdown",
   "metadata": {
    "application/vnd.databricks.v1+cell": {
     "inputWidgets": {},
     "nuid": "9d5fb8e0-6caa-40c4-98ca-3d358856d047",
     "showTitle": false,
     "title": ""
    }
   },
   "source": [
    "Il existe une fonction de transtypage pour chacun des types primaires.\n",
    "* `int((.)` pour la transformation en entier\n",
    "* `float(.)` pour la transformation en décimaux\n",
    "* `boolean(.)` pour les booleans\n",
    "* `str(.)` pour les chaînes de caractères\n",
    "* `list(.)` pour les listes\n",
    "* `dict(.)` pour les dictionnaires"
   ]
  },
  {
   "cell_type": "code",
   "execution_count": 19,
   "metadata": {
    "application/vnd.databricks.v1+cell": {
     "inputWidgets": {},
     "nuid": "87536317-962d-4677-be88-2574f39fd0ce",
     "showTitle": false,
     "title": ""
    }
   },
   "outputs": [
    {
     "name": "stdout",
     "output_type": "stream",
     "text": [
      "cast en int 10\n",
      "cast en float 10.0393\n",
      "cast en boolean 5.0\n"
     ]
    }
   ],
   "source": [
    "print(\"cast en int\", 4 + int(\"6\"))\n",
    "print(\"cast en float\", 4.0 + float(\"6.0393\"))\n",
    "print(\"cast en boolean\", 4.0 + bool(\"True\"))"
   ]
  },
  {
   "cell_type": "markdown",
   "metadata": {
    "application/vnd.databricks.v1+cell": {
     "inputWidgets": {},
     "nuid": "ea67302e-2694-42d7-886f-0959a57431cb",
     "showTitle": false,
     "title": ""
    }
   },
   "source": [
    "Vous pouvez utiliser la fonction `type(.)` pour connaître le type d'une variable."
   ]
  },
  {
   "cell_type": "code",
   "execution_count": 20,
   "metadata": {
    "application/vnd.databricks.v1+cell": {
     "inputWidgets": {},
     "nuid": "8bc85347-fa43-4c2a-b6f6-019d9b4361d6",
     "showTitle": false,
     "title": ""
    }
   },
   "outputs": [
    {
     "name": "stdout",
     "output_type": "stream",
     "text": [
      "<class 'int'>\n",
      "<class 'float'>\n",
      "<class 'str'>\n",
      "<class 'bool'>\n"
     ]
    }
   ],
   "source": [
    "print(type(3))\n",
    "print(type(4.1))\n",
    "print(type(\"hello\"))\n",
    "print(type(True))"
   ]
  },
  {
   "cell_type": "markdown",
   "metadata": {
    "application/vnd.databricks.v1+cell": {
     "inputWidgets": {},
     "nuid": "bf1bee5d-2823-4c84-b175-1c287e0471ae",
     "showTitle": false,
     "title": ""
    }
   },
   "source": [
    "#### TP5\n",
    "Reprenez l'exercice précédent. Corrigez le typage de la variable en utilisant l'opérateur de \"cast\" `str(a)`"
   ]
  },
  {
   "cell_type": "code",
   "execution_count": null,
   "metadata": {
    "application/vnd.databricks.v1+cell": {
     "inputWidgets": {},
     "nuid": "79a39a0d-67ef-4ec2-a19f-3dbe831385d8",
     "showTitle": false,
     "title": ""
    }
   },
   "outputs": [
    {
     "data": {
      "text/html": [
       "<style scoped>\n",
       "  .ansiout {\n",
       "    display: block;\n",
       "    unicode-bidi: embed;\n",
       "    white-space: pre-wrap;\n",
       "    word-wrap: break-word;\n",
       "    word-break: break-all;\n",
       "    font-family: \"Source Code Pro\", \"Menlo\", monospace;;\n",
       "    font-size: 13px;\n",
       "    color: #555;\n",
       "    margin-left: 4px;\n",
       "    line-height: 19px;\n",
       "  }\n",
       "</style>"
      ]
     },
     "metadata": {
      "application/vnd.databricks.v1+output": {
       "arguments": {},
       "data": "",
       "errorSummary": "",
       "errorTraceType": null,
       "metadata": {},
       "type": "ipynbError"
      }
     },
     "output_type": "display_data"
    }
   ],
   "source": []
  },
  {
   "cell_type": "markdown",
   "metadata": {
    "application/vnd.databricks.v1+cell": {
     "inputWidgets": {},
     "nuid": "a95b58e8-6a19-4faa-876a-f623dd58c9d7",
     "showTitle": false,
     "title": ""
    }
   },
   "source": [
    "### Les opérateurs logiques\n",
    "Il existe aussi des opérateurs logiques pour effectuer des comparaisons entre deux valeurs:\n",
    "* `>` strictement supérieur\n",
    "* `<` strictement inférieur\n",
    "* `>=` supérieur ou égal\n",
    "* `<=` inférieur ou égal\n",
    "* `==` égal\n",
    "* `!=`différent"
   ]
  },
  {
   "cell_type": "code",
   "execution_count": 21,
   "metadata": {
    "application/vnd.databricks.v1+cell": {
     "inputWidgets": {},
     "nuid": "f9eefd00-b0ca-4fae-8d7f-d0bb315dd40a",
     "showTitle": false,
     "title": ""
    }
   },
   "outputs": [
    {
     "name": "stdout",
     "output_type": "stream",
     "text": [
      "a >  b True\n",
      "a <  b False\n",
      "a >= b True\n",
      "a <= b False\n",
      "a == b False\n",
      "a != b True\n"
     ]
    }
   ],
   "source": [
    "a = 19\n",
    "b = 18\n",
    "\n",
    "print(\"a >  b\", a>b )\n",
    "print(\"a <  b\", a<b )\n",
    "print(\"a >= b\", a>=b)\n",
    "print(\"a <= b\", a<=b)\n",
    "print(\"a == b\", a==b)\n",
    "print(\"a != b\", a!=b)"
   ]
  },
  {
   "cell_type": "markdown",
   "metadata": {
    "application/vnd.databricks.v1+cell": {
     "inputWidgets": {},
     "nuid": "896077c3-67c2-4e82-a15c-915af659b7d7",
     "showTitle": false,
     "title": ""
    }
   },
   "source": [
    "#### TP5: Pythagore\n",
    "\n",
    "Soit 2 variables :\n",
    "* a vaut 12\n",
    "* b vaut 34\n",
    "\n",
    "Questions :\n",
    "1. Multipliez `a` par lui même et stockez-le dans une variable nommée :  `a_carre`\n",
    "2. Faites de même avec `b` dans : `b_carre`\n",
    "3. Stockez dans `hypo_carre` l'addition de `a_carre` et `b_carre`\n",
    "4. Affichez `hypo_carre`\n",
    "5. Créez la variable `hypo` valant la racine carrée de `hypo_carre`\n",
    "> La racine carrée peut être faite en utilisant la puissance 0.5\n",
    "6. Affichez le résultat dans une phrase\n",
    "`Pour les cotés a=<a> et b=<b> alors l'hypoténuse c=<hypo>`"
   ]
  },
  {
   "cell_type": "code",
   "execution_count": 31,
   "metadata": {
    "application/vnd.databricks.v1+cell": {
     "inputWidgets": {},
     "nuid": "be54a986-1c25-4320-be2a-1006afffd01c",
     "showTitle": false,
     "title": ""
    }
   },
   "outputs": [
    {
     "name": "stdout",
     "output_type": "stream",
     "text": [
      "Pour les cotés a = 5 et b = 4 alors l'hypoténuse c = 41\n",
      "la racine carré est de 6.4031242374328485\n"
     ]
    }
   ],
   "source": [
    "a = 5\n",
    "b = 4\n",
    "a_carre = a * a \n",
    "b_carre = b * b \n",
    "hypo_carre = a_carre + b_carre\n",
    "square = hypo_carre ** 0.5\n",
    "print(\"Pour les cotés a = \" + str(a) +  \" et b = \" + str(b) + \" alors l'hypoténuse c = \" + str(hypo_carre))\n",
    "print(\"la racine carré est de \" + str(square))\n"
   ]
  },
  {
   "cell_type": "code",
   "execution_count": null,
   "metadata": {},
   "outputs": [],
   "source": []
  }
 ],
 "metadata": {
  "application/vnd.databricks.v1+notebook": {
   "dashboards": [],
   "language": "python",
   "notebookMetadata": {
    "pythonIndentUnit": 4
   },
   "notebookName": "01_les variables",
   "notebookOrigID": 4296648366370247,
   "widgets": {}
  },
  "kernelspec": {
   "display_name": "Python 3 (ipykernel)",
   "language": "python",
   "name": "python3"
  },
  "language_info": {
   "codemirror_mode": {
    "name": "ipython",
    "version": 3
   },
   "file_extension": ".py",
   "mimetype": "text/x-python",
   "name": "python",
   "nbconvert_exporter": "python",
   "pygments_lexer": "ipython3",
   "version": "3.9.7"
  }
 },
 "nbformat": 4,
 "nbformat_minor": 4
}
