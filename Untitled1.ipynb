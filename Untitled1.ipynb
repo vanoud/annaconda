{
 "cells": [
  {
   "cell_type": "code",
   "execution_count": 2,
   "id": "ab14d994-a411-4683-8b75-f967f00bbe1a",
   "metadata": {},
   "outputs": [
    {
     "name": "stdin",
     "output_type": "stream",
     "text": [
      "entré une hauteur en metre 350\n"
     ]
    },
    {
     "name": "stdout",
     "output_type": "stream",
     "text": [
      "il faut plier 22 fois pour atteindre cette hauteur\n"
     ]
    }
   ],
   "source": [
    "reponse = input(\"entré une hauteur en metre\")\n",
    "reponse = int(reponse)\n",
    "reponse = reponse * 1000\n",
    "\n",
    "def plier(hauteur):\n",
    "\n",
    "    \n",
    "    papier = 0.1\n",
    "    nb_pli = []\n",
    "\n",
    "    while papier < hauteur:\n",
    "\n",
    "        papier = papier * 2\n",
    "        nb_pli.append(papier)\n",
    "\n",
    "    print(\"il faut plier \" + str(len(nb_pli)) + \" fois pour atteindre cette hauteur\" )\n",
    "\n",
    "plier(reponse)"
   ]
  },
  {
   "cell_type": "code",
   "execution_count": null,
   "id": "5b7730ea-efe0-4613-8886-5ae7c9b9f716",
   "metadata": {},
   "outputs": [],
   "source": []
  },
  {
   "cell_type": "code",
   "execution_count": 8,
   "id": "0d396f33-eec7-48da-b3fe-628bf53b82aa",
   "metadata": {},
   "outputs": [
    {
     "name": "stdout",
     "output_type": "stream",
     "text": [
      "1\n",
      "<class 'tuple'>\n"
     ]
    }
   ],
   "source": [
    "def calc(parm1,*param3): #ici on peut donner plusieurs argument avec 1 seul paramettre qui recupére les arguments dans un tuple\n",
    "    print(parm1)\n",
    "    print(type(param3)) #le 2eme argument -> param qui stock en tuple \n",
    "calc(1,5,6)"
   ]
  },
  {
   "cell_type": "code",
   "execution_count": null,
   "id": "70ac497f-b7bf-45a9-bfe2-a1b653d99f00",
   "metadata": {},
   "outputs": [],
   "source": []
  }
 ],
 "metadata": {
  "kernelspec": {
   "display_name": "Python 3 (ipykernel)",
   "language": "python",
   "name": "python3"
  },
  "language_info": {
   "codemirror_mode": {
    "name": "ipython",
    "version": 3
   },
   "file_extension": ".py",
   "mimetype": "text/x-python",
   "name": "python",
   "nbconvert_exporter": "python",
   "pygments_lexer": "ipython3",
   "version": "3.9.7"
  }
 },
 "nbformat": 4,
 "nbformat_minor": 5
}
