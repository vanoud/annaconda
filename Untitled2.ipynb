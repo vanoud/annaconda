{
 "cells": [
  {
   "cell_type": "code",
   "execution_count": 3,
   "id": "f8c29045-ed50-4afe-860e-5e4e9aa5ac14",
   "metadata": {
    "tags": []
   },
   "outputs": [
    {
     "name": "stdout",
     "output_type": "stream",
     "text": [
      "[1, 6, 5, 5, 4, 6]\n"
     ]
    }
   ],
   "source": [
    "import random \n",
    "\n",
    "lancers = []\n",
    "\n",
    "for i in range(6):\n",
    "\n",
    "    plus = random.randint(1,6)\n",
    "    lancers.append(plus)\n",
    "\n",
    "print(lancers)"
   ]
  },
  {
   "cell_type": "code",
   "execution_count": 4,
   "id": "57bb2142-2617-4282-a696-e0178add6478",
   "metadata": {},
   "outputs": [
    {
     "name": "stdout",
     "output_type": "stream",
     "text": [
      "pierre_panache_papacito_pascal\n"
     ]
    },
    {
     "data": {
      "text/plain": [
       "str"
      ]
     },
     "execution_count": 4,
     "metadata": {},
     "output_type": "execute_result"
    }
   ],
   "source": [
    "liste = [\"pierre\",\"panache\",\"papacito\",\"pascal\"]\n",
    "\n",
    "resultat = \"_\".join(liste)\n",
    "\n",
    "print(resultat)\n",
    "type(resultat)"
   ]
  },
  {
   "cell_type": "code",
   "execution_count": 14,
   "id": "a0466ef6-7e03-4aeb-bf0f-3046426e4e6e",
   "metadata": {},
   "outputs": [
    {
     "name": "stdout",
     "output_type": "stream",
     "text": [
      "['m', 'm', 'n, p', 'p', '']\n"
     ]
    }
   ],
   "source": [
    "communiste = \"maman, papa\"\n",
    "communiste = communiste.split(\"a\")\n",
    "print(communiste)\n",
    " #separe tout les élement autour du a "
   ]
  },
  {
   "cell_type": "code",
   "execution_count": 15,
   "id": "b6b715ba-6f8a-439f-b47e-85f20f8bfc3e",
   "metadata": {},
   "outputs": [
    {
     "name": "stdout",
     "output_type": "stream",
     "text": [
      "[2, 4, 6, 8, 10]\n"
     ]
    }
   ],
   "source": [
    "liste = [-5, -4, -3, -2, -1, 0, 1, 2, 3, 4, 5]\n",
    "nombres_positifs = [i * 2 for i in liste if i > 0]\n",
    "\n",
    "print(nombres_positifs)"
   ]
  },
  {
   "cell_type": "code",
   "execution_count": 25,
   "id": "1038dafe-2324-456b-b97b-40256478d941",
   "metadata": {
    "tags": []
   },
   "outputs": [
    {
     "ename": "SyntaxError",
     "evalue": "invalid syntax (Temp/ipykernel_12480/3592348989.py, line 7)",
     "output_type": "error",
     "traceback": [
      "\u001b[1;36m  File \u001b[1;32m\"C:\\Users\\super\\AppData\\Local\\Temp/ipykernel_12480/3592348989.py\"\u001b[1;36m, line \u001b[1;32m7\u001b[0m\n\u001b[1;33m    if select in range(item):\u001b[0m\n\u001b[1;37m                            ^\u001b[0m\n\u001b[1;31mSyntaxError\u001b[0m\u001b[1;31m:\u001b[0m invalid syntax\n"
     ]
    }
   ],
   "source": [
    "liste = [\"bannane\",\"pomme\",\"poire\",\"orange\"]\n",
    "\n",
    "for i,item in enumerate(liste):\n",
    "  \n",
    "    print(i,item)\n",
    "    select = input((\"quel indice suppriemr ?\")\n",
    "    if select in range(item):\n",
    "        liste[i].pop()\n",
    "        \n",
    "\n",
    "\n"
   ]
  },
  {
   "cell_type": "code",
   "execution_count": 10,
   "id": "354d7969-fd5c-4948-9f83-7025f88386d7",
   "metadata": {},
   "outputs": [
    {
     "name": "stdin",
     "output_type": "stream",
     "text": [
      "quelle est le chiffre mystére 5\n"
     ]
    },
    {
     "name": "stdout",
     "output_type": "stream",
     "text": [
      "plus bas\n",
      "5\n",
      "il vous reste  14 essai\n"
     ]
    },
    {
     "name": "stdin",
     "output_type": "stream",
     "text": [
      "quelle est le chiffre mystére 4\n"
     ]
    },
    {
     "name": "stdout",
     "output_type": "stream",
     "text": [
      "bravo vous avez gangé\n"
     ]
    }
   ],
   "source": [
    "import random\n",
    "\n",
    "mystery = random.randint(1,10)\n",
    "\n",
    "essais = 15\n",
    "\n",
    "while essais >= 0:\n",
    "    \n",
    "    reponse = input(\"quelle est le chiffre mystére\")\n",
    "    reponse = int(reponse)\n",
    "    \n",
    "    if(reponse == mystery):\n",
    "        print(\"bravo vous avez gangé\")\n",
    "        break\n",
    "    elif(reponse > mystery):\n",
    "        print(\"plus bas\")\n",
    "    elif(reponse < mystery):\n",
    "        print(\"plus haut\")\n",
    "    essais = essais - 1 \n",
    "    print(reponse)\n",
    "    print(\"il vous reste  \" + str(essais) + \" essai\")"
   ]
  },
  {
   "cell_type": "code",
   "execution_count": 3,
   "id": "44878802-b4f5-4325-b6a5-76487eaf5280",
   "metadata": {},
   "outputs": [
    {
     "name": "stdout",
     "output_type": "stream",
     "text": [
      "0 wad cutter\n",
      "1 10mm auto\n",
      "2 40sw\n",
      "3 308\n"
     ]
    },
    {
     "name": "stdin",
     "output_type": "stream",
     "text": [
      "wich remove ? 3\n"
     ]
    },
    {
     "name": "stdout",
     "output_type": "stream",
     "text": [
      "['wad cutter', '10mm auto', '40sw']\n"
     ]
    }
   ],
   "source": [
    "liste = [\"wad cutter\",\"10mm auto\",\"40sw\",\"308\"]\n",
    "\n",
    "for i,item in enumerate(liste):\n",
    "    print(i,item)\n",
    "    \n",
    "reponse = input(\"wich remove ?\")\n",
    "reponse = int(reponse)\n",
    "\n",
    "liste.pop(reponse)\n",
    "\n",
    "print(liste)"
   ]
  },
  {
   "cell_type": "code",
   "execution_count": 4,
   "id": "1b606a82-0f51-4888-9f2c-ce6cdae15e53",
   "metadata": {},
   "outputs": [
    {
     "name": "stdout",
     "output_type": "stream",
     "text": [
      "5\n",
      "10\n"
     ]
    }
   ],
   "source": [
    "def foo():\n",
    "    a = 5\n",
    "    print(a)\n",
    "\n",
    "a = 10\n",
    "foo()\n",
    "print(a)"
   ]
  },
  {
   "cell_type": "code",
   "execution_count": 16,
   "id": "f837fe19-f738-4d6c-bc53-e0553f4ced1e",
   "metadata": {},
   "outputs": [
    {
     "name": "stdout",
     "output_type": "stream",
     "text": [
      "{'a': 9, 'b': 1, 'c': 2, 'd': 2, 'e': 10, 'f': 0, 'g': 3, 'h': 2, 'i': 5, 'j': 4, 'k': 0, 'l': 2, 'm': 2, 'n': 7, 'o': 6, 'p': 2, 'q': 1, 'r': 8, 's': 5, 't': 7, 'u': 7, 'v': 0, 'w': 0, 'x': 0, 'y': 0, 'z': 0}\n"
     ]
    }
   ],
   "source": [
    "import string\n",
    "texte = \"aujourdhui j'ai manger un hamburger j'ai controlé septs cents palette et j'ai niquer ta grosse daronne oué\"\n",
    "alphabet = string.ascii_lowercase\n",
    "\n",
    "tableau = dict(zip(alphabet, [0] * len(alphabet)))\n",
    "\n",
    "for l in texte:\n",
    "    \n",
    "    if tableau.get(l) is not None:\n",
    "        tableau[l] += 1\n",
    "\n",
    "tableau  = dict(tableau)\n",
    "\n",
    "print(tableau)\n"
   ]
  },
  {
   "cell_type": "code",
   "execution_count": null,
   "id": "e3862d3e-3fda-4b3b-8684-7074df1cf3e1",
   "metadata": {},
   "outputs": [],
   "source": []
  }
 ],
 "metadata": {
  "kernelspec": {
   "display_name": "Python 3 (ipykernel)",
   "language": "python",
   "name": "python3"
  },
  "language_info": {
   "codemirror_mode": {
    "name": "ipython",
    "version": 3
   },
   "file_extension": ".py",
   "mimetype": "text/x-python",
   "name": "python",
   "nbconvert_exporter": "python",
   "pygments_lexer": "ipython3",
   "version": "3.9.7"
  }
 },
 "nbformat": 4,
 "nbformat_minor": 5
}
