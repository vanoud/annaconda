{
 "cells": [
  {
   "cell_type": "markdown",
   "metadata": {
    "application/vnd.databricks.v1+cell": {
     "inputWidgets": {},
     "nuid": "0e5d72db-888a-4879-93b1-292859e689d2",
     "showTitle": false,
     "title": ""
    }
   },
   "source": [
    "# Les collections"
   ]
  },
  {
   "cell_type": "markdown",
   "metadata": {
    "application/vnd.databricks.v1+cell": {
     "inputWidgets": {},
     "nuid": "33298c9e-54bd-4dd5-9928-2acb74271326",
     "showTitle": false,
     "title": ""
    }
   },
   "source": [
    "## Les listes\n",
    "\n",
    "Une liste est une variable qui permet de stocker plusieurs valeurs : `liste = [element1,element2, … ,elementn]`\n",
    "\n",
    "Chaque élément d'une liste est indexé de 0 à n.\n",
    "\n",
    "Exécutez le code ci-dessous."
   ]
  },
  {
   "cell_type": "markdown",
   "metadata": {
    "application/vnd.databricks.v1+cell": {
     "inputWidgets": {},
     "nuid": "e9a674d2-5096-48da-b456-009a39d94052",
     "showTitle": false,
     "title": ""
    }
   },
   "source": [
    "### Définition des listes\n",
    "\n",
    "En python, une liste correspond à un ensemble de valeurs regroupées dans une seule variable.\n",
    "\n",
    "Pour définir une liste nous utilisons les caractères `[]`:"
   ]
  },
  {
   "cell_type": "code",
   "execution_count": 3,
   "metadata": {
    "application/vnd.databricks.v1+cell": {
     "inputWidgets": {},
     "nuid": "a6daf272-bee6-4b2b-99e2-d993589909b5",
     "showTitle": false,
     "title": ""
    }
   },
   "outputs": [
    {
     "name": "stdout",
     "output_type": "stream",
     "text": [
      "['Hello World!', 12, 18.8, True]\n"
     ]
    }
   ],
   "source": [
    "ma_liste = [\"Hello World!\", 12, 18.8, True]\n",
    "\n",
    "print(ma_liste)\n"
   ]
  },
  {
   "cell_type": "markdown",
   "metadata": {
    "application/vnd.databricks.v1+cell": {
     "inputWidgets": {},
     "nuid": "e9878286-b1e7-415c-9ddd-cbe71f8127e8",
     "showTitle": false,
     "title": ""
    }
   },
   "source": [
    "### Récupération de valeurs dans une liste\n",
    "Pour récupérer une valeur dans une liste, nous pouvons utiliser l'opérateur `[index]`.\n",
    "\n",
    "Les éléments contenus dans la liste sont ordonnés et identifiés par un index allant de 0 (premier élément) à n (dernier élément de la liste)."
   ]
  },
  {
   "cell_type": "code",
   "execution_count": 4,
   "metadata": {
    "application/vnd.databricks.v1+cell": {
     "inputWidgets": {},
     "nuid": "46f06950-6a96-405b-92d5-9925bf15a740",
     "showTitle": false,
     "title": ""
    }
   },
   "outputs": [
    {
     "name": "stdout",
     "output_type": "stream",
     "text": [
      "1er élément: Hello World!\n",
      "2eme élément: 12\n",
      "3eme élément: 18.8\n",
      "4eme élément: True\n"
     ]
    }
   ],
   "source": [
    "\n",
    "print(\"1er élément:\", ma_liste[0])\n",
    "print(\"2eme élément:\", ma_liste[1])\n",
    "print(\"3eme élément:\", ma_liste[2])\n",
    "print(\"4eme élément:\", ma_liste[3])"
   ]
  },
  {
   "cell_type": "code",
   "execution_count": null,
   "metadata": {},
   "outputs": [],
   "source": []
  },
  {
   "cell_type": "markdown",
   "metadata": {
    "application/vnd.databricks.v1+cell": {
     "inputWidgets": {},
     "nuid": "116453fe-2c8b-4a6b-bde3-094c6900967c",
     "showTitle": false,
     "title": ""
    }
   },
   "source": [
    "### Modifier un élément d'une liste\n",
    "\n",
    "Vous pouvez modifier un élément d'une liste en utilisant l'opérateur `[index]` et en affectant la nouvelle valeur."
   ]
  },
  {
   "cell_type": "code",
   "execution_count": 5,
   "metadata": {
    "application/vnd.databricks.v1+cell": {
     "inputWidgets": {},
     "nuid": "fb8cd038-2422-470a-9106-43fb11e3eae2",
     "showTitle": false,
     "title": ""
    }
   },
   "outputs": [
    {
     "name": "stdout",
     "output_type": "stream",
     "text": [
      "['Nouveau!!', 12, 18.8, True]\n"
     ]
    }
   ],
   "source": [
    "ma_liste[0] = \"Nouveau!!\" \n",
    "\n",
    "print(ma_liste)"
   ]
  },
  {
   "cell_type": "markdown",
   "metadata": {
    "application/vnd.databricks.v1+cell": {
     "inputWidgets": {},
     "nuid": "45369358-7ea0-4589-9ff3-9f8614bf6fac",
     "showTitle": false,
     "title": ""
    }
   },
   "source": [
    "### Ajouter des données dans une liste.\n",
    "\n",
    "Il est possible d'ajouter des valeurs à une liste avec la méthode `append(<nouvelle valeur)`\n",
    "\n",
    "Exécutez le code ci-dessous :"
   ]
  },
  {
   "cell_type": "code",
   "execution_count": 6,
   "metadata": {
    "application/vnd.databricks.v1+cell": {
     "inputWidgets": {},
     "nuid": "ad1b0a47-12c3-4179-93f4-9bfdd78a6779",
     "showTitle": false,
     "title": ""
    }
   },
   "outputs": [
    {
     "name": "stdout",
     "output_type": "stream",
     "text": [
      "1er élément: adrien\n",
      "2eme élément: vossough\n",
      "3eme élément: 12\n",
      "4eme élément: 19.9\n",
      "Modification des valeurs de la liste: ['Adrien', 'VOSSOUGH', 12, 19.9]\n"
     ]
    }
   ],
   "source": [
    "ma_liste = []\n",
    "\n",
    "ma_liste.append(\"adrien\")\n",
    "ma_liste.append(\"vossough\")\n",
    "ma_liste.append(12)\n",
    "ma_liste.append(19.9)\n",
    "\n",
    "print(\"1er élément:\", ma_liste[0])\n",
    "print(\"2eme élément:\", ma_liste[1])\n",
    "print(\"3eme élément:\", ma_liste[2])\n",
    "print(\"4eme élément:\", ma_liste[3])\n",
    "\n",
    "ma_liste[0] = \"Adrien\"\n",
    "ma_liste[1] = \"VOSSOUGH\"\n",
    "print(f\"Modification des valeurs de la liste: {ma_liste}\")\n"
   ]
  },
  {
   "cell_type": "markdown",
   "metadata": {
    "application/vnd.databricks.v1+cell": {
     "inputWidgets": {},
     "nuid": "b6b42d93-393a-4a7c-b8c1-ea02651c376b",
     "showTitle": false,
     "title": ""
    }
   },
   "source": [
    "### Les fonctions et méthodes des listes"
   ]
  },
  {
   "cell_type": "markdown",
   "metadata": {
    "application/vnd.databricks.v1+cell": {
     "inputWidgets": {},
     "nuid": "4999fc9d-d0aa-4604-ba1c-8ba06a4f65d1",
     "showTitle": false,
     "title": ""
    }
   },
   "source": [
    "#### Les fonctions applicables aux listes\n",
    "\n",
    "Il existe de nombreuses fonctions qui s'appliquent sur les listes.\n",
    "\n",
    "Fonctions où il faut mettre la liste en argument :\n",
    "- `type(ma_liste)`: Retourne le type\n",
    "- `max(ma_liste)`: Retourne la valeur maximum\n",
    "- `min(ma_liste)`: Retourne la valeur minimum\n",
    "- `len(ma_liste)`: Retourne la taille de la liste"
   ]
  },
  {
   "cell_type": "code",
   "execution_count": null,
   "metadata": {},
   "outputs": [],
   "source": []
  },
  {
   "cell_type": "code",
   "execution_count": null,
   "metadata": {},
   "outputs": [],
   "source": []
  },
  {
   "cell_type": "raw",
   "metadata": {
    "application/vnd.databricks.v1+cell": {
     "inputWidgets": {},
     "nuid": "60fe0401-67c4-4553-9d2e-286db5045678",
     "showTitle": false,
     "title": ""
    }
   },
   "source": [
    "ma_liste = [9, 34, 11, -4, 27]\n",
    "\n",
    "print(f\"Ma liste : {ma_liste}\")\n",
    "\n",
    "ma_liste.sort()\n",
    "print(f\"Ma liste ordonnée : {ma_liste}\")\n",
    "\n",
    "longueur = len(ma_liste)\n",
    "print(f\"Ma liste compte {longueur} éléments\")\n",
    "\n",
    "max_val = max(ma_liste)\n",
    "print(f\"La plus grande valeur est {max_val}\")"
   ]
  },
  {
   "cell_type": "markdown",
   "metadata": {
    "application/vnd.databricks.v1+cell": {
     "inputWidgets": {},
     "nuid": "9970fe2e-f4f9-420f-b59f-f71cd094547e",
     "showTitle": false,
     "title": ""
    }
   },
   "source": [
    "#### Les méthodes des listes\n",
    "Fonction à utiliser directement sur la liste (appelées méthodes dans ce cas) :\n",
    "- `sort()`: Ordonne la liste\n",
    "- `append()`: Ajoute une valeur\n",
    "- `extend()`: Ajoute plusieurs valeurs\n",
    "- `index()`: Retourne la position d'un élément ayant la valeur spécifiée\n",
    "- `clear()`: Efface le contenu\n",
    "- `insert()`: Ajoute une valeur à un index précis.\n",
    "- `count()`: Nombre de fois où une valeur est trouvée\n",
    "- `pop()`: Supprime un élément à un index précis\n",
    "- `remove()`: Supprime le premier élément trouvé ayant une valeur définie\n",
    "- `reverse()`: Inverse l'ordre\n",
    "- `copy()`:  Retourne une copie de la liste\n",
    "\n",
    "\n",
    "> ⚠️  **REMARQUE IMPORTANTE : Il ne faut jamais copier une liste ainsi `liste_copie = liste_a`. Cela ne fait pas une copie, mais fabrique un alias sur la liste ! Pour copier une liste : `liste_copie = liste_a.copy()`**\n",
    "\n",
    "\n",
    "Exécutez le code ci-dessous :"
   ]
  },
  {
   "cell_type": "code",
   "execution_count": 8,
   "metadata": {
    "application/vnd.databricks.v1+cell": {
     "inputWidgets": {},
     "nuid": "33b26773-4f36-4d2f-9dc2-d11d22c8aa3a",
     "showTitle": false,
     "title": ""
    }
   },
   "outputs": [
    {
     "name": "stdout",
     "output_type": "stream",
     "text": [
      "Ma liste avec l'ajout de valeurs : [9, 34, 11, -4, 27, 4, 5, 6]\n",
      "Insertion d'une valeur à l'index 2: [9, 34, 'banane', 11, -4, 27, 4, 5, 6]\n",
      "Retourne le nombre de fois où le mot banane est retrouvé : 1\n",
      "Retourne la position de 'banane': 2\n",
      "Suppression de la valeur banane en passant par l'alias : [9, 34, 11, -4, 27, 4, 5, 6]\n"
     ]
    }
   ],
   "source": [
    "ma_liste = [9, 34, 11, -4, 27]\n",
    "\n",
    "ma_liste.extend([4, 5, 6]) \n",
    "print(f\"Ma liste avec l'ajout de valeurs : {ma_liste}\")\n",
    "\n",
    "ma_liste.insert(2, \"banane\")\n",
    "print(f\"Insertion d'une valeur à l'index 2: {ma_liste}\")\n",
    "\n",
    "nbr_banane = ma_liste.count(\"banane\")\n",
    "print(f\"Retourne le nombre de fois où le mot banane est retrouvé : {nbr_banane}\")\n",
    "\n",
    "pos_ban = ma_liste.index(\"banane\")\n",
    "print(f\"Retourne la position de 'banane': {pos_ban}\")\n",
    "\n",
    "\n",
    "alias_liste = ma_liste\n",
    "alias_liste.pop(2)\n",
    "print(f\"Suppression de la valeur banane en passant par l'alias : {ma_liste}\")\n"
   ]
  },
  {
   "cell_type": "code",
   "execution_count": 9,
   "metadata": {},
   "outputs": [],
   "source": []
  },
  {
   "cell_type": "markdown",
   "metadata": {
    "application/vnd.databricks.v1+cell": {
     "inputWidgets": {},
     "nuid": "8bd3b377-656c-45c6-97af-35dc83b4dbd6",
     "showTitle": false,
     "title": ""
    }
   },
   "source": [
    "### TP 18.1: liste de valeur\n",
    "1. Ecrire un code qui crée une liste contenant votre nom, prénom et numéro de département\n",
    "2. Affichez cette liste\n",
    "3. Ajoutez un nouvel élément décrivant une action (manger),(boire),(coder), (...)\n",
    "4. Dans un message, affichez le message suivant en remplaçant les mots entre <> par les valeurs de votre liste:\n",
    "```\n",
    "<nom> <prénom> du département <numéro département> est en train de <action>\n",
    "```\n",
    "5. Quel est le problème de cette méthode?"
   ]
  },
  {
   "cell_type": "code",
   "execution_count": 21,
   "metadata": {
    "application/vnd.databricks.v1+cell": {
     "inputWidgets": {},
     "nuid": "f3172920-daa0-4e37-9a86-8eac9c3c68aa",
     "showTitle": false,
     "title": ""
    }
   },
   "outputs": [
    {
     "name": "stdin",
     "output_type": "stream",
     "text": [
      "votre nom  vanoud\n",
      "votre prenom florent\n",
      "votre age 30\n"
     ]
    },
    {
     "name": "stdout",
     "output_type": "stream",
     "text": [
      "['vanoud', 'florent', '30']\n",
      "['vanoud', 'florent', '30']\n"
     ]
    }
   ],
   "source": [
    "name = input(\"votre nom \")\n",
    "nickname = input(\"votre prenom\")\n",
    "old = input(\"votre age\")\n",
    "\n",
    "def identite(nom,prenom,age):\n",
    "\n",
    "    liste_identite =[]\n",
    "    liste_identite.append(nom)\n",
    "    liste_identite.append(prenom)\n",
    "    liste_identite.append(age)\n",
    "    print(liste_identite)\n",
    "    return liste_identite\n",
    "identite(name,nickname,old)\n",
    "\n",
    "stockage_return = identite(name,nickname,old)"
   ]
  },
  {
   "cell_type": "markdown",
   "metadata": {
    "application/vnd.databricks.v1+cell": {
     "inputWidgets": {},
     "nuid": "adfb2989-f7f0-498d-8a52-21f7fada5574",
     "showTitle": false,
     "title": ""
    }
   },
   "source": [
    "## Les tuples\n",
    "\n",
    "Les tuples ressemblent à des listes, à la différence qu'elles ne sont pas modifiables.\n",
    "\n",
    "```\n",
    "tuple = (1,\"Hello\",3.8,False) #parenthèses facultatives\n",
    "```"
   ]
  },
  {
   "cell_type": "code",
   "execution_count": null,
   "metadata": {
    "application/vnd.databricks.v1+cell": {
     "inputWidgets": {},
     "nuid": "b83ff131-10a8-4b5e-96d1-76c5cc2cc6a7",
     "showTitle": false,
     "title": ""
    }
   },
   "outputs": [
    {
     "data": {
      "text/plain": [
       "False\n"
      ]
     },
     "metadata": {
      "application/vnd.databricks.v1+output": {
       "addedWidgets": {},
       "arguments": {},
       "data": "False\n",
       "datasetInfos": [],
       "metadata": {},
       "removedWidgets": [],
       "type": "ansi"
      }
     },
     "output_type": "display_data"
    }
   ],
   "source": [
    "tuple = (1,\"Hello\",3.8,False)\n",
    "print(tuple[3])"
   ]
  },
  {
   "cell_type": "code",
   "execution_count": null,
   "metadata": {
    "application/vnd.databricks.v1+cell": {
     "inputWidgets": {},
     "nuid": "f1b63322-2d71-4fc3-ada2-701297acddbc",
     "showTitle": false,
     "title": ""
    }
   },
   "outputs": [
    {
     "data": {
      "text/html": [
       "<style scoped>\n",
       "  .ansiout {\n",
       "    display: block;\n",
       "    unicode-bidi: embed;\n",
       "    white-space: pre-wrap;\n",
       "    word-wrap: break-word;\n",
       "    word-break: break-all;\n",
       "    font-family: \"Source Code Pro\", \"Menlo\", monospace;;\n",
       "    font-size: 13px;\n",
       "    color: #555;\n",
       "    margin-left: 4px;\n",
       "    line-height: 19px;\n",
       "  }\n",
       "</style>"
      ]
     },
     "metadata": {
      "application/vnd.databricks.v1+output": {
       "arguments": {},
       "data": "",
       "errorSummary": "",
       "errorTraceType": null,
       "metadata": {},
       "type": "ipynbError"
      }
     },
     "output_type": "display_data"
    }
   ],
   "source": []
  },
  {
   "cell_type": "markdown",
   "metadata": {
    "application/vnd.databricks.v1+cell": {
     "inputWidgets": {},
     "nuid": "580af4d1-cdb4-43d4-b27b-03eb001be2f6",
     "showTitle": false,
     "title": ""
    }
   },
   "source": [
    "#### TP 18.2 : tube de valeur\n",
    "Reprendre l'exercice précédent en utilisant un tube et non une liste."
   ]
  },
  {
   "cell_type": "markdown",
   "metadata": {
    "application/vnd.databricks.v1+cell": {
     "inputWidgets": {},
     "nuid": "ab5db502-ed79-485e-885e-e213d31c0b2d",
     "showTitle": false,
     "title": ""
    }
   },
   "source": [
    "## Les dictionnaires\n",
    "\n",
    "Les dictionnaires sont des collections dites `clé valeur`.\n",
    "\n",
    "Elles ressemblent à un annuaire de données. Chaque valeur est liée à une clé.\n",
    "\n",
    "Pour définir un dictionnaire nous utilisons les `{:,}`\n",
    "\n",
    "Voici un exemple:"
   ]
  },
  {
   "cell_type": "code",
   "execution_count": 22,
   "metadata": {
    "application/vnd.databricks.v1+cell": {
     "inputWidgets": {},
     "nuid": "9e44b07d-9380-425f-ad36-52827bb5746b",
     "showTitle": false,
     "title": ""
    }
   },
   "outputs": [
    {
     "name": "stdout",
     "output_type": "stream",
     "text": [
      "{'a': 'Martin', 'b': 'Jean', 'c': 30}\n",
      "Martin\n",
      "{'a': 'Raoux', 'b': 'Jean', 'c': 30, 'd': 1.8}\n"
     ]
    }
   ],
   "source": [
    "mon_dict = {\"a\":\"Martin\", \"b\":\"Jean\", \"c\":30}\n",
    "\n",
    "print(mon_dict)\n",
    "print(mon_dict[\"a\"])\n",
    "mon_dict[\"d\"] = 1.8\n",
    "mon_dict[\"a\"] = \"Raoux\"\n",
    "\n",
    "print(mon_dict)"
   ]
  },
  {
   "cell_type": "code",
   "execution_count": null,
   "metadata": {
    "application/vnd.databricks.v1+cell": {
     "inputWidgets": {},
     "nuid": "a9444715-4644-4e93-ba9b-c83a4e0e59bd",
     "showTitle": false,
     "title": ""
    }
   },
   "outputs": [
    {
     "data": {
      "text/html": [
       "<style scoped>\n",
       "  .ansiout {\n",
       "    display: block;\n",
       "    unicode-bidi: embed;\n",
       "    white-space: pre-wrap;\n",
       "    word-wrap: break-word;\n",
       "    word-break: break-all;\n",
       "    font-family: \"Source Code Pro\", \"Menlo\", monospace;;\n",
       "    font-size: 13px;\n",
       "    color: #555;\n",
       "    margin-left: 4px;\n",
       "    line-height: 19px;\n",
       "  }\n",
       "</style>"
      ]
     },
     "metadata": {
      "application/vnd.databricks.v1+output": {
       "arguments": {},
       "data": "",
       "errorSummary": "",
       "errorTraceType": null,
       "metadata": {},
       "type": "ipynbError"
      }
     },
     "output_type": "display_data"
    }
   ],
   "source": []
  },
  {
   "cell_type": "markdown",
   "metadata": {
    "application/vnd.databricks.v1+cell": {
     "inputWidgets": {},
     "nuid": "7c168453-abb6-4e6e-a804-7739081e1d48",
     "showTitle": false,
     "title": ""
    }
   },
   "source": [
    "### TP 18.3: dict de valeur\n",
    "Reprendre l'exercice précédent en utilisant un dictionnaire et non un tuple."
   ]
  },
  {
   "cell_type": "code",
   "execution_count": 31,
   "metadata": {
    "application/vnd.databricks.v1+cell": {
     "inputWidgets": {},
     "nuid": "563f5e89-b715-4b8e-8e74-ab09b17b6840",
     "showTitle": false,
     "title": ""
    }
   },
   "outputs": [
    {
     "name": "stdin",
     "output_type": "stream",
     "text": [
      "votre nom  florent\n",
      "votre prenom vanoud\n",
      "votre age 30\n"
     ]
    },
    {
     "name": "stdout",
     "output_type": "stream",
     "text": [
      "{'Name': ['florent'], 'Nickname': ['vanoud'], 'Age': ['30']}\n",
      "{'Name': ['florent'], 'Nickname': ['vanoud'], 'Age': ['30']}\n"
     ]
    }
   ],
   "source": [
    "name = input(\"votre nom \")\n",
    "nickname = input(\"votre prenom\")\n",
    "old = input(\"votre age\")\n",
    "\n",
    "def identite(nom,prenom,age):\n",
    "\n",
    "    liste_identite = {\"Name\":[],\"Nickname\":[],\"Age\":[]}\n",
    "    liste_identite[\"Name\"].append(nom)\n",
    "    liste_identite[\"Nickname\"].append(prenom)\n",
    "    liste_identite[\"Age\"].append(age)\n",
    "    print(liste_identite)\n",
    "    \n",
    "    return liste_identite\n",
    "identite(name,nickname,old)\n",
    "\n",
    "stockage_return = identite(name,nickname,old)"
   ]
  },
  {
   "cell_type": "code",
   "execution_count": null,
   "metadata": {},
   "outputs": [],
   "source": []
  },
  {
   "cell_type": "code",
   "execution_count": null,
   "metadata": {},
   "outputs": [],
   "source": []
  }
 ],
 "metadata": {
  "application/vnd.databricks.v1+notebook": {
   "dashboards": [],
   "language": "python",
   "notebookMetadata": {
    "pythonIndentUnit": 4
   },
   "notebookName": "06_les collections",
   "notebookOrigID": 4296648366370391,
   "widgets": {}
  },
  "kernelspec": {
   "display_name": "Python 3 (ipykernel)",
   "language": "python",
   "name": "python3"
  },
  "language_info": {
   "codemirror_mode": {
    "name": "ipython",
    "version": 3
   },
   "file_extension": ".py",
   "mimetype": "text/x-python",
   "name": "python",
   "nbconvert_exporter": "python",
   "pygments_lexer": "ipython3",
   "version": "3.9.7"
  }
 },
 "nbformat": 4,
 "nbformat_minor": 4
}
