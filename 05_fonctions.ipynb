{
 "cells": [
  {
   "cell_type": "markdown",
   "metadata": {
    "application/vnd.databricks.v1+cell": {
     "inputWidgets": {},
     "nuid": "e5475960-39aa-46a5-b45d-1921e01746ee",
     "showTitle": false,
     "title": ""
    }
   },
   "source": [
    "# Les fonctions"
   ]
  },
  {
   "cell_type": "markdown",
   "metadata": {
    "application/vnd.databricks.v1+cell": {
     "inputWidgets": {},
     "nuid": "a9a9a1ec-b3ea-4f61-87a6-f3804314235d",
     "showTitle": false,
     "title": ""
    }
   },
   "source": [
    "## Fonction de base\n",
    "\n",
    "Une fonction est une suite d'instructions regroupées dans un bloc. \n",
    "Ce bloc peut être appelé autant de fois que le développeur le veut.\n",
    "\n",
    "Une fonction évite d'avoir à retaper un ensemble d'instructions redondant.\n",
    "\n",
    "La syntaxe est :\n",
    "\n",
    "```\n",
    "def nom_ma_fonction():\n",
    "    instruction1\n",
    "    instruction2\n",
    "```\n",
    "\n",
    "**Le code contenu par la fonction doit être indenté.**\n",
    "\n",
    "\n",
    "Une fonction ne s'exécute pas toute seule, elle doit être appelée par son nom, suivie par des parenthèses.\n",
    "\n",
    "```\n",
    "def nom_ma_fonction():\n",
    "    instruction1\n",
    "    instruction2\n",
    "\n",
    "instruction_hors_fonction\n",
    "\n",
    "nom_ma_fonction()\n",
    "```"
   ]
  },
  {
   "cell_type": "code",
   "execution_count": null,
   "metadata": {
    "application/vnd.databricks.v1+cell": {
     "inputWidgets": {},
     "nuid": "aa5a689b-760c-43a3-8e4d-a7a7bf715313",
     "showTitle": false,
     "title": ""
    }
   },
   "outputs": [
    {
     "data": {
      "text/html": [
       "<style scoped>\n",
       "  .ansiout {\n",
       "    display: block;\n",
       "    unicode-bidi: embed;\n",
       "    white-space: pre-wrap;\n",
       "    word-wrap: break-word;\n",
       "    word-break: break-all;\n",
       "    font-family: \"Source Code Pro\", \"Menlo\", monospace;;\n",
       "    font-size: 13px;\n",
       "    color: #555;\n",
       "    margin-left: 4px;\n",
       "    line-height: 19px;\n",
       "  }\n",
       "</style>\n",
       "<div class=\"ansiout\">Bonjour tout le monde\n",
       "</div>"
      ]
     },
     "metadata": {
      "application/vnd.databricks.v1+output": {
       "addedWidgets": {},
       "arguments": {},
       "data": "<div class=\"ansiout\">Bonjour tout le monde\n</div>",
       "datasetInfos": [],
       "metadata": {},
       "removedWidgets": [],
       "type": "html"
      }
     },
     "output_type": "display_data"
    }
   ],
   "source": [
    "# Définition de la fonction\n",
    "def afficher_message():\n",
    "    print(\"Bonjour tout le monde\")\n",
    "\n",
    "# Utilisation de la fonction\n",
    "afficher_message()"
   ]
  },
  {
   "cell_type": "markdown",
   "metadata": {
    "application/vnd.databricks.v1+cell": {
     "inputWidgets": {},
     "nuid": "9ed47366-9e6f-4bb5-8674-b330beeb36a8",
     "showTitle": false,
     "title": ""
    }
   },
   "source": [
    "### TP 11: Fonction : premier exemple\n",
    "\n",
    "1. Ecrire une fonction qui se nomme politesse\n",
    "2. Elle doit afficher le texte \"bonjour\"\n",
    "3. Exécutez le code sans appel de la fonction\n",
    "4. Ajoutez l'appel de la fonction tel que :  politesse()\n",
    "5. Exécutez le code"
   ]
  },
  {
   "cell_type": "markdown",
   "metadata": {
    "application/vnd.databricks.v1+cell": {
     "inputWidgets": {},
     "nuid": "892ee7e9-5794-48e6-a6d5-41edd976d25b",
     "showTitle": false,
     "title": ""
    }
   },
   "source": [
    "## Fonction avec paramètres\n",
    "\n",
    "1. Un paramètre est une variable qui peut être modifiée sans réécrire la fonction.\n",
    "\n",
    "    ```\n",
    "    def nom_ma_fonction(param1, param2):\n",
    "        instruction1\n",
    "        instruction2\n",
    "\n",
    "    nom_ma_fonction(\"adrien\", \"vossough\")\n",
    "    ```\n",
    "    Dans le cas ci-dessus, param1=\"adrien\" et param2=\"vossough\"\n",
    "    Les valeurs \"adrien\" et \"vossough\" sont appelées arguments\n",
    "\n",
    "2. **Un paramètre d'une fonction ne peut pas s'utiliser en dehors de celle-ci.**\n",
    "\n",
    "    ```\n",
    "    def nom_ma_fonction(param1, param2):\n",
    "        print(param1)  # OK\n",
    "        print(param2)  # OK\n",
    "\n",
    "    print(param1)  # ERREUR ! Nous sommes en dehors de la fonction !\n",
    "    print(param2)  # ERREUR ! Nous sommes en dehors de la fonction !\n",
    "\n",
    "    nom_ma_fonction(\"adrien\", \"vossough\")\n",
    "    ```"
   ]
  },
  {
   "cell_type": "code",
   "execution_count": null,
   "metadata": {
    "application/vnd.databricks.v1+cell": {
     "inputWidgets": {},
     "nuid": "f963cc0f-03e8-4281-b931-9ae79b38a598",
     "showTitle": false,
     "title": ""
    }
   },
   "outputs": [
    {
     "data": {
      "text/html": [
       "<style scoped>\n",
       "  .ansiout {\n",
       "    display: block;\n",
       "    unicode-bidi: embed;\n",
       "    white-space: pre-wrap;\n",
       "    word-wrap: break-word;\n",
       "    word-break: break-all;\n",
       "    font-family: \"Source Code Pro\", \"Menlo\", monospace;;\n",
       "    font-size: 13px;\n",
       "    color: #555;\n",
       "    margin-left: 4px;\n",
       "    line-height: 19px;\n",
       "  }\n",
       "</style>\n",
       "<div class=\"ansiout\">Votre message: Bonjour\n",
       "</div>"
      ]
     },
     "metadata": {
      "application/vnd.databricks.v1+output": {
       "addedWidgets": {},
       "arguments": {},
       "data": "<div class=\"ansiout\">Votre message: Bonjour\n</div>",
       "datasetInfos": [],
       "metadata": {},
       "removedWidgets": [],
       "type": "html"
      }
     },
     "output_type": "display_data"
    }
   ],
   "source": [
    "def afficher_message(message):\n",
    "    print(\"Votre message:\", message)\n",
    "\n",
    "afficher_message(\"Bonjour\")"
   ]
  },
  {
   "cell_type": "markdown",
   "metadata": {
    "application/vnd.databricks.v1+cell": {
     "inputWidgets": {},
     "nuid": "f0cea679-acc9-4b72-a462-90168f06cd33",
     "showTitle": false,
     "title": ""
    }
   },
   "source": [
    "### TP 12: Politesse"
   ]
  },
  {
   "cell_type": "markdown",
   "metadata": {
    "application/vnd.databricks.v1+cell": {
     "inputWidgets": {},
     "nuid": "819368c6-4983-4c88-b083-efda5bfcf1df",
     "showTitle": false,
     "title": ""
    }
   },
   "source": [
    "#### TP 12.1: Politesse Partie 1\n",
    "\n",
    "1. En reprenant la fonction politesse, ajoutez un paramètre \"nom\". Tel que : `def politesse(nom):`\n",
    "2. En utilisant une concaténation, affichez le texte: Bonjour + nom\n",
    "3. Fournissez votre nom comme argument à l'appel de la fonction\n",
    "4. Exécutez le code\n",
    "5. Apportez les correctifs qui s'imposent (les espaces par exemple)"
   ]
  },
  {
   "cell_type": "code",
   "execution_count": 2,
   "metadata": {
    "application/vnd.databricks.v1+cell": {
     "inputWidgets": {},
     "nuid": "d9ef2c0b-4ddc-4ad6-8f35-0c3bbc05791d",
     "showTitle": false,
     "title": ""
    }
   },
   "outputs": [
    {
     "name": "stdout",
     "output_type": "stream",
     "text": [
      "Bonjour florent\n"
     ]
    }
   ],
   "source": [
    "def politesse(nom):\n",
    "    print(\"Bonjour \" + nom)\n",
    "politesse(\"florent\")"
   ]
  },
  {
   "cell_type": "markdown",
   "metadata": {
    "application/vnd.databricks.v1+cell": {
     "inputWidgets": {},
     "nuid": "e7974f63-76b0-4911-8914-c27d28d3844a",
     "showTitle": false,
     "title": ""
    }
   },
   "source": [
    "#### TP 12.2: Politesse Partie 2\n",
    "\n",
    "A la fonction précédente:\n",
    "\n",
    "1. Ajoutez une condition qui vérifie que l'argument est une chaîne de caractères\n",
    "2. Si l'argument est une chaîne de caractères, affichez : \"Bonjour + nom\"\n",
    "3. Si ce n'est pas une chaîne de caractères, affichez : \"Erreur, veuillez fournir une chaîne de caractères\"\n",
    "4. Testez votre fonction avec une chaîne de caractères\n",
    "5. Testez votre fonction avec un entier\n",
    "\n",
    "Vous pouvez utilisez :  `type(nom) is str` qui permet d'indiquer si c'est une chaîne ou non."
   ]
  },
  {
   "cell_type": "code",
   "execution_count": 18,
   "metadata": {},
   "outputs": [
    {
     "name": "stdout",
     "output_type": "stream",
     "text": [
      "ce n'est pas un string\n"
     ]
    }
   ],
   "source": [
    "def politesse(nom):\n",
    "    if nom == \"\":\n",
    "        print(\"c'est vide\")\n",
    "    elif type(nom) is str :\n",
    "        print(\"Bonjour \" + nom)\n",
    "    else :\n",
    "        print(\"ce n'est pas un string\")\n",
    "politesse(35)"
   ]
  },
  {
   "cell_type": "markdown",
   "metadata": {
    "application/vnd.databricks.v1+cell": {
     "inputWidgets": {},
     "nuid": "b059060c-3cc3-4a35-b2a0-80cf23ee7a7a",
     "showTitle": false,
     "title": ""
    }
   },
   "source": [
    "### TP 13 Pythagore"
   ]
  },
  {
   "cell_type": "markdown",
   "metadata": {
    "application/vnd.databricks.v1+cell": {
     "inputWidgets": {},
     "nuid": "a1e05fe3-25f8-419b-ac16-be3ed933f674",
     "showTitle": false,
     "title": ""
    }
   },
   "source": [
    "#### TP 13.1 : Pythagore Partie 1\n",
    "\n",
    "1. Transformez le code ci-dessous en une fonction, sans paramètres, nommée \"hypothenus\" :\n",
    "\n",
    "    ```\n",
    "    from math import *\n",
    "\n",
    "    a = 12\n",
    "    b = 34\n",
    "    a_carre = a**2\n",
    "    b_carre = b**2\n",
    "\n",
    "    hypo_carre = a_carre + b_carre\n",
    "\n",
    "    hypo = hypo_carre**0.5\n",
    "\n",
    "    print(hypo)\n",
    "    ```\n",
    "\n",
    "2. Appelez la fonction qui doit afficher le résultat"
   ]
  },
  {
   "cell_type": "code",
   "execution_count": 21,
   "metadata": {
    "application/vnd.databricks.v1+cell": {
     "inputWidgets": {},
     "nuid": "1bd4f512-7dee-4662-9c5a-114de0a02d74",
     "showTitle": false,
     "title": ""
    }
   },
   "outputs": [
    {
     "name": "stdout",
     "output_type": "stream",
     "text": [
      "36.05551275463989\n"
     ]
    }
   ],
   "source": [
    "import math\n",
    "\n",
    "def hypothenus():\n",
    "    a = 12\n",
    "    b = 34\n",
    "    a_carre = a**2\n",
    "    b_carre = b**2\n",
    "\n",
    "    hypo_carre = a_carre + b_carre\n",
    "\n",
    "    hypo = hypo_carre**0.5\n",
    "    print(hypo)\n",
    "    \n",
    "hypothenus()    "
   ]
  },
  {
   "cell_type": "markdown",
   "metadata": {
    "application/vnd.databricks.v1+cell": {
     "inputWidgets": {},
     "nuid": "b25f637f-6695-4549-a6b5-7ce4db34f61d",
     "showTitle": false,
     "title": ""
    }
   },
   "source": [
    "#### TP 13.2 Pythagore Partie 2\n",
    "\n",
    "1. En reprenant le précédent exercice, ajoutez un paramètre a et b. \n",
    "\n",
    "2. Retirez les lignes de la fonction :\n",
    "    * a = 12\n",
    "    * b = 34\n",
    "\n",
    "\n",
    "3. Appelez plusieurs fois la fonction en l'appelant avec différents paramètres.\n",
    "\n",
    "\n",
    "    Exemple :\n",
    "    ```\n",
    "    def hypothenus(a, b):\n",
    "        instruction1\n",
    "        instruction2\n",
    "        ...\n",
    "        instructionN\n",
    "\n",
    "    hypothenus(12.34, 34.555)\n",
    "    hypothenus(34, 12)\n",
    "    hypothenus(122, 34)\n",
    "    ```"
   ]
  },
  {
   "cell_type": "code",
   "execution_count": 22,
   "metadata": {
    "application/vnd.databricks.v1+cell": {
     "inputWidgets": {},
     "nuid": "c5e015a0-d48f-4e46-bc97-a7120bac81ea",
     "showTitle": false,
     "title": ""
    }
   },
   "outputs": [
    {
     "name": "stdout",
     "output_type": "stream",
     "text": [
      "7.0710678118654755\n"
     ]
    }
   ],
   "source": [
    "import math\n",
    "\n",
    "def hypothenus(a,b):\n",
    "\n",
    "    a_carre = a**2\n",
    "    b_carre = b**2\n",
    "\n",
    "    hypo_carre = a_carre + b_carre\n",
    "\n",
    "    hypo = hypo_carre**0.5\n",
    "    print(hypo)\n",
    "    \n",
    "hypothenus(5,5)    "
   ]
  },
  {
   "cell_type": "markdown",
   "metadata": {
    "application/vnd.databricks.v1+cell": {
     "inputWidgets": {},
     "nuid": "67e25195-cc49-4d51-9c05-8074cc31766e",
     "showTitle": false,
     "title": ""
    }
   },
   "source": [
    "## Commentaire et Documentation\n",
    "\n",
    "En reprenant le code précédent, ajoutez les commentaires et la documentation.\n",
    "\n",
    "**/!\\ Il ne faut pas se tromper entre commentaire et documentation:**\n",
    "\n",
    "1. Un commentaire est optionnel et vient expliquer une instruction plus ou moins complexe.\n",
    "2. Une documentation est obligatoire et a pour but d'être fournie au reste de l'équipe pour qu'il sache utiliser notre code.\n",
    "3. La documentation est faite pour les fonctions (et les classes en Programmation Orientée Objet).\n",
    "\n",
    "\n",
    "Il existe plusieurs standards pour la mise en forme de la documentation. Nous utiliserons le standard : [PEP257](https://www.python.org/dev/peps/pep-0257/)\n",
    "\n",
    "```\n",
    "def mafonction(nom_variable):\n",
    "    \"\"\"Description de la fonction\n",
    "\n",
    "    Args:\n",
    "        nom_variable ([type_du_parametre]): description du paramètre\n",
    "\n",
    "    Returns:\n",
    "        [type]: description de la valeur de retour\n",
    "    \"\"\"\n",
    "    instruction_fonction\n",
    "    instruction_fonction\n",
    "```\n",
    "\n",
    "La documentation de la fonction \"hypothenus\" ressemblera à :\n",
    "    ```\n",
    "    def hypothenus(a, b):\n",
    "        \"\"\"calcul l'hypothenus d'un triangle\n",
    "\n",
    "        Args:\n",
    "            a (float): longueur du côté adjacent\n",
    "            b (float): longueur du côté oppposé\n",
    "        \"\"\"\n",
    "        instruction1\n",
    "        instruction2\n",
    "    ```\n",
    "\n",
    "Est-ce utile de mettre une documentation à une fonction dans Databricks ?\n",
    "Oui, car la documentation python peut facilement être extraite.\n",
    "Il est possible aussi d'utiliser les \"cmd\" en Markdown de Databricks, mais elles seront plutôt liées à des documentations fonctionnelles."
   ]
  },
  {
   "cell_type": "markdown",
   "metadata": {
    "application/vnd.databricks.v1+cell": {
     "inputWidgets": {},
     "nuid": "911f8a12-d094-428c-b9ed-12cf316d8ba7",
     "showTitle": false,
     "title": ""
    }
   },
   "source": [
    "### TP 14 Pythagore et ses widgets"
   ]
  },
  {
   "cell_type": "markdown",
   "metadata": {
    "application/vnd.databricks.v1+cell": {
     "inputWidgets": {},
     "nuid": "46828f90-d833-49e3-8b4f-01d5a5535c2b",
     "showTitle": false,
     "title": ""
    }
   },
   "source": [
    "#### TP 14.1: Création de Widgets\n",
    "\n",
    "1. Ajoutez 2 widgets de type \"text\n",
    "2. Le premier widget se nommera \"pyt_a\" avec comme valeur par défaut \"1\"\n",
    "3. Le second widget se nommera \"pyt_b\" avec comme valeur par défaut \"1\""
   ]
  },
  {
   "cell_type": "markdown",
   "metadata": {
    "application/vnd.databricks.v1+cell": {
     "inputWidgets": {},
     "nuid": "4505d7f4-9c3b-41cf-9dfa-929be365ad4f",
     "showTitle": false,
     "title": ""
    }
   },
   "source": [
    "#### TP 14.2 : Récupérer des valeurs d'un Widget\n",
    "\n",
    "1. Récupérez les valeurs des widgets et utilisez-les comme arguments pour appeler la fonction \"hypothenus\"\n",
    "    pyt_a sera la valeur de a\n",
    "    pyt_b sera la valeur de b\n",
    "\n",
    "2. Attention, les valeurs sont des chaînes de caractères, pensez à convertir les valeurs.  \n",
    "    Exemple :\n",
    "    ```\n",
    "    a = int(\"12\")            # retourne a = 12\n",
    "    b = int(\"12.4\")          # retourne une erreur car Python ne peut pas convertir 12.4 en entier\n",
    "    c = float(\"12.4\")        # retourne c = 12.4 \n",
    "    ```"
   ]
  },
  {
   "cell_type": "code",
   "execution_count": null,
   "metadata": {
    "application/vnd.databricks.v1+cell": {
     "inputWidgets": {},
     "nuid": "e4cf9a2a-f3ae-462a-b5fe-f61e422e3461",
     "showTitle": false,
     "title": ""
    }
   },
   "outputs": [],
   "source": []
  },
  {
   "cell_type": "markdown",
   "metadata": {
    "application/vnd.databricks.v1+cell": {
     "inputWidgets": {},
     "nuid": "b41ddd31-f000-42ec-9459-955c4354bdeb",
     "showTitle": false,
     "title": ""
    }
   },
   "source": [
    "## Les exceptions\n",
    "\n",
    "Une exception, indique la mauvaise utilisation d'une fonction.\n",
    "\n",
    "Cela peut être :\n",
    "- Un argument manquant\n",
    "- Une valeur incorrecte\n",
    "- Une ressource inexistante (mauvais accès à une base de données ou un fichier)"
   ]
  },
  {
   "cell_type": "markdown",
   "metadata": {
    "application/vnd.databricks.v1+cell": {
     "inputWidgets": {},
     "nuid": "2ae11b4f-eed7-495c-8a5f-ee493c11e88b",
     "showTitle": false,
     "title": ""
    }
   },
   "source": [
    "### TP 15 Exception : assurer la bonne utilisation d'une fonction\n",
    "\n",
    "En reprenant l'exercice précédent et en supposant que le premier paramètre de la fonction se nomme bien \"a\"\n",
    "\n",
    "\n",
    "1. Ajoutez les lignes suivantes au début de votre fonction :\n",
    "\n",
    "    ```\n",
    "    def hypothenus(a, b):\n",
    "        if a < 0 :\n",
    "            raise Exception(\"Veuillez fournir une valeur supérieure à 0\")\n",
    "        instruction1\n",
    "        instruction2\n",
    "        etc...\n",
    "    ```\n",
    "\n",
    "2. Fournissez une valeur négative à \"pyt_a\"\n",
    "\n",
    "3. Testez le résultat"
   ]
  },
  {
   "cell_type": "code",
   "execution_count": null,
   "metadata": {
    "application/vnd.databricks.v1+cell": {
     "inputWidgets": {},
     "nuid": "51c23e05-40ae-41ac-a141-6f5cdac4a9e4",
     "showTitle": false,
     "title": ""
    }
   },
   "outputs": [
    {
     "data": {
      "text/html": [
       "<style scoped>\n",
       "  .ansiout {\n",
       "    display: block;\n",
       "    unicode-bidi: embed;\n",
       "    white-space: pre-wrap;\n",
       "    word-wrap: break-word;\n",
       "    word-break: break-all;\n",
       "    font-family: \"Source Code Pro\", \"Menlo\", monospace;;\n",
       "    font-size: 13px;\n",
       "    color: #555;\n",
       "    margin-left: 4px;\n",
       "    line-height: 19px;\n",
       "  }\n",
       "</style>"
      ]
     },
     "metadata": {
      "application/vnd.databricks.v1+output": {
       "arguments": {},
       "data": "",
       "errorSummary": "",
       "errorTraceType": null,
       "metadata": {},
       "type": "ipynbError"
      }
     },
     "output_type": "display_data"
    }
   ],
   "source": []
  },
  {
   "cell_type": "markdown",
   "metadata": {
    "application/vnd.databricks.v1+cell": {
     "inputWidgets": {},
     "nuid": "79e9810d-f639-4975-ade9-74b25f4183d3",
     "showTitle": false,
     "title": ""
    }
   },
   "source": [
    "## Valeur de retour d'une fonction\n",
    "\n",
    "Une fonction peut retourner une valeur et pas seulement l'afficher."
   ]
  },
  {
   "cell_type": "code",
   "execution_count": null,
   "metadata": {
    "application/vnd.databricks.v1+cell": {
     "inputWidgets": {},
     "nuid": "35c072cd-71bb-4c79-9dfc-3eb9455846ce",
     "showTitle": false,
     "title": ""
    }
   },
   "outputs": [
    {
     "data": {
      "text/plain": [
       "2 x √3 vaut : 3.4641016151377544\n",
       "2 x 1.73205 vaut : 3.4641\n"
      ]
     },
     "metadata": {
      "application/vnd.databricks.v1+output": {
       "addedWidgets": {},
       "arguments": {},
       "data": "2 x √3 vaut : 3.4641016151377544\n2 x 1.73205 vaut : 3.4641\n",
       "datasetInfos": [],
       "metadata": {},
       "removedWidgets": [],
       "type": "ansi"
      }
     },
     "output_type": "display_data"
    }
   ],
   "source": [
    "from math import sqrt\n",
    "\n",
    "# sqrt est une fonction qui retourne la valeur de la racine de 3, soit \"1.73205\"\n",
    "a = 2 * sqrt(3)\n",
    "print(f\"2 x √3 vaut : {a}\")\n",
    "\n",
    "# cela revient à \n",
    "b = 2 * 1.73205\n",
    "print(f\"2 x 1.73205 vaut : {b}\")"
   ]
  },
  {
   "cell_type": "markdown",
   "metadata": {
    "application/vnd.databricks.v1+cell": {
     "inputWidgets": {},
     "nuid": "dcca1b5e-903f-4ff5-a15b-3d439ef3f3fd",
     "showTitle": false,
     "title": ""
    }
   },
   "source": [
    "Pour fabriquer une fonction qui retourne une valeur elle doit se terminer par l'instruction \"return valeur\" :\n",
    "\n",
    "```\n",
    "def ma_fonction(param):\n",
    "    instruction1\n",
    "    instruction2\n",
    "    return variable\n",
    "```"
   ]
  },
  {
   "cell_type": "code",
   "execution_count": 29,
   "metadata": {
    "application/vnd.databricks.v1+cell": {
     "inputWidgets": {},
     "nuid": "efeaa1fb-9710-46bc-8dd0-9ce97fca6584",
     "showTitle": false,
     "title": ""
    }
   },
   "outputs": [
    {
     "name": "stdout",
     "output_type": "stream",
     "text": [
      "Le périmètre d'un cercle de rayon 4 vaut : 25.132741228718345\n",
      "Le périmètre d'un cercle de rayon 23.1 vaut : 145.14158059584844\n"
     ]
    }
   ],
   "source": [
    "from math import pi\n",
    "\n",
    "def périmètre_cercle(un_rayon):\n",
    "    \"\"\"Calculez le périmètre d'un cercle à partir de son rayon.\n",
    "    \n",
    "        Args:\n",
    "            un_rayon (float): le rayon du cercle (positif)\n",
    "        return le périmètre d'un cercle de rayon un_rayon\n",
    "    \"\"\"\n",
    "    diamètre = 2 * un_rayon\n",
    "    périmètre = pi * diamètre\n",
    "    return périmètre\n",
    "\n",
    "périmètre_cercle(5)\n",
    "\n",
    "p1 = périmètre_cercle(4)\n",
    "print(f\"Le périmètre d'un cercle de rayon 4 vaut : {p1}\")\n",
    "\n",
    "p2 = périmètre_cercle(23.1)\n",
    "print(f\"Le périmètre d'un cercle de rayon 23.1 vaut : {p2}\")"
   ]
  },
  {
   "cell_type": "markdown",
   "metadata": {
    "application/vnd.databricks.v1+cell": {
     "inputWidgets": {},
     "nuid": "13b78996-b309-49bf-9294-b3ae6b4afcd4",
     "showTitle": false,
     "title": ""
    }
   },
   "source": [
    "### TP 16 : Valeur de retour d'une fonction\n",
    "\n",
    "1. En reprenant la fonction `def hypothenus(a, b):`, retournez le résultat avec l'instruction \"return\".\n",
    "2. Retirez la fonction print(...) de la fonction hypothenus\n",
    "3. Affichez le résultat avec print en dehors de la fonction"
   ]
  },
  {
   "cell_type": "code",
   "execution_count": 35,
   "metadata": {
    "application/vnd.databricks.v1+cell": {
     "inputWidgets": {},
     "nuid": "5bbfd7b5-0019-49f0-9fe7-af6fb757a3c5",
     "showTitle": false,
     "title": ""
    }
   },
   "outputs": [
    {
     "name": "stdout",
     "output_type": "stream",
     "text": [
      "7.0710678118654755\n"
     ]
    }
   ],
   "source": [
    "import math\n",
    "\n",
    "def hypothenus(a,b):\n",
    "\n",
    "    a_carre = a**2\n",
    "    b_carre = b**2\n",
    "\n",
    "    hypo_carre = a_carre + b_carre\n",
    "\n",
    "    hypo = hypo_carre**0.5\n",
    "    return hypo\n",
    "    \n",
    "hypothenus(5,5)\n",
    "\n",
    "stockage_return = hypothenus(5,5)\n",
    "print(stockage_return)"
   ]
  },
  {
   "cell_type": "markdown",
   "metadata": {
    "application/vnd.databricks.v1+cell": {
     "inputWidgets": {},
     "nuid": "8b489cc4-ab7a-471a-8c77-da32babe41ab",
     "showTitle": false,
     "title": ""
    }
   },
   "source": [
    "## Les paramètres par défaut\n",
    "\n",
    "Vous pouvez définir une valeur par défaut à vos paramètres. Cela permet de ne pas avoir à les définir à l'appel de la fonction.\n",
    "\n",
    "Pour cela nous utilisons l'affectation dans les paramètres:"
   ]
  },
  {
   "cell_type": "code",
   "execution_count": 36,
   "metadata": {
    "application/vnd.databricks.v1+cell": {
     "inputWidgets": {},
     "nuid": "ba85372d-92d5-4c78-a1e4-e9628f211c27",
     "showTitle": false,
     "title": ""
    }
   },
   "outputs": [
    {
     "name": "stdout",
     "output_type": "stream",
     "text": [
      "1 valeur 2\n"
     ]
    }
   ],
   "source": [
    "def ma_fonction(param1, param2=\"valeur 2\"):\n",
    "  print(param1, param2)\n",
    "ma_fonction(1) #skip un argument "
   ]
  },
  {
   "cell_type": "markdown",
   "metadata": {
    "application/vnd.databricks.v1+cell": {
     "inputWidgets": {},
     "nuid": "34f2b098-b62f-45e8-a53a-885a98537674",
     "showTitle": false,
     "title": ""
    }
   },
   "source": [
    "Ici, `param1` est __OBLIGATOIRE__ mais pas le paramm2."
   ]
  },
  {
   "cell_type": "code",
   "execution_count": 37,
   "metadata": {
    "application/vnd.databricks.v1+cell": {
     "inputWidgets": {},
     "nuid": "272ad3a2-f350-40d7-b4ee-a6968b463cdb",
     "showTitle": false,
     "title": ""
    }
   },
   "outputs": [
    {
     "name": "stdout",
     "output_type": "stream",
     "text": [
      "hello world\n",
      "Hello valeur 2\n"
     ]
    }
   ],
   "source": [
    "ma_fonction(\"hello\", \"world\") # Fonctionne correctement\n",
    "ma_fonction(\"Hello\") # Le param2 ayant une valeur par défaut, il n'est pas obligatoire."
   ]
  },
  {
   "cell_type": "markdown",
   "metadata": {
    "application/vnd.databricks.v1+cell": {
     "inputWidgets": {},
     "nuid": "e45a535c-991e-4f4f-9679-da73763b4c6d",
     "showTitle": false,
     "title": ""
    }
   },
   "source": [
    "Lors de l'appel d'une fonction, vous pouvez aussi changer l'ordre d'appel des paramètres en les nommant:"
   ]
  },
  {
   "cell_type": "code",
   "execution_count": null,
   "metadata": {
    "application/vnd.databricks.v1+cell": {
     "inputWidgets": {},
     "nuid": "df383c7d-12b5-4812-872a-6362456026b6",
     "showTitle": false,
     "title": ""
    }
   },
   "outputs": [
    {
     "data": {
      "text/html": [
       "<style scoped>\n",
       "  .ansiout {\n",
       "    display: block;\n",
       "    unicode-bidi: embed;\n",
       "    white-space: pre-wrap;\n",
       "    word-wrap: break-word;\n",
       "    word-break: break-all;\n",
       "    font-family: \"Source Code Pro\", \"Menlo\", monospace;;\n",
       "    font-size: 13px;\n",
       "    color: #555;\n",
       "    margin-left: 4px;\n",
       "    line-height: 19px;\n",
       "  }\n",
       "</style>\n",
       "<div class=\"ansiout\">Hello Bonjour\n",
       "</div>"
      ]
     },
     "metadata": {
      "application/vnd.databricks.v1+output": {
       "addedWidgets": {},
       "arguments": {},
       "data": "<div class=\"ansiout\">Hello Bonjour\n</div>",
       "datasetInfos": [],
       "metadata": {},
       "removedWidgets": [],
       "type": "html"
      }
     },
     "output_type": "display_data"
    }
   ],
   "source": [
    "ma_fonction(param2=\"Bonjour\", param1=\"Hello\")"
   ]
  },
  {
   "cell_type": "markdown",
   "metadata": {
    "application/vnd.databricks.v1+cell": {
     "inputWidgets": {},
     "nuid": "41930a0f-1328-4cd7-9cbe-2a18da077689",
     "showTitle": false,
     "title": ""
    }
   },
   "source": [
    "### TP 17: Afficher un message complexe\n",
    "1. Créez une fonction `editeur_de_message`qui prend en paramètre un nom, un département, une nationalité, une action et un sexe.\n",
    "2. Dans cette fonction, affichez un message avec le format suivant:\n",
    "\n",
    "```\n",
    "Bonjour,\n",
    "\n",
    "<Monsieur ou Madame> <Nom>\n",
    "\n",
    "Est ce que ces informations sont correctes:\n",
    "- Vous vivez dans le département <numéro du département>.\n",
    "- Votre nationalité est <nationalité>\n",
    "- Vous avez effectué <action>\n",
    "\n",
    "Cordialement\n",
    "\n",
    "\n",
    "```\n",
    "  > Choisir `Monsieur` ou `Madame` en fonction du sexe passé en paramètre.\n",
    "\n",
    "3. Sachant que la majorité des utilisateurs sont des français, modifiez votre fonction pour que la valeur par défaut de la nationalité soit française."
   ]
  },
  {
   "cell_type": "code",
   "execution_count": 45,
   "metadata": {
    "application/vnd.databricks.v1+cell": {
     "inputWidgets": {},
     "nuid": "27c8a4c8-cd4e-411e-bede-d100b598dd00",
     "showTitle": false,
     "title": ""
    }
   },
   "outputs": [
    {
     "name": "stdout",
     "output_type": "stream",
     "text": [
      "Monsieur florent\n",
      "Est ce que ces informations sont correctes:\n",
      "Vous vivez dans le département 59\n",
      "Votre nationalité est francaise\n",
      "vous voyagez pour motif : Travail\n",
      "\n",
      "Cordialement\n"
     ]
    }
   ],
   "source": [
    "\n",
    "def editeur_de_message(nom,departement,nationalite,motif,sexe):\n",
    "    \n",
    "    print( sexe  + \" \" + nom)\n",
    "    print(\"Est ce que ces informations sont correctes:\")\n",
    "    print(\"Vous vivez dans le département \" + str(departement))\n",
    "    print(\"Votre nationalité est \" + nationalite)\n",
    "    print(\"vous voyagez pour motif :\" + motif)\n",
    "    print(\"\")\n",
    "    print(\"Cordialement\")\n",
    "    \n",
    "editeur_de_message(\"florent\",59,\"francaise\",\" Travail\",\"Monsieur\")"
   ]
  },
  {
   "cell_type": "code",
   "execution_count": null,
   "metadata": {},
   "outputs": [],
   "source": []
  }
 ],
 "metadata": {
  "application/vnd.databricks.v1+notebook": {
   "dashboards": [],
   "language": "python",
   "notebookMetadata": {
    "pythonIndentUnit": 4
   },
   "notebookName": "05_fonctions",
   "notebookOrigID": 4296648366370353,
   "widgets": {}
  },
  "kernelspec": {
   "display_name": "Python 3 (ipykernel)",
   "language": "python",
   "name": "python3"
  },
  "language_info": {
   "codemirror_mode": {
    "name": "ipython",
    "version": 3
   },
   "file_extension": ".py",
   "mimetype": "text/x-python",
   "name": "python",
   "nbconvert_exporter": "python",
   "pygments_lexer": "ipython3",
   "version": "3.9.7"
  }
 },
 "nbformat": 4,
 "nbformat_minor": 4
}
