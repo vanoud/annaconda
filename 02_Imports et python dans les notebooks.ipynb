{
 "cells": [
  {
   "cell_type": "markdown",
   "metadata": {
    "application/vnd.databricks.v1+cell": {
     "inputWidgets": {},
     "nuid": "8d346795-a748-4318-96e6-4035b1e5d656",
     "showTitle": false,
     "title": ""
    }
   },
   "source": [
    "# Python dans les notebooks et les imports"
   ]
  },
  {
   "cell_type": "markdown",
   "metadata": {
    "application/vnd.databricks.v1+cell": {
     "inputWidgets": {},
     "nuid": "02385e36-1eef-46f9-9e49-d707e5c60a4e",
     "showTitle": false,
     "title": ""
    }
   },
   "source": [
    "## Python dans les notebooks\n",
    "\n",
    "Grâce aux notebooks vous pouvez écrire vos codes python dans plusieurs cellules dans le même notebook.\n",
    "\n",
    "Les `variables`, `fonctions`, `imports` et autres définitions sont communs à l'ensemble du notebook dès lors que vous les avez exécutés."
   ]
  },
  {
   "cell_type": "markdown",
   "metadata": {
    "application/vnd.databricks.v1+cell": {
     "inputWidgets": {},
     "nuid": "47658726-e4e8-4a3c-b467-6b4fe6d93f4a",
     "showTitle": false,
     "title": ""
    }
   },
   "source": [
    "### TP6: Code multi-celulles\n",
    "1. Dans la première cellule:\n",
    "  * Une fonction `afficher` qui prend en paramètre un message et qui l'affiche.\n",
    "  * Une variable `message` valant \"message depuis la première cellule\".\n",
    "2. Dans la deuxième cellule, appellez la fonction `afficher` en lui passant en paramètre le variable `message`."
   ]
  },
  {
   "cell_type": "code",
   "execution_count": 10,
   "metadata": {
    "application/vnd.databricks.v1+cell": {
     "inputWidgets": {},
     "nuid": "1e278e94-27b5-4b4e-97cd-70528e06ad5a",
     "showTitle": false,
     "title": ""
    }
   },
   "outputs": [
    {
     "name": "stdout",
     "output_type": "stream",
     "text": [
      "transfo\n",
      "5\n"
     ]
    }
   ],
   "source": [
    "def afficher(message,numero):\n",
    "\n",
    "    print(message)\n",
    "    print(numero)\n",
    "\n",
    "afficher(\"bonjour\",5)\n",
    "    # Première cellule"
   ]
  },
  {
   "cell_type": "code",
   "execution_count": 7,
   "metadata": {
    "application/vnd.databricks.v1+cell": {
     "inputWidgets": {},
     "nuid": "5e3bfafb-0c1e-4ce9-9aca-2d479fcf6920",
     "showTitle": false,
     "title": ""
    }
   },
   "outputs": [
    {
     "name": "stdout",
     "output_type": "stream",
     "text": [
      "2 éme bonjour\n"
     ]
    }
   ],
   "source": [
    "# Deuxième cellule\n",
    "afficher(\"2 éme bonjour\")"
   ]
  },
  {
   "cell_type": "markdown",
   "metadata": {
    "application/vnd.databricks.v1+cell": {
     "inputWidgets": {},
     "nuid": "288df8cc-af6e-480e-ab1f-2cb10a229eed",
     "showTitle": false,
     "title": ""
    }
   },
   "source": [
    "## Les imports\n",
    "Nous utilisons souvent du code écrit par d'autres développeurs (python, spark, pandas, koalas, etc...).\n",
    "\n",
    "Pour ajouter ce code à python nous utilisons les `imports`.\n",
    "\n",
    "Il y a deux types d'imports:\n",
    "* `import <nom de la librairie> as <ALIAS`\n",
    "* `from <nom de la librairie> import <element>`"
   ]
  },
  {
   "cell_type": "markdown",
   "metadata": {
    "application/vnd.databricks.v1+cell": {
     "inputWidgets": {},
     "nuid": "3cefbb8c-057d-4263-b43d-53a2c8d5302a",
     "showTitle": false,
     "title": ""
    }
   },
   "source": [
    "### Import ...\n",
    "Le premier type d'import importe l'ensemble du code dans une `variable`.\n",
    "\n",
    "Par défaut la variable porte le nom de la librairie mais vous pouvez créer un alias grâce au mot-clé `as`.\n",
    "\n",
    "Vous pouvez alors utiliser les éléments de la librairie grâce à la variable."
   ]
  },
  {
   "cell_type": "code",
   "execution_count": 8,
   "metadata": {
    "application/vnd.databricks.v1+cell": {
     "inputWidgets": {},
     "nuid": "7e74e22a-4e69-437f-abec-c84761f4ec9e",
     "showTitle": false,
     "title": ""
    }
   },
   "outputs": [
    {
     "name": "stdout",
     "output_type": "stream",
     "text": [
      "11.180339887498949\n"
     ]
    }
   ],
   "source": [
    "\n",
    "import math\n",
    "\n",
    "print(math.sqrt(125))"
   ]
  },
  {
   "cell_type": "code",
   "execution_count": 2,
   "metadata": {
    "application/vnd.databricks.v1+cell": {
     "inputWidgets": {},
     "nuid": "e597d2ac-7242-4530-9769-a0a1f2e975e7",
     "showTitle": false,
     "title": ""
    }
   },
   "outputs": [
    {
     "name": "stdout",
     "output_type": "stream",
     "text": [
      "54\n"
     ]
    }
   ],
   "source": [
    "import random as rng\n",
    "\n",
    "print(rng.randint(0,100))"
   ]
  },
  {
   "cell_type": "markdown",
   "metadata": {
    "application/vnd.databricks.v1+cell": {
     "inputWidgets": {},
     "nuid": "da2f27f6-a029-4d4f-8516-f674c32a8536",
     "showTitle": false,
     "title": ""
    }
   },
   "source": [
    "### from ... import ...\n",
    "\n",
    "La deuxième méthode permet de récupérer un ou plusieurs éléments spécifiques:"
   ]
  },
  {
   "cell_type": "code",
   "execution_count": 3,
   "metadata": {
    "application/vnd.databricks.v1+cell": {
     "inputWidgets": {},
     "nuid": "77e39546-2b19-450a-9366-37ddfd7b0690",
     "showTitle": false,
     "title": ""
    }
   },
   "outputs": [
    {
     "name": "stdout",
     "output_type": "stream",
     "text": [
      "75\n"
     ]
    }
   ],
   "source": [
    "from random import randint\n",
    "\n",
    "print(randint(0,100))"
   ]
  },
  {
   "cell_type": "code",
   "execution_count": 5,
   "metadata": {
    "application/vnd.databricks.v1+cell": {
     "inputWidgets": {},
     "nuid": "3cba1300-e041-424b-92f8-20ecd05c323d",
     "showTitle": false,
     "title": ""
    }
   },
   "outputs": [
    {
     "name": "stdout",
     "output_type": "stream",
     "text": [
      "1.7724538509055159\n"
     ]
    }
   ],
   "source": [
    "from math import sqrt, pi, cos, sin, tan\n",
    "\n",
    "print(sqrt(pi))"
   ]
  },
  {
   "cell_type": "markdown",
   "metadata": {
    "application/vnd.databricks.v1+cell": {
     "inputWidgets": {},
     "nuid": "a40a44f5-0602-43e8-b3bd-84d4929b33aa",
     "showTitle": false,
     "title": ""
    }
   },
   "source": [
    "## Package Installer for Python ou PIP\n",
    "\n",
    "Pip est un utilitaire de python permettant d'installer automatiquement des librairies pour notre notebook.\n",
    "\n",
    "[Documentation de pip](https://pip.pypa.io/en/stable/)"
   ]
  },
  {
   "cell_type": "markdown",
   "metadata": {
    "application/vnd.databricks.v1+cell": {
     "inputWidgets": {},
     "nuid": "3cef5361-f318-4b96-8459-616e0751cadf",
     "showTitle": false,
     "title": ""
    }
   },
   "source": [
    "### Installer une librarie\n",
    "\n",
    "Pour installer une nouvelle librairie:\n",
    "\n",
    "```shell\n",
    "pip install <nom de la librairie>\n",
    "```"
   ]
  },
  {
   "cell_type": "code",
   "execution_count": null,
   "metadata": {
    "application/vnd.databricks.v1+cell": {
     "inputWidgets": {},
     "nuid": "31a582b2-8a5e-4402-8b6c-aa2d8f657749",
     "showTitle": false,
     "title": ""
    }
   },
   "outputs": [
    {
     "data": {
      "text/html": [
       "<style scoped>\n",
       "  .ansiout {\n",
       "    display: block;\n",
       "    unicode-bidi: embed;\n",
       "    white-space: pre-wrap;\n",
       "    word-wrap: break-word;\n",
       "    word-break: break-all;\n",
       "    font-family: \"Source Code Pro\", \"Menlo\", monospace;;\n",
       "    font-size: 13px;\n",
       "    color: #555;\n",
       "    margin-left: 4px;\n",
       "    line-height: 19px;\n",
       "  }\n",
       "</style>\n",
       "<div class=\"ansiout\">Python interpreter will be restarted.\n",
       "Collecting sampleproject\n",
       "  Downloading sampleproject-2.0.0-py3-none-any.whl (4.2 kB)\n",
       "Collecting peppercorn\n",
       "  Downloading peppercorn-0.6-py3-none-any.whl (4.8 kB)\n",
       "Installing collected packages: peppercorn, sampleproject\n",
       "Successfully installed peppercorn-0.6 sampleproject-2.0.0\n",
       "WARNING: You are using pip version 21.0.1; however, version 21.3.1 is available.\n",
       "You should consider upgrading via the &#39;/local_disk0/.ephemeral_nfs/envs/pythonEnv-d9f35c22-6763-4ea6-9a7b-337db002cd76/bin/python -m pip install --upgrade pip&#39; command.\n",
       "Python interpreter will be restarted.\n",
       "</div>"
      ]
     },
     "metadata": {
      "application/vnd.databricks.v1+output": {
       "addedWidgets": {},
       "arguments": {},
       "data": "<div class=\"ansiout\">Python interpreter will be restarted.\nCollecting sampleproject\n  Downloading sampleproject-2.0.0-py3-none-any.whl (4.2 kB)\nCollecting peppercorn\n  Downloading peppercorn-0.6-py3-none-any.whl (4.8 kB)\nInstalling collected packages: peppercorn, sampleproject\nSuccessfully installed peppercorn-0.6 sampleproject-2.0.0\nWARNING: You are using pip version 21.0.1; however, version 21.3.1 is available.\nYou should consider upgrading via the &#39;/local_disk0/.ephemeral_nfs/envs/pythonEnv-d9f35c22-6763-4ea6-9a7b-337db002cd76/bin/python -m pip install --upgrade pip&#39; command.\nPython interpreter will be restarted.\n</div>",
       "datasetInfos": [],
       "metadata": {},
       "removedWidgets": [],
       "type": "html"
      }
     },
     "output_type": "display_data"
    }
   ],
   "source": [
    "pip install sampleproject"
   ]
  },
  {
   "cell_type": "markdown",
   "metadata": {
    "application/vnd.databricks.v1+cell": {
     "inputWidgets": {},
     "nuid": "9ab046f8-1273-41ff-b381-056c7fec7408",
     "showTitle": false,
     "title": ""
    }
   },
   "source": [
    "### Lister l'ensemble des librairies installées\n",
    "\n",
    "Pour lister l'ensemble des libraries installées:\n",
    "\n",
    "```shell\n",
    "pip list\n",
    "```\n",
    "\n",
    "ou pour l'avoir au format text (utile pour des utilisations avancées)\n",
    "\n",
    "```shell\n",
    "pip freeze\n",
    "```"
   ]
  },
  {
   "cell_type": "code",
   "execution_count": null,
   "metadata": {
    "application/vnd.databricks.v1+cell": {
     "inputWidgets": {},
     "nuid": "18e98d21-248c-4f7f-9455-6d001db7bc0b",
     "showTitle": false,
     "title": ""
    }
   },
   "outputs": [
    {
     "data": {
      "text/html": [
       "<style scoped>\n",
       "  .ansiout {\n",
       "    display: block;\n",
       "    unicode-bidi: embed;\n",
       "    white-space: pre-wrap;\n",
       "    word-wrap: break-word;\n",
       "    word-break: break-all;\n",
       "    font-family: \"Source Code Pro\", \"Menlo\", monospace;;\n",
       "    font-size: 13px;\n",
       "    color: #555;\n",
       "    margin-left: 4px;\n",
       "    line-height: 19px;\n",
       "  }\n",
       "</style>\n",
       "<div class=\"ansiout\">Package             Version\n",
       "------------------- --------------------\n",
       "appdirs             1.4.4\n",
       "argon2-cffi         20.1.0\n",
       "async-generator     1.10\n",
       "attrs               20.3.0\n",
       "backcall            0.2.0\n",
       "bleach              3.3.0\n",
       "boto3               1.16.7\n",
       "botocore            1.19.7\n",
       "certifi             2020.12.5\n",
       "cffi                1.14.5\n",
       "chardet             4.0.0\n",
       "cycler              0.10.0\n",
       "Cython              0.29.23\n",
       "dbus-python         1.2.16\n",
       "decorator           5.0.6\n",
       "defusedxml          0.7.1\n",
       "distlib             0.3.2\n",
       "distro              1.4.0\n",
       "distro-info         0.23ubuntu1\n",
       "entrypoints         0.3\n",
       "facets-overview     1.0.0\n",
       "filelock            3.0.12\n",
       "idna                2.10\n",
       "ipykernel           5.3.4\n",
       "ipython             7.22.0\n",
       "ipython-genutils    0.2.0\n",
       "ipywidgets          7.6.3\n",
       "jedi                0.17.2\n",
       "Jinja2              2.11.3\n",
       "jmespath            0.10.0\n",
       "joblib              1.0.1\n",
       "jsonschema          3.2.0\n",
       "jupyter-client      6.1.12\n",
       "jupyter-core        4.7.1\n",
       "jupyterlab-pygments 0.1.2\n",
       "jupyterlab-widgets  1.0.0\n",
       "kiwisolver          1.3.1\n",
       "koalas              1.8.1\n",
       "MarkupSafe          1.1.1\n",
       "matplotlib          3.4.2\n",
       "mistune             0.8.4\n",
       "nbclient            0.5.3\n",
       "nbconvert           6.0.7\n",
       "nbformat            5.1.3\n",
       "nest-asyncio        1.5.1\n",
       "notebook            6.3.0\n",
       "numpy               1.19.2\n",
       "packaging           20.9\n",
       "pandas              1.2.4\n",
       "pandocfilters       1.4.3\n",
       "parso               0.7.0\n",
       "patsy               0.5.1\n",
       "peppercorn          0.6\n",
       "pexpect             4.8.0\n",
       "pickleshare         0.7.5\n",
       "Pillow              8.2.0\n",
       "pip                 21.0.1\n",
       "plotly              5.1.0\n",
       "prometheus-client   0.10.1\n",
       "prompt-toolkit      3.0.17\n",
       "protobuf            3.17.2\n",
       "psycopg2            2.8.5\n",
       "ptyprocess          0.7.0\n",
       "pyarrow             4.0.0\n",
       "pycparser           2.20\n",
       "Pygments            2.8.1\n",
       "PyGObject           3.36.0\n",
       "pyparsing           2.4.7\n",
       "pyrsistent          0.17.3\n",
       "python-apt          2.0.0+ubuntu0.20.4.6\n",
       "python-dateutil     2.8.1\n",
       "pytz                2020.5\n",
       "pyzmq               20.0.0\n",
       "requests            2.25.1\n",
       "requests-unixsocket 0.2.0\n",
       "s3transfer          0.3.7\n",
       "sampleproject       2.0.0\n",
       "scikit-learn        0.24.1\n",
       "scipy               1.6.2\n",
       "seaborn             0.11.1\n",
       "Send2Trash          1.5.0\n",
       "setuptools          52.0.0\n",
       "six                 1.15.0\n",
       "ssh-import-id       5.10\n",
       "statsmodels         0.12.2\n",
       "tenacity            8.0.1\n",
       "terminado           0.9.4\n",
       "testpath            0.4.4\n",
       "threadpoolctl       2.1.0\n",
       "tornado             6.1\n",
       "traitlets           5.0.5\n",
       "unattended-upgrades 0.1\n",
       "urllib3             1.25.11\n",
       "virtualenv          20.4.1\n",
       "wcwidth             0.2.5\n",
       "webencodings        0.5.1\n",
       "wheel               0.36.2\n",
       "widgetsnbextension  3.5.1\n",
       "WARNING: You are using pip version 21.0.1; however, version 21.3.1 is available.\n",
       "You should consider upgrading via the &#39;/local_disk0/.ephemeral_nfs/envs/pythonEnv-d9f35c22-6763-4ea6-9a7b-337db002cd76/bin/python -m pip install --upgrade pip&#39; command.\n",
       "</div>"
      ]
     },
     "metadata": {
      "application/vnd.databricks.v1+output": {
       "addedWidgets": {},
       "arguments": {},
       "data": "<div class=\"ansiout\">Package             Version\n------------------- --------------------\nappdirs             1.4.4\nargon2-cffi         20.1.0\nasync-generator     1.10\nattrs               20.3.0\nbackcall            0.2.0\nbleach              3.3.0\nboto3               1.16.7\nbotocore            1.19.7\ncertifi             2020.12.5\ncffi                1.14.5\nchardet             4.0.0\ncycler              0.10.0\nCython              0.29.23\ndbus-python         1.2.16\ndecorator           5.0.6\ndefusedxml          0.7.1\ndistlib             0.3.2\ndistro              1.4.0\ndistro-info         0.23ubuntu1\nentrypoints         0.3\nfacets-overview     1.0.0\nfilelock            3.0.12\nidna                2.10\nipykernel           5.3.4\nipython             7.22.0\nipython-genutils    0.2.0\nipywidgets          7.6.3\njedi                0.17.2\nJinja2              2.11.3\njmespath            0.10.0\njoblib              1.0.1\njsonschema          3.2.0\njupyter-client      6.1.12\njupyter-core        4.7.1\njupyterlab-pygments 0.1.2\njupyterlab-widgets  1.0.0\nkiwisolver          1.3.1\nkoalas              1.8.1\nMarkupSafe          1.1.1\nmatplotlib          3.4.2\nmistune             0.8.4\nnbclient            0.5.3\nnbconvert           6.0.7\nnbformat            5.1.3\nnest-asyncio        1.5.1\nnotebook            6.3.0\nnumpy               1.19.2\npackaging           20.9\npandas              1.2.4\npandocfilters       1.4.3\nparso               0.7.0\npatsy               0.5.1\npeppercorn          0.6\npexpect             4.8.0\npickleshare         0.7.5\nPillow              8.2.0\npip                 21.0.1\nplotly              5.1.0\nprometheus-client   0.10.1\nprompt-toolkit      3.0.17\nprotobuf            3.17.2\npsycopg2            2.8.5\nptyprocess          0.7.0\npyarrow             4.0.0\npycparser           2.20\nPygments            2.8.1\nPyGObject           3.36.0\npyparsing           2.4.7\npyrsistent          0.17.3\npython-apt          2.0.0+ubuntu0.20.4.6\npython-dateutil     2.8.1\npytz                2020.5\npyzmq               20.0.0\nrequests            2.25.1\nrequests-unixsocket 0.2.0\ns3transfer          0.3.7\nsampleproject       2.0.0\nscikit-learn        0.24.1\nscipy               1.6.2\nseaborn             0.11.1\nSend2Trash          1.5.0\nsetuptools          52.0.0\nsix                 1.15.0\nssh-import-id       5.10\nstatsmodels         0.12.2\ntenacity            8.0.1\nterminado           0.9.4\ntestpath            0.4.4\nthreadpoolctl       2.1.0\ntornado             6.1\ntraitlets           5.0.5\nunattended-upgrades 0.1\nurllib3             1.25.11\nvirtualenv          20.4.1\nwcwidth             0.2.5\nwebencodings        0.5.1\nwheel               0.36.2\nwidgetsnbextension  3.5.1\nWARNING: You are using pip version 21.0.1; however, version 21.3.1 is available.\nYou should consider upgrading via the &#39;/local_disk0/.ephemeral_nfs/envs/pythonEnv-d9f35c22-6763-4ea6-9a7b-337db002cd76/bin/python -m pip install --upgrade pip&#39; command.\n</div>",
       "datasetInfos": [],
       "metadata": {},
       "removedWidgets": [],
       "type": "html"
      }
     },
     "output_type": "display_data"
    }
   ],
   "source": [
    "pip list"
   ]
  },
  {
   "cell_type": "code",
   "execution_count": null,
   "metadata": {
    "application/vnd.databricks.v1+cell": {
     "inputWidgets": {},
     "nuid": "be201e87-0c9e-4a1e-8931-50bb2d5614f1",
     "showTitle": false,
     "title": ""
    }
   },
   "outputs": [
    {
     "data": {
      "text/html": [
       "<style scoped>\n",
       "  .ansiout {\n",
       "    display: block;\n",
       "    unicode-bidi: embed;\n",
       "    white-space: pre-wrap;\n",
       "    word-wrap: break-word;\n",
       "    word-break: break-all;\n",
       "    font-family: \"Source Code Pro\", \"Menlo\", monospace;;\n",
       "    font-size: 13px;\n",
       "    color: #555;\n",
       "    margin-left: 4px;\n",
       "    line-height: 19px;\n",
       "  }\n",
       "</style>\n",
       "<div class=\"ansiout\">appdirs==1.4.4\n",
       "argon2-cffi==20.1.0\n",
       "async-generator==1.10\n",
       "attrs==20.3.0\n",
       "backcall==0.2.0\n",
       "bleach==3.3.0\n",
       "boto3==1.16.7\n",
       "botocore==1.19.7\n",
       "certifi==2020.12.5\n",
       "cffi==1.14.5\n",
       "chardet==4.0.0\n",
       "cycler==0.10.0\n",
       "Cython==0.29.23\n",
       "dbus-python==1.2.16\n",
       "decorator==5.0.6\n",
       "defusedxml==0.7.1\n",
       "distlib==0.3.2\n",
       "distro==1.4.0\n",
       "distro-info===0.23ubuntu1\n",
       "entrypoints==0.3\n",
       "facets-overview==1.0.0\n",
       "filelock==3.0.12\n",
       "idna==2.10\n",
       "ipykernel==5.3.4\n",
       "ipython==7.22.0\n",
       "ipython-genutils==0.2.0\n",
       "ipywidgets==7.6.3\n",
       "jedi==0.17.2\n",
       "Jinja2==2.11.3\n",
       "jmespath==0.10.0\n",
       "joblib==1.0.1\n",
       "jsonschema==3.2.0\n",
       "jupyter-client==6.1.12\n",
       "jupyter-core==4.7.1\n",
       "jupyterlab-pygments==0.1.2\n",
       "jupyterlab-widgets==1.0.0\n",
       "kiwisolver==1.3.1\n",
       "koalas==1.8.1\n",
       "MarkupSafe==1.1.1\n",
       "matplotlib==3.4.2\n",
       "mistune==0.8.4\n",
       "nbclient==0.5.3\n",
       "nbconvert==6.0.7\n",
       "nbformat==5.1.3\n",
       "nest-asyncio==1.5.1\n",
       "notebook==6.3.0\n",
       "numpy==1.19.2\n",
       "packaging==20.9\n",
       "pandas==1.2.4\n",
       "pandocfilters==1.4.3\n",
       "parso==0.7.0\n",
       "patsy==0.5.1\n",
       "peppercorn==0.6\n",
       "pexpect==4.8.0\n",
       "pickleshare==0.7.5\n",
       "Pillow==8.2.0\n",
       "plotly==5.1.0\n",
       "prometheus-client==0.10.1\n",
       "prompt-toolkit==3.0.17\n",
       "protobuf==3.17.2\n",
       "psycopg2==2.8.5\n",
       "ptyprocess==0.7.0\n",
       "pyarrow==4.0.0\n",
       "pycparser==2.20\n",
       "Pygments==2.8.1\n",
       "PyGObject==3.36.0\n",
       "pyparsing==2.4.7\n",
       "pyrsistent==0.17.3\n",
       "python-apt==2.0.0+ubuntu0.20.4.6\n",
       "python-dateutil==2.8.1\n",
       "pytz==2020.5\n",
       "pyzmq==20.0.0\n",
       "requests==2.25.1\n",
       "requests-unixsocket==0.2.0\n",
       "s3transfer==0.3.7\n",
       "sampleproject==2.0.0\n",
       "scikit-learn==0.24.1\n",
       "scipy==1.6.2\n",
       "seaborn==0.11.1\n",
       "Send2Trash==1.5.0\n",
       "six==1.15.0\n",
       "ssh-import-id==5.10\n",
       "statsmodels==0.12.2\n",
       "tenacity==8.0.1\n",
       "terminado==0.9.4\n",
       "testpath==0.4.4\n",
       "threadpoolctl==2.1.0\n",
       "tornado==6.1\n",
       "traitlets==5.0.5\n",
       "unattended-upgrades==0.1\n",
       "urllib3==1.25.11\n",
       "virtualenv==20.4.1\n",
       "wcwidth==0.2.5\n",
       "webencodings==0.5.1\n",
       "widgetsnbextension==3.5.1\n",
       "</div>"
      ]
     },
     "metadata": {
      "application/vnd.databricks.v1+output": {
       "addedWidgets": {},
       "arguments": {},
       "data": "<div class=\"ansiout\">appdirs==1.4.4\nargon2-cffi==20.1.0\nasync-generator==1.10\nattrs==20.3.0\nbackcall==0.2.0\nbleach==3.3.0\nboto3==1.16.7\nbotocore==1.19.7\ncertifi==2020.12.5\ncffi==1.14.5\nchardet==4.0.0\ncycler==0.10.0\nCython==0.29.23\ndbus-python==1.2.16\ndecorator==5.0.6\ndefusedxml==0.7.1\ndistlib==0.3.2\ndistro==1.4.0\ndistro-info===0.23ubuntu1\nentrypoints==0.3\nfacets-overview==1.0.0\nfilelock==3.0.12\nidna==2.10\nipykernel==5.3.4\nipython==7.22.0\nipython-genutils==0.2.0\nipywidgets==7.6.3\njedi==0.17.2\nJinja2==2.11.3\njmespath==0.10.0\njoblib==1.0.1\njsonschema==3.2.0\njupyter-client==6.1.12\njupyter-core==4.7.1\njupyterlab-pygments==0.1.2\njupyterlab-widgets==1.0.0\nkiwisolver==1.3.1\nkoalas==1.8.1\nMarkupSafe==1.1.1\nmatplotlib==3.4.2\nmistune==0.8.4\nnbclient==0.5.3\nnbconvert==6.0.7\nnbformat==5.1.3\nnest-asyncio==1.5.1\nnotebook==6.3.0\nnumpy==1.19.2\npackaging==20.9\npandas==1.2.4\npandocfilters==1.4.3\nparso==0.7.0\npatsy==0.5.1\npeppercorn==0.6\npexpect==4.8.0\npickleshare==0.7.5\nPillow==8.2.0\nplotly==5.1.0\nprometheus-client==0.10.1\nprompt-toolkit==3.0.17\nprotobuf==3.17.2\npsycopg2==2.8.5\nptyprocess==0.7.0\npyarrow==4.0.0\npycparser==2.20\nPygments==2.8.1\nPyGObject==3.36.0\npyparsing==2.4.7\npyrsistent==0.17.3\npython-apt==2.0.0+ubuntu0.20.4.6\npython-dateutil==2.8.1\npytz==2020.5\npyzmq==20.0.0\nrequests==2.25.1\nrequests-unixsocket==0.2.0\ns3transfer==0.3.7\nsampleproject==2.0.0\nscikit-learn==0.24.1\nscipy==1.6.2\nseaborn==0.11.1\nSend2Trash==1.5.0\nsix==1.15.0\nssh-import-id==5.10\nstatsmodels==0.12.2\ntenacity==8.0.1\nterminado==0.9.4\ntestpath==0.4.4\nthreadpoolctl==2.1.0\ntornado==6.1\ntraitlets==5.0.5\nunattended-upgrades==0.1\nurllib3==1.25.11\nvirtualenv==20.4.1\nwcwidth==0.2.5\nwebencodings==0.5.1\nwidgetsnbextension==3.5.1\n</div>",
       "datasetInfos": [],
       "metadata": {},
       "removedWidgets": [],
       "type": "html"
      }
     },
     "output_type": "display_data"
    }
   ],
   "source": [
    "pip freeze"
   ]
  },
  {
   "cell_type": "markdown",
   "metadata": {
    "application/vnd.databricks.v1+cell": {
     "inputWidgets": {},
     "nuid": "62332bc0-f54f-444b-9bd4-200915a14f9e",
     "showTitle": false,
     "title": ""
    }
   },
   "source": [
    "### Mettre à jour une librairie\n",
    "\n",
    "Il peut être nécessaire de mettre à jour une librairie. Voici la syntaxe:\n",
    "```shell\n",
    "pip install --upgrade <nom de la librairie>\n",
    "```"
   ]
  },
  {
   "cell_type": "code",
   "execution_count": null,
   "metadata": {
    "application/vnd.databricks.v1+cell": {
     "inputWidgets": {},
     "nuid": "c4bd9b2a-325b-43e8-ab8e-ac634e528a8e",
     "showTitle": false,
     "title": ""
    }
   },
   "outputs": [
    {
     "data": {
      "text/html": [
       "<style scoped>\n",
       "  .ansiout {\n",
       "    display: block;\n",
       "    unicode-bidi: embed;\n",
       "    white-space: pre-wrap;\n",
       "    word-wrap: break-word;\n",
       "    word-break: break-all;\n",
       "    font-family: \"Source Code Pro\", \"Menlo\", monospace;;\n",
       "    font-size: 13px;\n",
       "    color: #555;\n",
       "    margin-left: 4px;\n",
       "    line-height: 19px;\n",
       "  }\n",
       "</style>\n",
       "<div class=\"ansiout\">Python interpreter will be restarted.\n",
       "Requirement already satisfied: sampleproject in /local_disk0/.ephemeral_nfs/envs/pythonEnv-d9f35c22-6763-4ea6-9a7b-337db002cd76/lib/python3.8/site-packages (2.0.0)\n",
       "Requirement already satisfied: peppercorn in /local_disk0/.ephemeral_nfs/envs/pythonEnv-d9f35c22-6763-4ea6-9a7b-337db002cd76/lib/python3.8/site-packages (from sampleproject) (0.6)\n",
       "WARNING: You are using pip version 21.0.1; however, version 21.3.1 is available.\n",
       "You should consider upgrading via the &#39;/local_disk0/.ephemeral_nfs/envs/pythonEnv-d9f35c22-6763-4ea6-9a7b-337db002cd76/bin/python -m pip install --upgrade pip&#39; command.\n",
       "Python interpreter will be restarted.\n",
       "</div>"
      ]
     },
     "metadata": {
      "application/vnd.databricks.v1+output": {
       "addedWidgets": {},
       "arguments": {},
       "data": "<div class=\"ansiout\">Python interpreter will be restarted.\nRequirement already satisfied: sampleproject in /local_disk0/.ephemeral_nfs/envs/pythonEnv-d9f35c22-6763-4ea6-9a7b-337db002cd76/lib/python3.8/site-packages (2.0.0)\nRequirement already satisfied: peppercorn in /local_disk0/.ephemeral_nfs/envs/pythonEnv-d9f35c22-6763-4ea6-9a7b-337db002cd76/lib/python3.8/site-packages (from sampleproject) (0.6)\nWARNING: You are using pip version 21.0.1; however, version 21.3.1 is available.\nYou should consider upgrading via the &#39;/local_disk0/.ephemeral_nfs/envs/pythonEnv-d9f35c22-6763-4ea6-9a7b-337db002cd76/bin/python -m pip install --upgrade pip&#39; command.\nPython interpreter will be restarted.\n</div>",
       "datasetInfos": [],
       "metadata": {},
       "removedWidgets": [],
       "type": "html"
      }
     },
     "output_type": "display_data"
    }
   ],
   "source": [
    "pip install --upgrade sampleproject"
   ]
  },
  {
   "cell_type": "markdown",
   "metadata": {
    "application/vnd.databricks.v1+cell": {
     "inputWidgets": {},
     "nuid": "40bcde61-af39-4086-aef1-39865f21138e",
     "showTitle": false,
     "title": ""
    }
   },
   "source": [
    "### Désinstaller une librairie\n",
    "\n",
    "Pour désinstaller une librairie:\n",
    "```shell\n",
    "pip uninstall --yes <nom de la librairie>\n",
    "```"
   ]
  },
  {
   "cell_type": "code",
   "execution_count": null,
   "metadata": {
    "application/vnd.databricks.v1+cell": {
     "inputWidgets": {},
     "nuid": "8804ab2f-a7a2-49e6-80d5-c383acba077a",
     "showTitle": false,
     "title": ""
    }
   },
   "outputs": [
    {
     "data": {
      "text/html": [
       "<style scoped>\n",
       "  .ansiout {\n",
       "    display: block;\n",
       "    unicode-bidi: embed;\n",
       "    white-space: pre-wrap;\n",
       "    word-wrap: break-word;\n",
       "    word-break: break-all;\n",
       "    font-family: \"Source Code Pro\", \"Menlo\", monospace;;\n",
       "    font-size: 13px;\n",
       "    color: #555;\n",
       "    margin-left: 4px;\n",
       "    line-height: 19px;\n",
       "  }\n",
       "</style>\n",
       "<div class=\"ansiout\">Python interpreter will be restarted.\n",
       "Found existing installation: sampleproject 2.0.0\n",
       "Uninstalling sampleproject-2.0.0:\n",
       "  Successfully uninstalled sampleproject-2.0.0\n",
       "Python interpreter will be restarted.\n",
       "</div>"
      ]
     },
     "metadata": {
      "application/vnd.databricks.v1+output": {
       "addedWidgets": {},
       "arguments": {},
       "data": "<div class=\"ansiout\">Python interpreter will be restarted.\nFound existing installation: sampleproject 2.0.0\nUninstalling sampleproject-2.0.0:\n  Successfully uninstalled sampleproject-2.0.0\nPython interpreter will be restarted.\n</div>",
       "datasetInfos": [],
       "metadata": {},
       "removedWidgets": [],
       "type": "html"
      }
     },
     "output_type": "display_data"
    }
   ],
   "source": [
    "pip uninstall --yes sampleproject"
   ]
  },
  {
   "cell_type": "markdown",
   "metadata": {
    "application/vnd.databricks.v1+cell": {
     "inputWidgets": {},
     "nuid": "23cb2dd2-7db2-4f22-bca3-30b9269bba68",
     "showTitle": false,
     "title": ""
    }
   },
   "source": [
    "### Mettre à jour pip"
   ]
  },
  {
   "cell_type": "code",
   "execution_count": null,
   "metadata": {
    "application/vnd.databricks.v1+cell": {
     "inputWidgets": {},
     "nuid": "8cadb35a-a633-42cf-b27f-57b505735da1",
     "showTitle": false,
     "title": ""
    }
   },
   "outputs": [
    {
     "data": {
      "text/html": [
       "<style scoped>\n",
       "  .ansiout {\n",
       "    display: block;\n",
       "    unicode-bidi: embed;\n",
       "    white-space: pre-wrap;\n",
       "    word-wrap: break-word;\n",
       "    word-break: break-all;\n",
       "    font-family: \"Source Code Pro\", \"Menlo\", monospace;;\n",
       "    font-size: 13px;\n",
       "    color: #555;\n",
       "    margin-left: 4px;\n",
       "    line-height: 19px;\n",
       "  }\n",
       "</style>\n",
       "<div class=\"ansiout\">Python interpreter will be restarted.\n",
       "Requirement already satisfied: pip in /local_disk0/.ephemeral_nfs/envs/pythonEnv-d9f35c22-6763-4ea6-9a7b-337db002cd76/lib/python3.8/site-packages (21.0.1)\n",
       "Collecting pip\n",
       "  Downloading pip-21.3.1-py3-none-any.whl (1.7 MB)\n",
       "Installing collected packages: pip\n",
       "  Attempting uninstall: pip\n",
       "    Found existing installation: pip 21.0.1\n",
       "    Uninstalling pip-21.0.1:\n",
       "      Successfully uninstalled pip-21.0.1\n",
       "Successfully installed pip-21.3.1\n",
       "Python interpreter will be restarted.\n",
       "</div>"
      ]
     },
     "metadata": {
      "application/vnd.databricks.v1+output": {
       "addedWidgets": {},
       "arguments": {},
       "data": "<div class=\"ansiout\">Python interpreter will be restarted.\nRequirement already satisfied: pip in /local_disk0/.ephemeral_nfs/envs/pythonEnv-d9f35c22-6763-4ea6-9a7b-337db002cd76/lib/python3.8/site-packages (21.0.1)\nCollecting pip\n  Downloading pip-21.3.1-py3-none-any.whl (1.7 MB)\nInstalling collected packages: pip\n  Attempting uninstall: pip\n    Found existing installation: pip 21.0.1\n    Uninstalling pip-21.0.1:\n      Successfully uninstalled pip-21.0.1\nSuccessfully installed pip-21.3.1\nPython interpreter will be restarted.\n</div>",
       "datasetInfos": [],
       "metadata": {},
       "removedWidgets": [],
       "type": "html"
      }
     },
     "output_type": "display_data"
    }
   ],
   "source": [
    "pip install --upgrade pip"
   ]
  },
  {
   "cell_type": "code",
   "execution_count": null,
   "metadata": {
    "application/vnd.databricks.v1+cell": {
     "inputWidgets": {},
     "nuid": "9c5930b7-c48e-4cba-a4cf-6f5f93bbe17a",
     "showTitle": false,
     "title": ""
    }
   },
   "outputs": [
    {
     "data": {
      "text/html": [
       "<style scoped>\n",
       "  .ansiout {\n",
       "    display: block;\n",
       "    unicode-bidi: embed;\n",
       "    white-space: pre-wrap;\n",
       "    word-wrap: break-word;\n",
       "    word-break: break-all;\n",
       "    font-family: \"Source Code Pro\", \"Menlo\", monospace;;\n",
       "    font-size: 13px;\n",
       "    color: #555;\n",
       "    margin-left: 4px;\n",
       "    line-height: 19px;\n",
       "  }\n",
       "</style>"
      ]
     },
     "metadata": {
      "application/vnd.databricks.v1+output": {
       "arguments": {},
       "data": "",
       "errorSummary": "",
       "errorTraceType": null,
       "metadata": {},
       "type": "ipynbError"
      }
     },
     "output_type": "display_data"
    }
   ],
   "source": []
  }
 ],
 "metadata": {
  "application/vnd.databricks.v1+notebook": {
   "dashboards": [],
   "language": "python",
   "notebookMetadata": {
    "pythonIndentUnit": 4
   },
   "notebookName": "02_Imports et python dans les notebooks",
   "notebookOrigID": 4296648366370294,
   "widgets": {}
  },
  "kernelspec": {
   "display_name": "Python 3 (ipykernel)",
   "language": "python",
   "name": "python3"
  },
  "language_info": {
   "codemirror_mode": {
    "name": "ipython",
    "version": 3
   },
   "file_extension": ".py",
   "mimetype": "text/x-python",
   "name": "python",
   "nbconvert_exporter": "python",
   "pygments_lexer": "ipython3",
   "version": "3.9.7"
  }
 },
 "nbformat": 4,
 "nbformat_minor": 4
}
