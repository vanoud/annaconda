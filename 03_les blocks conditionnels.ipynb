{
 "cells": [
  {
   "cell_type": "markdown",
   "metadata": {
    "application/vnd.databricks.v1+cell": {
     "inputWidgets": {},
     "nuid": "6bde5972-95a3-4f70-9ec1-5ddd7b569187",
     "showTitle": false,
     "title": ""
    }
   },
   "source": [
    "# Les conditions"
   ]
  },
  {
   "cell_type": "markdown",
   "metadata": {
    "application/vnd.databricks.v1+cell": {
     "inputWidgets": {},
     "nuid": "d66bc979-5954-4687-90ef-960e22412a09",
     "showTitle": false,
     "title": ""
    }
   },
   "source": [
    "## Expression booléenne\n",
    "\n",
    "Une expression booléenne est une valeur de type \"vrai\" ou \"faux\".\n",
    "\n",
    "Par exemple :\n",
    "- `True` *vaut vrai* ✔️\n",
    "- `False` *vaut faux* ❌\n",
    "- `5 > 2` *est vrai* ✔️\n",
    "- `insistance(\"Adrien Vossough\", str)` *est vrai et permet de s'assurer que \"Adrien Vossough\" est une chaîne de caractères 'str'* ✔️\n",
    "- `(2 + 3) < 4` *est faux* ❌\n",
    "\n",
    "Il existe des valeurs considérées comme fausses et d'autres vraies (Voir l'exemple ci-dessous):"
   ]
  },
  {
   "cell_type": "code",
   "execution_count": 1,
   "metadata": {
    "application/vnd.databricks.v1+cell": {
     "inputWidgets": {},
     "nuid": "b7275dbc-3f8b-4e87-a53f-d67120141b00",
     "showTitle": false,
     "title": ""
    }
   },
   "outputs": [
    {
     "name": "stdout",
     "output_type": "stream",
     "text": [
      "bool(False) False\n",
      "bool(None)  False\n",
      "bool(0)     False\n",
      "bool(\"\")    False\n",
      "bool(())    False\n",
      "bool([])    False\n",
      "bool({})    False\n",
      "\n",
      "bool(True)  True\n",
      "bool(1)     True\n",
      "bool(-1)    True\n",
      "bool(1.0)   True\n",
      "bool('a')   True\n",
      "bool(\"Adrien Vossough\")      True\n",
      "bool(['Adrien', 'Vossough']) True\n"
     ]
    }
   ],
   "source": [
    "print( \"bool(False)\", bool(False) )\n",
    "print( \"bool(None) \", bool(None) )\n",
    "print( \"bool(0)    \",bool(0) )\n",
    "print( 'bool(\"\")   ',bool(\"\") )\n",
    "print( \"bool(())   \",bool(()) )\n",
    "print( \"bool([])   \",bool([]) )\n",
    "print( \"bool({})   \",bool({}) )\n",
    "\n",
    "print()\n",
    "\n",
    "print( \"bool(True) \", bool(True) )\n",
    "print( \"bool(1)    \", bool(1) )\n",
    "print( \"bool(-1)   \", bool(-1) )\n",
    "print( \"bool(1.0)  \",bool(1.0) )\n",
    "print( \"bool('a')  \",bool('a') )\n",
    "print( 'bool(\"Adrien Vossough\")     ', bool(\"Adrien Vossough\") )\n",
    "print( \"bool(['Adrien', 'Vossough'])\",bool(['Adrien', 'Vossough']) )"
   ]
  },
  {
   "cell_type": "markdown",
   "metadata": {
    "application/vnd.databricks.v1+cell": {
     "inputWidgets": {},
     "nuid": "f91d4665-e84e-43fc-a9dd-03f77d0b3689",
     "showTitle": false,
     "title": ""
    }
   },
   "source": [
    "## Les blocks conditionnels"
   ]
  },
  {
   "cell_type": "markdown",
   "metadata": {
    "application/vnd.databricks.v1+cell": {
     "inputWidgets": {},
     "nuid": "79d64c45-5057-4abb-960f-a03266bccb27",
     "showTitle": false,
     "title": ""
    }
   },
   "source": [
    "### if\n",
    "\n",
    "If nous permet d'exécuter un ensemble d'instructions si une condition est vraie.\n",
    "\n",
    "```\n",
    "# Pseudo code\n",
    "if expression_booléenne :\n",
    "    <instruction 2>\n",
    "    <instruction 3>\n",
    "```\n",
    "\n",
    "Il faut faire attention à l'indentation, elle correspond aux instructions à exécuter si \"expression_booléenne\" est vraie."
   ]
  },
  {
   "cell_type": "code",
   "execution_count": null,
   "metadata": {
    "application/vnd.databricks.v1+cell": {
     "inputWidgets": {},
     "nuid": "3d2d8c32-b9fe-456a-9e17-bbda11f66528",
     "showTitle": false,
     "title": ""
    }
   },
   "outputs": [
    {
     "data": {
      "text/html": [
       "<style scoped>\n",
       "  .ansiout {\n",
       "    display: block;\n",
       "    unicode-bidi: embed;\n",
       "    white-space: pre-wrap;\n",
       "    word-wrap: break-word;\n",
       "    word-break: break-all;\n",
       "    font-family: \"Source Code Pro\", \"Menlo\", monospace;;\n",
       "    font-size: 13px;\n",
       "    color: #555;\n",
       "    margin-left: 4px;\n",
       "    line-height: 19px;\n",
       "  }\n",
       "</style>\n",
       "<div class=\"ansiout\">cette instruction est évaluée dans tous les cas\n",
       "</div>"
      ]
     },
     "metadata": {
      "application/vnd.databricks.v1+output": {
       "addedWidgets": {},
       "arguments": {},
       "data": "<div class=\"ansiout\">cette instruction est évaluée dans tous les cas\n</div>",
       "datasetInfos": [],
       "metadata": {},
       "removedWidgets": [],
       "type": "html"
      }
     },
     "output_type": "display_data"
    }
   ],
   "source": [
    "k = 12\n",
    "b = 18\n",
    "\n",
    "if k > b:\n",
    "    print(\"cette instruction est évaluée si k est supérieur à b\")\n",
    "    \n",
    "print(\"cette instruction est évaluée dans tous les cas\")"
   ]
  },
  {
   "cell_type": "code",
   "execution_count": null,
   "metadata": {
    "application/vnd.databricks.v1+cell": {
     "inputWidgets": {},
     "nuid": "f0173a3b-bb83-48e5-b71a-9ec09a4fd184",
     "showTitle": false,
     "title": ""
    }
   },
   "outputs": [
    {
     "data": {
      "text/html": [
       "<style scoped>\n",
       "  .ansiout {\n",
       "    display: block;\n",
       "    unicode-bidi: embed;\n",
       "    white-space: pre-wrap;\n",
       "    word-wrap: break-word;\n",
       "    word-break: break-all;\n",
       "    font-family: \"Source Code Pro\", \"Menlo\", monospace;;\n",
       "    font-size: 13px;\n",
       "    color: #555;\n",
       "    margin-left: 4px;\n",
       "    line-height: 19px;\n",
       "  }\n",
       "</style>"
      ]
     },
     "metadata": {
      "application/vnd.databricks.v1+output": {
       "arguments": {},
       "data": "",
       "errorSummary": "",
       "errorTraceType": null,
       "metadata": {},
       "type": "ipynbError"
      }
     },
     "output_type": "display_data"
    }
   ],
   "source": [
    "Testez ce code avec d'autre valeur pour k (par exemple k = 18 ou k = 21)"
   ]
  },
  {
   "cell_type": "markdown",
   "metadata": {
    "application/vnd.databricks.v1+cell": {
     "inputWidgets": {},
     "nuid": "ea887a2a-a238-40c5-a069-e65011739b36",
     "showTitle": false,
     "title": ""
    }
   },
   "source": [
    "####TP 7.1 Vérifier un chiffre Partie 1\n",
    "\n",
    "Testez si le chiffre fourni aléatoirement est strictement supérieur à 0.\n",
    "\n",
    "1. Pour cela, importez la fonction : `from random import randint`\n",
    "    La fonction s'utilise ainsi pour retourner des entiers entre -10 et 10: `randint(-10, 10)`\n",
    "\n",
    "2. Fabriquez une variable rand contenant la valeur aléatoire entre -10 et 10\n",
    "\n",
    "3. Fabriquez une condition if qui teste la valeur >0\n",
    "\n",
    "4. Si le résultat est vrai, affichez \"rand est supérieur à 0\"\n",
    "\n",
    "5. Relancez plusieurs fois votre code"
   ]
  },
  {
   "cell_type": "code",
   "execution_count": 22,
   "metadata": {
    "application/vnd.databricks.v1+cell": {
     "inputWidgets": {},
     "nuid": "083684ab-1ee4-4a24-88e2-05bdbd90406c",
     "showTitle": false,
     "title": ""
    }
   },
   "outputs": [
    {
     "name": "stdout",
     "output_type": "stream",
     "text": [
      "6\n"
     ]
    }
   ],
   "source": [
    "import random \n",
    "\n",
    "print(random.randint(0,10))"
   ]
  },
  {
   "cell_type": "markdown",
   "metadata": {
    "application/vnd.databricks.v1+cell": {
     "inputWidgets": {},
     "nuid": "d2982ef4-f2ec-4533-ab08-ad734e5efcee",
     "showTitle": false,
     "title": ""
    }
   },
   "source": [
    "### if ... else ...\n",
    "\n",
    "Le bloc `else` permet d'exécuter des instructions si la condition est fausse.\n",
    "\n",
    "```python\n",
    "if expression_booléenne:\n",
    "    execute si vrai\n",
    "else:\n",
    "    execute si faux\n",
    "```\n",
    "\n",
    "1. En reprenant l'exercice précédent, ajoutez le bloc `else` qui affichera \"rand est inférieur à 0\"\n",
    "\n",
    "2. Relancez le code à plusieurs reprises"
   ]
  },
  {
   "cell_type": "markdown",
   "metadata": {
    "application/vnd.databricks.v1+cell": {
     "inputWidgets": {},
     "nuid": "28e17f89-2e84-454c-9a4e-30c118e1d191",
     "showTitle": false,
     "title": ""
    }
   },
   "source": [
    "####TP 7.2: Vérifier un chiffre Partie 2\n",
    "Reprendre le code de l'exercice TP1.1 et ajouter un block `else` affichant `\"rand est inferieur à 0\"`"
   ]
  },
  {
   "cell_type": "markdown",
   "metadata": {
    "application/vnd.databricks.v1+cell": {
     "inputWidgets": {},
     "nuid": "ae20fb86-d968-42cf-9dcb-562d5afc3568",
     "showTitle": false,
     "title": ""
    }
   },
   "source": [
    "### if ... elif ... else ...\n",
    "\n",
    "Le bloc `elif` permet d'exécuter des instructions si la condition if ou elif précédente n'est pas remplie mais que la sienne l'est.\n",
    "```python\n",
    "if expression_booléenne:\n",
    "    exécute si vrai\n",
    "elif expression_booléenne_2:\n",
    "    exécute si eb faux mais eb2 vrai\n",
    "elif expression_booléenne_3:\n",
    "    exécute si eb2 faux mais eb3 vrai\n",
    "...\n",
    "else:\n",
    "    exécute si faux\n",
    "```\n",
    "\n",
    "> Quand python exécute le block d'un `if` ou `elif`, il ne regarde pas les conditions suivantes. Il n'exécute un seul block par `IF`\n",
    "\n",
    "> Il peut y avoir autant de `elif` que souhaité."
   ]
  },
  {
   "cell_type": "markdown",
   "metadata": {
    "application/vnd.databricks.v1+cell": {
     "inputWidgets": {},
     "nuid": "213576dc-4360-4714-8314-c031dda0efb8",
     "showTitle": false,
     "title": ""
    }
   },
   "source": [
    "#### TP 7.3 Vérifier un chiffre Partie 3\n",
    "\n",
    "Reprendre le code de l'exercice précedent (TP1.2) en ajoutant un bloc `elif`. Pour le cas ou le rand est égal à 0, afficher un message \"Rand vaut zéro\""
   ]
  },
  {
   "cell_type": "code",
   "execution_count": 26,
   "metadata": {
    "application/vnd.databricks.v1+cell": {
     "inputWidgets": {},
     "nuid": "082e40e5-c3f8-4fb3-9739-b42c745e94d2",
     "showTitle": false,
     "title": ""
    }
   },
   "outputs": [
    {
     "name": "stdout",
     "output_type": "stream",
     "text": [
      "5\n"
     ]
    }
   ],
   "source": [
    "import random \n",
    "\n",
    "random_val = random.randint(-2,10)\n",
    "\n",
    "if random_val == 0:\n",
    "    print(\"random vaut zero \")\n",
    "else:\n",
    "    print(random_val)"
   ]
  },
  {
   "cell_type": "code",
   "execution_count": null,
   "metadata": {},
   "outputs": [],
   "source": []
  },
  {
   "cell_type": "code",
   "execution_count": null,
   "metadata": {},
   "outputs": [],
   "source": []
  }
 ],
 "metadata": {
  "application/vnd.databricks.v1+notebook": {
   "dashboards": [],
   "language": "python",
   "notebookMetadata": {
    "pythonIndentUnit": 4
   },
   "notebookName": "03_les blocks conditionnels",
   "notebookOrigID": 4296648366370320,
   "widgets": {}
  },
  "kernelspec": {
   "display_name": "Python 3 (ipykernel)",
   "language": "python",
   "name": "python3"
  },
  "language_info": {
   "codemirror_mode": {
    "name": "ipython",
    "version": 3
   },
   "file_extension": ".py",
   "mimetype": "text/x-python",
   "name": "python",
   "nbconvert_exporter": "python",
   "pygments_lexer": "ipython3",
   "version": "3.9.7"
  }
 },
 "nbformat": 4,
 "nbformat_minor": 4
}
